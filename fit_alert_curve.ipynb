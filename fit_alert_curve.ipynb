{
 "cells": [
  {
   "cell_type": "code",
   "execution_count": null,
   "metadata": {},
   "outputs": [],
   "source": [
    "import numpy as np\n",
    "from dataframe import Data\n",
    "from SNANA_FITS_to_pd import read_fits\n",
    "%matplotlib inline\n",
    "import matplotlib.pyplot as plt\n",
    "import matplotlib \n",
    "from io_utils import *\n",
    "from random import random\n",
    "%load_ext memory_profiler"
   ]
  },
  {
   "cell_type": "code",
   "execution_count": null,
   "metadata": {},
   "outputs": [],
   "source": [
    "dataset_val = 0"
   ]
  },
  {
   "cell_type": "code",
   "execution_count": null,
   "metadata": {},
   "outputs": [],
   "source": [
    "if dataset_val == 0:\n",
    "    dataset =  \"PLAsTiCC\"\n",
    "    data_ob = load_PLAsTiCC_data()\n",
    "    object_ids = data_ob.get_all_object_ids()\n",
    "    kilonova_ids=data_ob.get_ids_of_event_type(64)\n",
    "    color_band_dict = {0:'C4',1:'C2', 2:'C3', 3:'C1', 4:'k', 5:'C5'}"
   ]
  },
  {
   "cell_type": "code",
   "execution_count": null,
   "metadata": {},
   "outputs": [],
   "source": [
    "if dataset_val == 1:    \n",
    "    dataset = \"ZTF\"\n",
    "    data_ob = load_ztf_data()\n",
    "    object_ids = data_ob.get_all_object_ids()\n",
    "    kilonova_ids = object_ids\n",
    "    color_band_dict = {b'g ':'C2', b'r ':'C3'}"
   ]
  },
  {
   "cell_type": "code",
   "execution_count": null,
   "metadata": {},
   "outputs": [],
   "source": [
    "from LightCurve import LightCurve"
   ]
  },
  {
   "cell_type": "code",
   "execution_count": null,
   "metadata": {},
   "outputs": [],
   "source": [
    "def get_PCs(num_components, all_bands= False):\n",
    "    \n",
    "    if all_bands == True:\n",
    "        PC_dict = np.load(\"principal_components/PC_all_bands_diff_mid_pt_dict.npy\")\n",
    "        PC_dict = PC_dict.item()\n",
    "        PC_out = {}\n",
    "        #num_components = int(num_components)\n",
    "        #print(PC_dict['u'])\n",
    "        PC_out[0] = PC_dict['u'][0:3]\n",
    "        PC_out[1] = PC_dict['r'][0:3]\n",
    "        PC_out[2] = PC_dict['i'][0:3]\n",
    "        PC_out[3] = PC_dict['g'][0:3]\n",
    "        PC_out[4] = PC_dict['z'][0:3]\n",
    "        PC_out[5] = PC_dict['Y'][0:3]\n",
    "        \n",
    "    else:\n",
    "        PC_out={}\n",
    "        PCs = np.load(\"principal_components/PCs.npy\")\n",
    "        for band in data_ob.band_map.keys():\n",
    "            PC_out[band] = PCs[0:num_components]\n",
    "            \n",
    "    return PC_out"
   ]
  },
  {
   "cell_type": "code",
   "execution_count": null,
   "metadata": {},
   "outputs": [],
   "source": [
    "def calc_prediction(coeff, PCs):\n",
    "    predict_comb = np.zeros_like(PCs.shape[1])\n",
    "    for a,b in zip(PCs,coeff): predict_comb=np.add(predict_comb,b*a)\n",
    "    return predict_comb"
   ]
  },
  {
   "cell_type": "code",
   "execution_count": null,
   "metadata": {},
   "outputs": [],
   "source": [
    "def calc_loss(coeff, PCs, light_curve_seg):\n",
    "    index = light_curve_seg!=0\n",
    "    y_pred = calc_prediction(coeff,PCs)\n",
    "    diff = light_curve_seg - y_pred\n",
    "    neg_index = y_pred<0\n",
    "    diff = diff[(index)|(neg_index)]\n",
    "    \n",
    "    #diff = diff[index]\n",
    "    \n",
    "    #error = np.sum(np.square(diff,diff))  np.sum(np.square(regularization_vals-coeff/np.sum(coeff)))*1000\n",
    "    error = np.sum(np.square(diff,diff))\n",
    "    return error"
   ]
  },
  {
   "cell_type": "code",
   "execution_count": null,
   "metadata": {},
   "outputs": [],
   "source": [
    "def get_mid_pt(event_df, bands, current_date=None, color_band_dict=None):\n",
    "    \n",
    "    if current_date is not None:\n",
    "        date_difference = event_df[data_ob.time_col_name] - current_date\n",
    "        past_index = (date_difference>=-50) & (date_difference<=0)\n",
    "        event_df = event_df[past_index]\n",
    "        #print(event_df)\n",
    "        band_mid_points = []\n",
    "        for i,band in enumerate(bands):\n",
    "            #print(band)\n",
    "            band_index = event_df[data_ob.band_col_name] == band\n",
    "            band_df = event_df[band_index]\n",
    "            #print(band_df)\n",
    "            if(len(band_df)>0):\n",
    "                max_index = np.argmax(band_df[data_ob.flux_col_name])\n",
    "                band_mid_points.append(band_df[data_ob.time_col_name][max_index])\n",
    "        if len(band_mid_points)>0:\n",
    "            return np.median(np.array(band_mid_points))\n",
    "        else:\n",
    "            return None\n",
    "    else:\n",
    "        lc = LightCurve(event_df, time_col_name=data_ob.time_col_name, brightness_col_name=data_ob.flux_col_name, brightness_err_col_name=data_ob.flux_err_col_name,band_col_name=data_ob.band_col_name, band_map=data_ob.band_map)\n",
    "        priority_regions = lc.find_region_priority()\n",
    "        priority_region1 = priority_regions[0]\n",
    "        return np.median(priority_region1)"
   ]
  },
  {
   "cell_type": "code",
   "execution_count": null,
   "metadata": {},
   "outputs": [],
   "source": [
    "print(len(object_ids))\n",
    "\n",
    "def get_binned_time(df):\n",
    "    return df[data_ob.time_col_name]-df[data_ob.time_col_name]%2"
   ]
  },
  {
   "cell_type": "code",
   "execution_count": null,
   "metadata": {},
   "outputs": [],
   "source": [
    "from scipy.optimize import minimize"
   ]
  },
  {
   "cell_type": "code",
   "execution_count": null,
   "metadata": {},
   "outputs": [],
   "source": [
    "def get_time_segment(event_df, start_date, end_date, current_date=None):\n",
    "\n",
    "    start_index = event_df[data_ob.time_col_name] >= start_date\n",
    "    end_index = event_df[data_ob.time_col_name] <= end_date \n",
    "    if current_date is None:\n",
    "        return event_df[start_index&end_index]\n",
    "    else:\n",
    "        past_index = event_df[data_ob.time_col_name] <= current_date \n",
    "        return event_df[start_index&end_index&past_index]"
   ]
  },
  {
   "cell_type": "code",
   "execution_count": null,
   "metadata": {},
   "outputs": [],
   "source": [
    "def optimize_coeff(band_df, mid_point_date, current_date, PCs, no_of_predicted_days=51, time_step = 2):\n",
    "    \n",
    "    if(len(band_df)>0): \n",
    "\n",
    "        start_date=mid_point_date-(no_of_predicted_days-1)*time_step/2 \n",
    "        end_date= mid_point_date+(no_of_predicted_days-1)*time_step/2 \n",
    "        start_index = band_df[data_ob.time_col_name] >= start_date\n",
    "        end_index = band_df[data_ob.time_col_name] <= end_date \n",
    "        \n",
    "        past_index = band_df[data_ob.time_col_name] <= current_date \n",
    "        fit_df = band_df[start_index&end_index&past_index]\n",
    "        \n",
    "        if len(fit_df)>0:\n",
    "            \n",
    "            binned_dates = get_binned_time(fit_df)\n",
    "            b2 = (binned_dates-mid_point_date+no_of_predicted_days-1)/2\n",
    "            b2 = b2.astype(int)\n",
    "            light_curve_seg = np.zeros((no_of_predicted_days))\n",
    "            light_curve_seg[b2[:]] = fit_df[data_ob.flux_col_name]\n",
    "            #initial_guess = np.amax(fit_df[data_ob.flux_col_name])*np.array([.93,.03 ,.025])\n",
    "            initial_guess = [.93,.03 ,.025]\n",
    "            result = minimize(calc_loss, initial_guess, args=(PCs, light_curve_seg))\n",
    "            \n",
    "            return result.x\n",
    "        \n",
    "        \n",
    "            predicted_lt_curve = calc_prediction(result.x,PCs)\n",
    "            x_data = np.arange(start_date,end_date+2,2)\n",
    "            \n",
    "            return x_data, predicted_lt_curve, result.x\n",
    "        \n",
    "    return []\n",
    "            "
   ]
  },
  {
   "cell_type": "code",
   "execution_count": null,
   "metadata": {},
   "outputs": [],
   "source": [
    "def predict_lc_coeff(event_df, PC_dict, current_date= None, no_of_predicted_days = 51, time_step=2, bands=None, make_plot=False):\n",
    "    coeff_all_band = {}\n",
    "    \n",
    "    if bands is None:\n",
    "        bands = data_ob.band_map.keys()\n",
    "    mid_point_date = get_mid_pt(event_df, bands, current_date, color_band_dict)\n",
    "    \n",
    "    #print(bands)\n",
    "    #print(mid_point_date)\n",
    "    if mid_point_date is not None:\n",
    "        prediction_start_date=mid_point_date-(no_of_predicted_days-1)*time_step/2 \n",
    "        prediction_end_date= mid_point_date+(no_of_predicted_days-1)*time_step/2 \n",
    "\n",
    "        event_df = get_time_segment(event_df, prediction_start_date, prediction_end_date, current_date)\n",
    "        for band in bands:\n",
    "            band_index = event_df[data_ob.band_col_name] == band\n",
    "            band_df = event_df[band_index]\n",
    "            #print(band_df)\n",
    "            PCs = PC_dict[band]\n",
    "            if len(band_df)>0:\n",
    "                \n",
    "                binned_dates = get_binned_time(band_df)\n",
    "                b2 = (binned_dates-mid_point_date+no_of_predicted_days-1)/2\n",
    "                b2 = b2.astype(int)\n",
    "                light_curve_seg = np.zeros((no_of_predicted_days))\n",
    "                light_curve_seg[b2[:]] = band_df[data_ob.flux_col_name]\n",
    "                initial_guess = np.amax(band_df[data_ob.flux_col_name])*np.array([.93,.03 ,.025])\n",
    "                result = minimize(calc_loss, initial_guess, args=(PCs, light_curve_seg))\n",
    "                coeff_all_band[band] = result.x\n",
    "                \n",
    "            else:\n",
    "                coeff_all_band[band] = [0, 0, 0]\n",
    "                \n",
    "    return coeff_all_band\n",
    "            "
   ]
  },
  {
   "cell_type": "code",
   "execution_count": null,
   "metadata": {},
   "outputs": [],
   "source": [
    "def plot_predicted_bands(all_band_coeff_dict, PC_dict, current_date=None, bands=None, num_buffer_days = None):\n",
    "    if bands is None: \n",
    "        bands = data_ob.band_map.keys()\n",
    "    mid_point_date = get_mid_pt(event_df, bands, current_date, color_band_dict)\n",
    "    \n",
    "    lc = LightCurve(event_df, time_col_name=data_ob.time_col_name, brightness_col_name=data_ob.flux_col_name, brightness_err_col_name=data_ob.flux_err_col_name,band_col_name=data_ob.band_col_name, band_map=data_ob.band_map)\n",
    "    fig = lc.plot_light_curve(color_band_dict=color_band_dict, alpha=0.3, mark_maximum = False, mark_label= False, plot_points = True)\n",
    "    \n",
    "    if mid_point_date is not None:\n",
    "        \n",
    "        for band, coeff in all_band_coeff_dict.items():\n",
    "            \n",
    "            if current_date is None:\n",
    "                end_date = mid_point_date +50\n",
    "            else:\n",
    "                end_date = current_date\n",
    "\n",
    "            fig = lc.plot_light_curve(color_band_dict, fig = fig, start_date= mid_point_date -50, end_date=end_date, band = band, alpha=1, mark_maximum = False, plot_points = True)\n",
    "\n",
    "            if len(coeff)!=0:\n",
    "                predicted_lc= calc_prediction(coeff,PC_dict[band])\n",
    "                #plt.plot(x_data, predicted_lc, color = color_band_dict[band])\n",
    "                time_data= np.arange(0,102,2) + mid_point_date - 50\n",
    "            else: \n",
    "                predicted_lc=[]\n",
    "                time_data=[]\n",
    "                \n",
    "            \n",
    "\n",
    "            plt.plot(time_data, predicted_lc, color = color_band_dict[band])\n",
    "\n",
    "            \n",
    "        \n",
    "            \n",
    "        if num_buffer_days is not None: \n",
    "            plt.xlim([mid_point_date-50-num_buffer_days, mid_point_date+50+num_buffer_days])\n",
    "            \n",
    "            \n",
    "        _, _, ymin, ymax = plt.axis()    \n",
    "        plt.plot([mid_point_date,mid_point_date],[ymin/2,ymax/2],color = \"slateblue\", ls=\"dashed\", label=\"median of max dates\")\n",
    "    \n",
    "    if current_date is not None:\n",
    "        _, _, ymin, ymax = plt.axis() \n",
    "        plt.plot([current_date,current_date],[ymin/2,ymax/2],color= \"darkorange\", ls=\"dashed\", label=\"current date\")\n",
    "        \n",
    "    plt.xlabel(\"mjd\", fontsize=20)\n",
    "    plt.ylabel(\"flux\", fontsize=20)\n",
    "    "
   ]
  },
  {
   "cell_type": "code",
   "execution_count": null,
   "metadata": {},
   "outputs": [],
   "source": [
    "import time"
   ]
  },
  {
   "cell_type": "code",
   "execution_count": null,
   "metadata": {},
   "outputs": [],
   "source": [
    "print(len(object_ids))"
   ]
  },
  {
   "cell_type": "code",
   "execution_count": null,
   "metadata": {},
   "outputs": [],
   "source": [
    "def add_to_coeff_arr(coeff_arr, coeff_dict):\n",
    "    all_coeff = np.array([])\n",
    "    for key, value in coeff_dict.items():\n",
    "        if all_coeff.size==0:\n",
    "            all_coeff = np.asarray(value)\n",
    "        else:\n",
    "            all_coeff= np.concatenate((all_coeff, value), axis = 0)\n",
    "    #print(all_coeff)\n",
    "        \n",
    "    if all_coeff.size!=0:\n",
    "        coeff_arr.append(all_coeff)\n",
    "        event_type.append(data_ob.get_object_type_number(object_id))\n",
    "    return coeff_arr"
   ]
  },
  {
   "cell_type": "code",
   "execution_count": null,
   "metadata": {},
   "outputs": [],
   "source": [
    "def plot_coeff_dict(fig, coeff_dict, object_id):\n",
    "    ax = fig.gca()\n",
    "    for key, value in coeff_dict.items():\n",
    "        if data_ob.get_object_type_number(object_id) == 64:\n",
    "            color = \"black\"\n",
    "        else: \n",
    "            color = \"yellow\"\n",
    "        ax.scatter(value[0], value[1], value[2], color = color,alpha=.4)\n",
    "        \n",
    "    return fig\n",
    "        "
   ]
  },
  {
   "cell_type": "code",
   "execution_count": null,
   "metadata": {
    "scrolled": true
   },
   "outputs": [],
   "source": [
    "PC_dict = get_PCs(3,all_bands=False)\n",
    "start = time.time()\n",
    "coeff_arr = []\n",
    "event_type = []\n",
    "#object_ids = data_ob.get_ids_of_event_type(6)\n",
    "fig = plt.figure()\n",
    "ax = fig.gca(projection='3d')\n",
    "for object_id in object_ids:\n",
    "    \n",
    "    event_df = data_ob.get_data_of_event(object_id)\n",
    "    mid_point_date = get_mid_pt(event_df, data_ob.band_map.keys())\n",
    "    #print(mid_point_date)\n",
    "    current_date = mid_point_date+ random()*88-44\n",
    "    #print(current_date)\n",
    "    coeff_dict = predict_lc_coeff(event_df, PC_dict, current_date=current_date)\n",
    "    \n",
    "    fig = plot_coeffs(fig, coeff_dict, object_id)\n",
    "    #print(coeff_dict)\n",
    "    coeff_arr = add_to_coeff_arr(coeff_arr, coeff_dict)\n",
    "    #print(coeff_dict)\n",
    "    #fig = plot_predicted_bands(coeff_dict, PC_dict, num_buffer_days=25, current_date=current_date)\n",
    "    #ax=plt.gca()\n",
    "    #plt.text(.01,.94,data_ob.object_id_col_name+\": \"+str(object_id),fontsize=15, transform=ax.transAxes)\n",
    "    #if dataset_val == 0:\n",
    "        #print(data_ob.get_object_type_for_PLAsTiCC(object_id))\n",
    "    #    plt.text(.01,.88,\"Type: \"+data_ob.get_object_type_for_PLAsTiCC(object_id),fontsize=15, transform=ax.transAxes)\n",
    "    #plt.legend(loc=\"upper right\")\n",
    "    \n",
    "    #coeff_dict = predict_alert_light_curves(current_date,event_df, PC_dict)\n",
    "    #print(data_ob.get_object_type(object_id))\n",
    "    #plt.savefig(\"kilonova_curves/fit_lc_with_PCs/target_\"+str(data_ob.get_object_type_number(object_id))+\"/object_\"+str(object_id)+\"highest_priority_random_curr_date\")\n",
    "    #plt.show()\n",
    "    #plt.close('all')\n",
    "\n",
    "for object_id in kilonova_ids:\n",
    "    \n",
    "    event_df = data_ob.get_data_of_event(object_id)\n",
    "    mid_point_date = get_mid_pt(event_df, data_ob.band_map.keys())\n",
    "    #print(mid_point_date)\n",
    "    current_date = mid_point_date+ random()*88-44\n",
    "    #print(current_date)\n",
    "    coeff_dict = predict_lc_coeff(event_df, PC_dict, current_date=current_date)\n",
    "    \n",
    "    fig = plot_coeffs(fig, coeff_dict, object_id)\n",
    "    #print(coeff_dict)\n",
    "    coeff_arr = add_to_coeff_arr(coeff_arr, coeff_dict)\n",
    "\n",
    "plt.show()   \n",
    "#end = time.time()\n",
    "#print(end - start)"
   ]
  },
  {
   "cell_type": "code",
   "execution_count": null,
   "metadata": {},
   "outputs": [],
   "source": [
    "np.save(\"coeff_arr\", coeff_arr)"
   ]
  },
  {
   "cell_type": "code",
   "execution_count": null,
   "metadata": {},
   "outputs": [],
   "source": [
    "for element in coeff_arr:\n",
    "    for k in range(6):\n",
    "        coeffs = element[k:k+3]\n",
    "        "
   ]
  },
  {
   "cell_type": "code",
   "execution_count": null,
   "metadata": {},
   "outputs": [],
   "source": [
    "def plot_coeff_arr(fig, coeff_arr, o object_id):\n",
    "    ax = fig.gca()\n",
    "    for key, value in coeff_dict.items():\n",
    "        if data_ob.get_object_type_number(object_id) == 64:\n",
    "            color = \"black\"\n",
    "        else: \n",
    "            color = \"yellow\"\n",
    "        ax.scatter(value[0], value[1], value[2], color = color,alpha=.4)\n",
    "        \n",
    "    return fig"
   ]
  },
  {
   "cell_type": "code",
   "execution_count": null,
   "metadata": {},
   "outputs": [],
   "source": [
    "PC_dict = get_PCs(3,all_bands=False)\n",
    "start = time.time()\n",
    "coeff_arr = []\n",
    "event_type = []\n",
    "#object_ids = data_ob.get_ids_of_event_type(6)\n",
    "fig = plt.figure()\n",
    "ax = fig.gca(projection='3d')\n",
    "for object_id in kilonova_ids:\n",
    "    \n",
    "    event_df = data_ob.get_data_of_event(object_id)\n",
    "    mid_point_date = get_mid_pt(event_df, data_ob.band_map.keys())\n",
    "    #print(mid_point_date)\n",
    "    current_date = mid_point_date+ random()*88-44\n",
    "    #print(current_date)\n",
    "    coeff_dict = predict_lc_coeff(event_df, PC_dict, current_date=current_date)\n",
    "    \n",
    "    fig = plot_coeffs(fig, coeff_dict, object_id)\n",
    "    #print(coeff_dict)\n",
    "    coeff_arr = add_to_coeff_arr(coeff_arr, coeff_dict)\n",
    "\n",
    "plt.show()   "
   ]
  },
  {
   "cell_type": "code",
   "execution_count": null,
   "metadata": {},
   "outputs": [],
   "source": []
  },
  {
   "cell_type": "code",
   "execution_count": null,
   "metadata": {},
   "outputs": [],
   "source": [
    "coeff_arr = np.asarray(coeff_arr)"
   ]
  },
  {
   "cell_type": "code",
   "execution_count": null,
   "metadata": {},
   "outputs": [],
   "source": [
    "coeff_arr[2]"
   ]
  },
  {
   "cell_type": "code",
   "execution_count": null,
   "metadata": {},
   "outputs": [],
   "source": []
  },
  {
   "cell_type": "code",
   "execution_count": null,
   "metadata": {},
   "outputs": [],
   "source": [
    "from sklearn.decomposition import PCA"
   ]
  },
  {
   "cell_type": "code",
   "execution_count": null,
   "metadata": {},
   "outputs": [],
   "source": [
    "pca = PCA(n_components=2)\n",
    "pca.fit(coeff_arr.T)\n",
    "PC_coeff = pca.components_"
   ]
  },
  {
   "cell_type": "code",
   "execution_count": null,
   "metadata": {},
   "outputs": [],
   "source": [
    "PC_coeff = PC_coeff.T"
   ]
  },
  {
   "cell_type": "code",
   "execution_count": null,
   "metadata": {},
   "outputs": [],
   "source": [
    "PC_coeff.shape"
   ]
  },
  {
   "cell_type": "code",
   "execution_count": null,
   "metadata": {},
   "outputs": [],
   "source": [
    "np.save(\"PC_\")"
   ]
  },
  {
   "cell_type": "code",
   "execution_count": null,
   "metadata": {},
   "outputs": [],
   "source": [
    "from mpl_toolkits import mplot3d"
   ]
  },
  {
   "cell_type": "code",
   "execution_count": null,
   "metadata": {},
   "outputs": [],
   "source": [
    "fig = plt.figure()\n",
    "#ax = plt.axes(projection='3d')\n",
    "for object_type in np.unique(data_ob.df_metadata[data_ob.target_col_name]):\n",
    "    index_current_type = np.where(np.asarray(event_type)==object_type)\n",
    "    current_type_all_coeffs = PC_coeff[index_current_type]\n",
    "    if object_type==64:\n",
    "        color = \"black\"\n",
    "    else:\n",
    "        color = \"yellow\"\n",
    "    for current_type_coeffs in current_type_all_coeffs:\n",
    "        if object_type!=64:\n",
    "            plt.scatter(current_type_coeffs[0],current_type_coeffs[1], color= color,alpha=.7)\n",
    "        \n",
    "index_current_type = np.where(np.asarray(event_type)==64)\n",
    "current_type_all_coeffs = PC_coeff[index_current_type]\n",
    "for current_type_coeffs in current_type_all_coeffs:\n",
    "    #plt.scatter(current_type_coeffs[0],current_type_coeffs[1], color= color,alpha=.2)\n",
    "    plt.scatter(current_type_coeffs[0],current_type_coeffs[1], color=\"black\",alpha=.7)\n",
    "    \n",
    "plt.xlim((-0.005,.005))\n",
    "plt.ylim(-.005,0.015)\n",
    "plt.show()"
   ]
  },
  {
   "cell_type": "code",
   "execution_count": null,
   "metadata": {},
   "outputs": [],
   "source": [
    "index_current_type = np.where(np.asarray(event_type)==64)\n",
    "current_type_all_coeffs = PC_coeff[index_current_type]\n",
    "print(current_type_all_coeffs)\n",
    "for current_type_coeffs in current_type_all_coeffs:\n",
    "    #plt.scatter(current_type_coeffs[0],current_type_coeffs[1], color= color,alpha=.2)\n",
    "    plt.scatter(current_type_coeffs[0],current_type_coeffs[1], color=\"black\",alpha=.5)\n",
    "plt.show()"
   ]
  },
  {
   "cell_type": "code",
   "execution_count": null,
   "metadata": {},
   "outputs": [],
   "source": [
    "print(index_current_type)"
   ]
  },
  {
   "cell_type": "code",
   "execution_count": null,
   "metadata": {},
   "outputs": [],
   "source": [
    "print(np.where(np.asarray(event_type)==64))"
   ]
  },
  {
   "cell_type": "code",
   "execution_count": null,
   "metadata": {},
   "outputs": [],
   "source": [
    "event_type"
   ]
  },
  {
   "cell_type": "code",
   "execution_count": null,
   "metadata": {},
   "outputs": [],
   "source": [
    "len(event_type)"
   ]
  },
  {
   "cell_type": "code",
   "execution_count": null,
   "metadata": {},
   "outputs": [],
   "source": []
  }
 ],
 "metadata": {
  "kernelspec": {
   "display_name": "Python 3",
   "language": "python",
   "name": "python3"
  },
  "language_info": {
   "codemirror_mode": {
    "name": "ipython",
    "version": 3
   },
   "file_extension": ".py",
   "mimetype": "text/x-python",
   "name": "python",
   "nbconvert_exporter": "python",
   "pygments_lexer": "ipython3",
   "version": "3.5.6"
  }
 },
 "nbformat": 4,
 "nbformat_minor": 4
}

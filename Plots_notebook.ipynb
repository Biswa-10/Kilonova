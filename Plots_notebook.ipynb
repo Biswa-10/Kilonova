{
 "cells": [
  {
   "cell_type": "markdown",
   "metadata": {},
   "source": [
    "# Filter Plots "
   ]
  },
  {
   "cell_type": "code",
   "execution_count": null,
   "metadata": {},
   "outputs": [],
   "source": [
    "import numpy as np\n",
    "from dataframe import Data\n",
    "%matplotlib inline\n",
    "import matplotlib.pyplot as plt\n",
    "import matplotlib \n",
    "from io_utils import *\n",
    "from random import random\n",
    "from filter_transients import *\n",
    "from matplotlib.patches import Rectangle"
   ]
  },
  {
   "cell_type": "markdown",
   "metadata": {},
   "source": [
    "## Filter Region"
   ]
  },
  {
   "cell_type": "code",
   "execution_count": null,
   "metadata": {},
   "outputs": [],
   "source": [
    "from LightCurve import LightCurve"
   ]
  },
  {
   "cell_type": "code",
   "execution_count": null,
   "metadata": {},
   "outputs": [],
   "source": [
    "dataset =  \"PLAsTiCC\"\n",
    "data_ob = load_PLAsTiCC_data()\n",
    "object_ids = data_ob.get_all_object_ids()\n",
    "kilonova_ids=data_ob.get_ids_of_event_type(64)\n",
    "color_band_dict = {0:'C4',1:'C2', 2:'C3', 3:'C1', 4:'k', 5:'C5'}\n",
    "bands = [0,1,2,3,4,5]\n",
    "#transient_filter_load_saved(data_ob=data_ob)"
   ]
  },
  {
   "cell_type": "code",
   "execution_count": null,
   "metadata": {},
   "outputs": [],
   "source": [
    "object_id=4220\n",
    "lc = LightCurve(data_ob, object_id)\n",
    "color_band_dict = {0:'C4',1:'C4', 2:'C4', 3:'C4', 4:'C4', 5:'C4'}\n",
    "fig = lc.plot_max_flux_regions(color_band_dict=color_band_dict, plot_points=True, priority=1, mark_maximum=False)\n",
    "ax = fig.gca()\n",
    "ax.annotate(\"Event ID: \"+str(object_id), xy=(.14,.81),xycoords='figure fraction', fontsize=15)\n",
    "ax.annotate(\"Type: \"+ data_ob.get_object_type_for_PLAsTiCC(object_id=object_id), xy=(.14,.76),xycoords='figure fraction',fontsize=15)\n",
    "pr = lc.find_region_priority()\n",
    "median = np.median(pr[0])\n",
    "ax.axvline(median,ymin=0, ymax=1, label = \"median day\", color = 'royalblue')\n",
    "ax.axvline(median-10,ymin =0, ymax=1, color = 'red')\n",
    "ax.axvline(median+10,ymin =0, ymax=1, color = 'red')\n",
    "ax.axhline(100, xmin=0, xmax=1, color = 'red')\n",
    "ax.axhline(-100, xmin=0, xmax=1, color = 'red')\n",
    "xlim = ax.get_xlim()\n",
    "ylim = ax.get_ylim()\n",
    "rect1 = Rectangle((median-10,ylim[0]),height = ylim[1]-ylim[0], width =20, color='lightgrey', alpha =.5,label=\"excluded region\")\n",
    "rect2 = Rectangle((xlim[0], -100), height = 200, width = xlim[1]-xlim[0], color = 'lightgrey', alpha = .5)\n",
    "ax.add_patch(rect1)\n",
    "#ax.axvline([0,np.amax(lc.df[lc.band_col_name])])\n",
    "ax.add_patch(rect2)\n",
    "ax.legend()\n",
    "#fig.savefig(\"important_plots/exclude4\")\n",
    "\n",
    "print(data_ob.get_object_type_for_PLAsTiCC(object_id=4220))\n",
    "print(object_id)"
   ]
  },
  {
   "cell_type": "code",
   "execution_count": null,
   "metadata": {},
   "outputs": [],
   "source": []
  },
  {
   "cell_type": "markdown",
   "metadata": {},
   "source": [
    "## Penalty distribution"
   ]
  },
  {
   "cell_type": "code",
   "execution_count": null,
   "metadata": {},
   "outputs": [],
   "source": [
    "dataset_val = 1"
   ]
  },
  {
   "cell_type": "code",
   "execution_count": null,
   "metadata": {},
   "outputs": [],
   "source": [
    "if dataset_val == 0:\n",
    "    dataset =  \"PLAsTiCC\"\n",
    "    data_ob = load_PLAsTiCC_data()\n",
    "    object_ids = data_ob.get_all_object_ids()\n",
    "    kilonova_ids=data_ob.get_ids_of_event_type(64)\n",
    "    color_band_dict = {0:'C4',1:'C2', 2:'C3', 3:'C1', 4:'k', 5:'C5'}\n",
    "    bands = [0,1,2,3,4,5]"
   ]
  },
  {
   "cell_type": "code",
   "execution_count": null,
   "metadata": {},
   "outputs": [],
   "source": [
    "if dataset_val == 1:    \n",
    "    dataset = \"ZTF\"\n",
    "    data_ob = load_ztf_train_data()\n",
    "    data_ob.df_data.sort(['SNID','MJD'])\n",
    "    data_ob.df_metadata.sort(['SNID'])\n",
    "    #Error with load_ztf_mixed()\n",
    "    object_ids = data_ob.get_all_object_ids()\n",
    "    #kilonova_ids = object_ids\n",
    "    bands = ['g', 'r']\n",
    "    color_band_dict = {'g':'C2', 'r':'C3'}"
   ]
  },
  {
   "cell_type": "code",
   "execution_count": null,
   "metadata": {},
   "outputs": [],
   "source": [
    "data_ob.df_data"
   ]
  },
  {
   "cell_type": "code",
   "execution_count": null,
   "metadata": {},
   "outputs": [],
   "source": [
    "transient_events_penalty = []\n",
    "periodic_events_penalty = []\n",
    "kn_events_penalty = []\n",
    "nonkn_events_penalty = []\n",
    "\n",
    "kn_type_nums = [150,151]\n",
    "\n",
    "for object_id in object_ids:\n",
    "    object_df = data_ob.df_data[data_ob.df_data[data_ob.object_id_col_name] == object_id]\n",
    "    #print(object_df)\n",
    "    penalty = calc_priodic_penalty(data_ob, object_df)\n",
    "    if data_ob.is_transient(object_id):\n",
    "        transient_events_penalty.append(penalty)\n",
    "    else:\n",
    "        periodic_events_penalty.append(penalty)\n",
    "        \n",
    "    \n",
    "    if data_ob.get_object_type_number(object_id) in kn_type_nums:\n",
    "        kn_events_penalty.append(penalty)\n",
    "    else:\n",
    "        nonkn_events_penalty.append(penalty)\n",
    "    \n",
    "    "
   ]
  },
  {
   "cell_type": "code",
   "execution_count": null,
   "metadata": {},
   "outputs": [],
   "source": [
    "plot_distribution(transient_events_penalty, periodic_events_penalty, label1=\"Transient\", label2 =\"Periodic\")\n",
    "plt.show()"
   ]
  },
  {
   "cell_type": "code",
   "execution_count": null,
   "metadata": {},
   "outputs": [],
   "source": [
    "plot_distribution(kn_events_penalty, nonkn_events_penalty, label1=\"Kilonovae\", label2 =\"Non-kilonovae\", cut=8)\n",
    "plt.show()"
   ]
  },
  {
   "cell_type": "code",
   "execution_count": null,
   "metadata": {},
   "outputs": [],
   "source": [
    "transient_events_penalty = []\n",
    "periodic_events_penalty = []\n",
    "kn_events_penalty = []\n",
    "nonkn_events_penalty = []\n",
    "\n",
    "kn_type_nums = [64]\n",
    "\n",
    "for object_id in object_ids:\n",
    "    object_df = data_ob.df_data[data_ob.df_data[data_ob.object_id_col_name] == object_id]\n",
    "    max_time = np.amax(object_df[data_ob.time_col_name])\n",
    "    min_time = max_time-365\n",
    "    time_index = object_df[data_ob.time_col_name]>=min_time\n",
    "    object_df = object_df[time_index]\n",
    "    #print(object_df)\n",
    "    penalty = calc_priodic_penalty(data_ob, object_df)\n",
    "    if data_ob.is_transient(object_id)==1:\n",
    "        transient_events_penalty.append(penalty)\n",
    "    elif data_ob.is_transient(object_id)==0:\n",
    "        periodic_events_penalty.append(penalty)\n",
    "        \n",
    "    \n",
    "    if data_ob.get_object_type_number(object_id) in kn_type_nums:\n",
    "        kn_events_penalty.append(penalty)\n",
    "    else:\n",
    "        nonkn_events_penalty.append(penalty)\n",
    "    "
   ]
  },
  {
   "cell_type": "code",
   "execution_count": null,
   "metadata": {},
   "outputs": [],
   "source": [
    "plot_distribution(transient_events_penalty, periodic_events_penalty, label1=\"Transient\", label2 =\"Periodic\")\n",
    "plt.show()"
   ]
  },
  {
   "cell_type": "code",
   "execution_count": null,
   "metadata": {},
   "outputs": [],
   "source": [
    "plot_distribution(kn_events_penalty, nonkn_events_penalty, label1=\"Kilonovae\", label2 =\"Non-kilonovae\", cut=8)\n",
    "plt.show()"
   ]
  },
  {
   "cell_type": "markdown",
   "metadata": {},
   "source": [
    "# Light curves:"
   ]
  },
  {
   "cell_type": "code",
   "execution_count": null,
   "metadata": {},
   "outputs": [],
   "source": [
    "for ob_id in object_ids:\n",
    "    pc = Predict_lc"
   ]
  },
  {
   "cell_type": "code",
   "execution_count": null,
   "metadata": {},
   "outputs": [],
   "source": [
    "from Predict_lc import PredictLightCurve"
   ]
  },
  {
   "cell_type": "code",
   "execution_count": null,
   "metadata": {},
   "outputs": [],
   "source": [
    "pc = Predict_lc()"
   ]
  },
  {
   "cell_type": "code",
   "execution_count": null,
   "metadata": {
    "scrolled": true
   },
   "outputs": [],
   "source": [
    "decouple_prediction_bands = True\n",
    "decouple_pc_bands = True\n",
    "mark_maximum = False\n",
    "use_filter = False\n",
    "min_flux_threshold = 20\n",
    "num_pc_components = 3\n",
    "use_random_current_date = False\n",
    "dataset_val =0\n",
    "\n",
    "arr103 = []\n",
    "for object_id in object_ids:\n",
    "    #object_id = 136110\n",
    "    event_df = data_ob.get_data_of_event(object_id)\n",
    "    #print(event_df)\n",
    "    pc = PredictLightCurve(data_ob, object_id=object_id)\n",
    "    #pc.lc.plot_light_curve(color_band_dict=color_band_dict)\n",
    "    current_date = None\n",
    "    if use_random_current_date:\n",
    "        #median_date = np.median(pc.lc.dates_of_maximum)\n",
    "        #current_date = median_date+random()*50-25\n",
    "        current_min = np.amin(lc.df[data_ob.time_col_name])\n",
    "        current_max = np.amax(lc.df[data_ob.time_col_name])\n",
    "        current_date = int(random()*(current_max-current_min)+current_min)\n",
    "    #print(current_date)\n",
    "    coeff_dict, num_pts_dict = pc.predict_lc_coeff(current_date=current_date,\n",
    "                                                   num_pc_components=num_pc_components, \n",
    "                                                   decouple_pc_bands=decouple_pc_bands, \n",
    "                                                   decouple_prediction_bands=decouple_prediction_bands, \n",
    "                                                   min_flux_threshold=min_flux_threshold, \n",
    "                                                   bands=bands)\n",
    "    #print(coeff_dict)\n",
    "    object_type_num = data_ob.get_object_type_number(object_id)\n",
    "\n",
    "    if dataset_val == 0:\n",
    "        object_type = data_ob.get_object_type_for_PLAsTiCC(object_id)\n",
    "    #if object_type_num == 101: \n",
    "    #    arr103.append(object_id)\n",
    "    #print(object_type_num)\n",
    "\n",
    "    fig = pc.plot_predicted_bands(all_band_coeff_dict=coeff_dict, \n",
    "                                      color_band_dict=color_band_dict, \n",
    "                                      mark_maximum=mark_maximum, \n",
    "                                      axes_lims = True)\n",
    "    fig.gca().annotate(\"Type: \"+ object_type, xy=(.09,.86),xycoords='figure fraction',fontsize=15)\n",
    "    plt.show()\n",
    "    plt.close('all')"
   ]
  },
  {
   "cell_type": "code",
   "execution_count": null,
   "metadata": {},
   "outputs": [],
   "source": []
  },
  {
   "cell_type": "code",
   "execution_count": null,
   "metadata": {},
   "outputs": [],
   "source": []
  },
  {
   "cell_type": "code",
   "execution_count": null,
   "metadata": {},
   "outputs": [],
   "source": []
  },
  {
   "cell_type": "code",
   "execution_count": null,
   "metadata": {},
   "outputs": [],
   "source": []
  },
  {
   "cell_type": "code",
   "execution_count": null,
   "metadata": {},
   "outputs": [],
   "source": []
  },
  {
   "cell_type": "code",
   "execution_count": null,
   "metadata": {},
   "outputs": [],
   "source": []
  },
  {
   "cell_type": "code",
   "execution_count": null,
   "metadata": {},
   "outputs": [],
   "source": []
  },
  {
   "cell_type": "code",
   "execution_count": null,
   "metadata": {},
   "outputs": [],
   "source": []
  },
  {
   "cell_type": "code",
   "execution_count": null,
   "metadata": {},
   "outputs": [],
   "source": []
  },
  {
   "cell_type": "code",
   "execution_count": null,
   "metadata": {},
   "outputs": [],
   "source": []
  }
 ],
 "metadata": {
  "kernelspec": {
   "display_name": "Python 3",
   "language": "python",
   "name": "python3"
  },
  "language_info": {
   "codemirror_mode": {
    "name": "ipython",
    "version": 3
   },
   "file_extension": ".py",
   "mimetype": "text/x-python",
   "name": "python",
   "nbconvert_exporter": "python",
   "pygments_lexer": "ipython3",
   "version": "3.7.7"
  }
 },
 "nbformat": 4,
 "nbformat_minor": 4
}

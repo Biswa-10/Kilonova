{
 "cells": [
  {
   "cell_type": "code",
   "execution_count": 1,
   "metadata": {},
   "outputs": [],
   "source": [
    "from Predict_lc import PredictLightCurve"
   ]
  },
  {
   "cell_type": "code",
   "execution_count": 2,
   "metadata": {},
   "outputs": [],
   "source": [
    "import numpy as np\n",
    "from dataframe import Data\n",
    "from io_utils import *\n",
    "import matplotlib.pyplot as plt\n",
    "from astropy.table import Table, vstack\n",
    "import pandas as pd"
   ]
  },
  {
   "cell_type": "code",
   "execution_count": 3,
   "metadata": {},
   "outputs": [],
   "source": [
    "from ipywidgets import FloatProgress\n",
    "from tqdm.notebook import tqdm"
   ]
  },
  {
   "cell_type": "code",
   "execution_count": 4,
   "metadata": {},
   "outputs": [
    {
     "ename": "KeyError",
     "evalue": "'SNID'",
     "output_type": "error",
     "traceback": [
      "\u001b[0;31m---------------------------------------------------------------------------\u001b[0m",
      "\u001b[0;31mKeyError\u001b[0m                                  Traceback (most recent call last)",
      "\u001b[0;32m<ipython-input-4-936cb5401d7d>\u001b[0m in \u001b[0;36m<module>\u001b[0;34m()\u001b[0m\n\u001b[1;32m     12\u001b[0m \u001b[0mtest_kilonova_ids\u001b[0m \u001b[0;34m=\u001b[0m \u001b[0mtest_ob\u001b[0m\u001b[0;34m.\u001b[0m\u001b[0mget_ids_of_event_type\u001b[0m\u001b[0;34m(\u001b[0m\u001b[0;36m150\u001b[0m\u001b[0;34m)\u001b[0m\u001b[0;34m\u001b[0m\u001b[0m\n\u001b[1;32m     13\u001b[0m \u001b[0mtest_kilonova_ids\u001b[0m \u001b[0;34m=\u001b[0m \u001b[0mvstack\u001b[0m\u001b[0;34m(\u001b[0m\u001b[0;34m[\u001b[0m\u001b[0mtest_kilonova_ids\u001b[0m\u001b[0;34m,\u001b[0m \u001b[0mtest_ob\u001b[0m\u001b[0;34m.\u001b[0m\u001b[0mget_ids_of_event_type\u001b[0m\u001b[0;34m(\u001b[0m\u001b[0;36m151\u001b[0m\u001b[0;34m)\u001b[0m\u001b[0;34m]\u001b[0m\u001b[0;34m)\u001b[0m\u001b[0;34m\u001b[0m\u001b[0m\n\u001b[0;32m---> 14\u001b[0;31m \u001b[0mtest_kilonova_ids\u001b[0m \u001b[0;34m=\u001b[0m \u001b[0mtest_kilonova_ids\u001b[0m\u001b[0;34m[\u001b[0m\u001b[0;34m'SNID'\u001b[0m\u001b[0;34m]\u001b[0m\u001b[0;34m\u001b[0m\u001b[0m\n\u001b[0m\u001b[1;32m     15\u001b[0m \u001b[0mtest_ob\u001b[0m\u001b[0;34m.\u001b[0m\u001b[0mdf_data\u001b[0m\u001b[0;34m.\u001b[0m\u001b[0msort\u001b[0m\u001b[0;34m(\u001b[0m\u001b[0;34m[\u001b[0m\u001b[0;34m'SNID'\u001b[0m\u001b[0;34m,\u001b[0m\u001b[0;34m'MJD'\u001b[0m\u001b[0;34m]\u001b[0m\u001b[0;34m)\u001b[0m\u001b[0;34m\u001b[0m\u001b[0m\n\u001b[1;32m     16\u001b[0m \u001b[0mtest_ob\u001b[0m\u001b[0;34m.\u001b[0m\u001b[0mdf_metadata\u001b[0m\u001b[0;34m.\u001b[0m\u001b[0msort\u001b[0m\u001b[0;34m(\u001b[0m\u001b[0;34m[\u001b[0m\u001b[0;34m'SNID'\u001b[0m\u001b[0;34m]\u001b[0m\u001b[0;34m)\u001b[0m\u001b[0;34m\u001b[0m\u001b[0m\n",
      "\u001b[0;32m/home/biswajit/anaconda3/envs/fink/lib/python3.5/site-packages/astropy/table/table.py\u001b[0m in \u001b[0;36m__getitem__\u001b[0;34m(self, item)\u001b[0m\n\u001b[1;32m   1347\u001b[0m     \u001b[0;32mdef\u001b[0m \u001b[0m__getitem__\u001b[0m\u001b[0;34m(\u001b[0m\u001b[0mself\u001b[0m\u001b[0;34m,\u001b[0m \u001b[0mitem\u001b[0m\u001b[0;34m)\u001b[0m\u001b[0;34m:\u001b[0m\u001b[0;34m\u001b[0m\u001b[0m\n\u001b[1;32m   1348\u001b[0m         \u001b[0;32mif\u001b[0m \u001b[0misinstance\u001b[0m\u001b[0;34m(\u001b[0m\u001b[0mitem\u001b[0m\u001b[0;34m,\u001b[0m \u001b[0mstr\u001b[0m\u001b[0;34m)\u001b[0m\u001b[0;34m:\u001b[0m\u001b[0;34m\u001b[0m\u001b[0m\n\u001b[0;32m-> 1349\u001b[0;31m             \u001b[0;32mreturn\u001b[0m \u001b[0mself\u001b[0m\u001b[0;34m.\u001b[0m\u001b[0mcolumns\u001b[0m\u001b[0;34m[\u001b[0m\u001b[0mitem\u001b[0m\u001b[0;34m]\u001b[0m\u001b[0;34m\u001b[0m\u001b[0m\n\u001b[0m\u001b[1;32m   1350\u001b[0m         \u001b[0;32melif\u001b[0m \u001b[0misinstance\u001b[0m\u001b[0;34m(\u001b[0m\u001b[0mitem\u001b[0m\u001b[0;34m,\u001b[0m \u001b[0;34m(\u001b[0m\u001b[0mint\u001b[0m\u001b[0;34m,\u001b[0m \u001b[0mnp\u001b[0m\u001b[0;34m.\u001b[0m\u001b[0minteger\u001b[0m\u001b[0;34m)\u001b[0m\u001b[0;34m)\u001b[0m\u001b[0;34m:\u001b[0m\u001b[0;34m\u001b[0m\u001b[0m\n\u001b[1;32m   1351\u001b[0m             \u001b[0;32mreturn\u001b[0m \u001b[0mself\u001b[0m\u001b[0;34m.\u001b[0m\u001b[0mRow\u001b[0m\u001b[0;34m(\u001b[0m\u001b[0mself\u001b[0m\u001b[0;34m,\u001b[0m \u001b[0mitem\u001b[0m\u001b[0;34m)\u001b[0m\u001b[0;34m\u001b[0m\u001b[0m\n",
      "\u001b[0;32m/home/biswajit/anaconda3/envs/fink/lib/python3.5/site-packages/astropy/table/table.py\u001b[0m in \u001b[0;36m__getitem__\u001b[0;34m(self, item)\u001b[0m\n\u001b[1;32m    189\u001b[0m         \"\"\"\n\u001b[1;32m    190\u001b[0m         \u001b[0;32mif\u001b[0m \u001b[0misinstance\u001b[0m\u001b[0;34m(\u001b[0m\u001b[0mitem\u001b[0m\u001b[0;34m,\u001b[0m \u001b[0mstr\u001b[0m\u001b[0;34m)\u001b[0m\u001b[0;34m:\u001b[0m\u001b[0;34m\u001b[0m\u001b[0m\n\u001b[0;32m--> 191\u001b[0;31m             \u001b[0;32mreturn\u001b[0m \u001b[0mOrderedDict\u001b[0m\u001b[0;34m.\u001b[0m\u001b[0m__getitem__\u001b[0m\u001b[0;34m(\u001b[0m\u001b[0mself\u001b[0m\u001b[0;34m,\u001b[0m \u001b[0mitem\u001b[0m\u001b[0;34m)\u001b[0m\u001b[0;34m\u001b[0m\u001b[0m\n\u001b[0m\u001b[1;32m    192\u001b[0m         \u001b[0;32melif\u001b[0m \u001b[0misinstance\u001b[0m\u001b[0;34m(\u001b[0m\u001b[0mitem\u001b[0m\u001b[0;34m,\u001b[0m \u001b[0;34m(\u001b[0m\u001b[0mint\u001b[0m\u001b[0;34m,\u001b[0m \u001b[0mnp\u001b[0m\u001b[0;34m.\u001b[0m\u001b[0minteger\u001b[0m\u001b[0;34m)\u001b[0m\u001b[0;34m)\u001b[0m\u001b[0;34m:\u001b[0m\u001b[0;34m\u001b[0m\u001b[0m\n\u001b[1;32m    193\u001b[0m             \u001b[0;32mreturn\u001b[0m \u001b[0mself\u001b[0m\u001b[0;34m.\u001b[0m\u001b[0mvalues\u001b[0m\u001b[0;34m(\u001b[0m\u001b[0;34m)\u001b[0m\u001b[0;34m[\u001b[0m\u001b[0mitem\u001b[0m\u001b[0;34m]\u001b[0m\u001b[0;34m\u001b[0m\u001b[0m\n",
      "\u001b[0;31mKeyError\u001b[0m: 'SNID'"
     ]
    }
   ],
   "source": [
    "dataset = \"ZTF\"\n",
    "#train_ob = load_ztf_train_data(head_path='/media/biswajit/drive/Kilonova_datasets/ZTF_20190512/train_master_HEAD.FITS', phot_path='/media/biswajit/drive/Kilonova_datasets/ZTF_20190512/train_master_PHOT.FITS')\n",
    "#test_ob = load_ztf_test_data(head_path='/media/biswajit/drive/Kilonova_datasets/ZTF_20190512/test_master_HEAD.FITS', phot_path='/media/biswajit/drive/Kilonova_datasets/ZTF_20190512/test_master_PHOT.FITS')\n",
    "train_ob = load_ztf_train_data()\n",
    "test_ob = load_ztf_test_data()\n",
    "train_object_ids = train_ob.get_all_object_ids()\n",
    "train_kilonova_ids = train_ob.get_ids_of_event_type([150,151])\n",
    "train_ob.df_data.sort(['SNID','MJD'])\n",
    "train_ob.df_metadata.sort(['SNID'])\n",
    "\n",
    "test_object_ids = test_ob.get_all_object_ids()\n",
    "test_kilonova_ids = test_ob.get_ids_of_event_type(150)\n",
    "test_kilonova_ids = vstack([test_kilonova_ids, test_ob.get_ids_of_event_type(151)])\n",
    "test_kilonova_ids = test_kilonova_ids['SNID']\n",
    "test_ob.df_data.sort(['SNID','MJD'])\n",
    "test_ob.df_metadata.sort(['SNID'])\n",
    "\n",
    "num_pc_components = 5\n",
    "bands = ['g', 'r']\n",
    "color_band_dict = {'g':'C2', 'r':'C3'}"
   ]
  },
  {
   "cell_type": "code",
   "execution_count": null,
   "metadata": {},
   "outputs": [],
   "source": [
    "print(train_kilonova_ids)"
   ]
  },
  {
   "cell_type": "code",
   "execution_count": null,
   "metadata": {},
   "outputs": [],
   "source": [
    "def multi_mrocessor():\n",
    "    coeff_dict, num_pts_dict = pc.predict_lc_coeff(current_date=current_date,num_pc_components=num_pc_components, decouple_pc_bands=decouple_pc_bands, decouple_prediction_bands=decouple_prediction_bands, min_flux_threshold=min_flux_threshold, bands=bands)\n",
    "        "
   ]
  },
  {
   "cell_type": "code",
   "execution_count": null,
   "metadata": {},
   "outputs": [],
   "source": [
    "def create_features_df(data_ob, decouple_prediction_bands=True, decouple_pc_bands=False, mark_maximum=False, min_flux_threshold=20, num_pc_components=3, use_random_current_date= False, plot_prediction = False):\n",
    "    data_dict = {'id':[],\n",
    "                 'type':[],}\n",
    "    \n",
    "    object_ids = data_ob.get_all_object_ids()\n",
    "    #data_object_ids = np.random.permutation(data_object_ids)\n",
    "    data_ob.df_data.sort([data_ob.object_id_col_name,data_ob.time_col_name])\n",
    "    for object_id in tqdm(object_ids):\n",
    "        event_df = data_ob.get_data_of_event(object_id)\n",
    "        #print(event_df['FLT'])\n",
    "        pc = PredictLightCurve(data_ob, object_id=object_id, num_pc_components=num_pc_components)\n",
    "        #print(pc.lc.df['FLT'])\n",
    "        #print(pc.lc.band_map.items())\n",
    "        #print(\"------------\")\n",
    "        current_date = None\n",
    "        if use_random_current_date:\n",
    "            median_date = np.median(pc.lc.dates_of_maximum)\n",
    "            current_date = median_date+random()*50-25\n",
    "            \n",
    "        coeff_dict, num_pts_dict = pc.predict_lc_coeff(current_date=current_date,num_pc_components=num_pc_components, decouple_pc_bands=decouple_pc_bands, decouple_prediction_bands=decouple_prediction_bands, min_flux_threshold=min_flux_threshold, bands=bands)\n",
    "        data_dict['id'].append(object_id)\n",
    "        #print(data_dict['object_id'])\n",
    "        for i,band in enumerate(bands):\n",
    "            for j in range(1,num_pc_components+1):\n",
    "                col_name = str(i)+'pc'+str(j)\n",
    "                print(col_name)\n",
    "                if col_name not in data_dict.keys():\n",
    "                    data_dict[col_name] = []\n",
    "                data_dict[col_name].append(coeff_dict[band][j-1])\n",
    "            col_name = str(i)+'n'\n",
    "            if col_name not in data_dict.keys():\n",
    "                    data_dict[col_name] = []\n",
    "            data_dict[col_name].append(num_pts_dict[band])\n",
    "        object_type = data_ob.get_object_type_number(object_id)\n",
    "        data_dict['type'].append(object_type)\n",
    "        if plot_prediction:\n",
    "            fig = pc.plot_predicted_bands(all_band_coeff_dict=coeff_dict, color_band_dict=color_band_dict, mark_maximum=mark_maximum,axes_lims = False)\n",
    "            plt.show()\n",
    "            plt.close('all')\n",
    "\n",
    "    data_df = pd.DataFrame(data_dict)\n",
    "    data_df = data_df.sample(frac=1).reset_index(drop=True)\n",
    "    return data_df\n",
    "        "
   ]
  },
  {
   "cell_type": "code",
   "execution_count": null,
   "metadata": {
    "scrolled": true
   },
   "outputs": [],
   "source": [
    "train_df = create_features_df(train_ob, num_pc_components=5, plot_prediction = True)\n",
    "test_df = create_features_df(test_ob, num_pc_components=5)"
   ]
  },
  {
   "cell_type": "code",
   "execution_count": null,
   "metadata": {},
   "outputs": [],
   "source": [
    "print(train_df)"
   ]
  },
  {
   "cell_type": "code",
   "execution_count": null,
   "metadata": {},
   "outputs": [],
   "source": [
    "#train_df.to_csv('/media/biswajit/drive/Kilonova_datasets/ZTF_20190512/train_features_master.csv', index=False)\n",
    "#test_df.to_csv('/media/biswajit/drive/Kilonova_datasets/ZTF_20190512/test_features_master.csv', index=False)"
   ]
  },
  {
   "cell_type": "code",
   "execution_count": null,
   "metadata": {},
   "outputs": [],
   "source": []
  },
  {
   "cell_type": "markdown",
   "metadata": {},
   "source": [
    "# Load saved data"
   ]
  },
  {
   "cell_type": "code",
   "execution_count": null,
   "metadata": {},
   "outputs": [],
   "source": [
    "train_df = pd.read_csv('/media/biswajit/drive/Kilonova_datasets/ZTF_20190512/train_features_master.csv')\n",
    "test_df = pd.read_csv('/media/biswajit/drive/Kilonova_datasets/ZTF_20190512/test_features_master.csv')"
   ]
  },
  {
   "cell_type": "code",
   "execution_count": null,
   "metadata": {},
   "outputs": [],
   "source": [
    "prediction_type = [150,151]"
   ]
  },
  {
   "cell_type": "code",
   "execution_count": null,
   "metadata": {},
   "outputs": [],
   "source": [
    "print(np.sum(train_df['type']==151))"
   ]
  },
  {
   "cell_type": "code",
   "execution_count": null,
   "metadata": {},
   "outputs": [],
   "source": [
    "def sample_from_df(data_df, sample_number, shuffle=False):\n",
    "    final_df =None\n",
    "    for key,value in sample_number.items():\n",
    "        if value == 0:\n",
    "            continue\n",
    "        #print(key)\n",
    "        current_type_df = data_df[data_df['type'] ==key]\n",
    "        len_current_df = len(current_type_df)\n",
    "        if len_current_df==0:\n",
    "            print(\"event type not found\")\n",
    "        #current_type_ids = data_df['ids'].values\n",
    "        #current_type_ids = np.random.shuffle(current_type_ids)\n",
    "        #selected_ids = current_\n",
    "        #print(len(current_type_df))\n",
    "        if value>len_current_df:\n",
    "            value = len_current_df\n",
    "            sample_number[key]=len_current_df\n",
    "        current_type_df = current_type_df.sample(value)\n",
    "        #print(current_type_df)\n",
    "        if final_df is None:\n",
    "            final_df=current_type_df\n",
    "        else:\n",
    "            final_df= pd.concat([final_df, current_type_df], ignore_index=True)\n",
    "    if shuffle:\n",
    "        final_df = final_df.sample(frac=1).reset_index(drop=True)\n",
    "    return final_df"
   ]
  },
  {
   "cell_type": "code",
   "execution_count": null,
   "metadata": {},
   "outputs": [],
   "source": [
    "sample_numbers_train = {101:150, \n",
    "               102:150, \n",
    "               103:150, \n",
    "               112:150, \n",
    "               113:150, \n",
    "               114:150, \n",
    "               141:150, \n",
    "               143:1500, \n",
    "               145:2500, \n",
    "               150:2500, \n",
    "               151:2500, \n",
    "               160:150, \n",
    "               161:150, \n",
    "               162:150, \n",
    "               163:150, \n",
    "               164:150, \n",
    "               170:0, \n",
    "               180:0, \n",
    "               181:0, \n",
    "               183:0, \n",
    "               190:0}\n",
    "train_df= sample_from_df(train_df,sample_numbers_train,shuffle=True)"
   ]
  },
  {
   "cell_type": "code",
   "execution_count": null,
   "metadata": {
    "scrolled": false
   },
   "outputs": [],
   "source": [
    "sample_numbers_test = {101:150, \n",
    "               102:150, \n",
    "               103:150, \n",
    "               112:150, \n",
    "               113:150, \n",
    "               114:150, \n",
    "               141:150, \n",
    "               143:150, \n",
    "               145:150, \n",
    "               150:2500, \n",
    "               151:2500, \n",
    "               160:150, \n",
    "               161:150, \n",
    "               162:150, \n",
    "               163:150, \n",
    "               164:200, \n",
    "               170:0, \n",
    "               180:0, \n",
    "               181:0, \n",
    "               183:0, \n",
    "               190:0}\n",
    "test_df= sample_from_df(test_df,sample_numbers_test,shuffle=True)"
   ]
  },
  {
   "cell_type": "code",
   "execution_count": null,
   "metadata": {},
   "outputs": [],
   "source": []
  },
  {
   "cell_type": "code",
   "execution_count": null,
   "metadata": {},
   "outputs": [],
   "source": [
    "def add_y_val(data_df, data_ob, prediction_type):\n",
    "    data_df['y'] = data_df['id'].map(lambda ob_id: 1 if data_ob.get_object_type_number(ob_id) in prediction_type else 0)\n",
    "    return data_df"
   ]
  },
  {
   "cell_type": "code",
   "execution_count": null,
   "metadata": {},
   "outputs": [],
   "source": [
    "train_df = add_y_val(train_df, data_ob=train_ob, prediction_type=prediction_type )\n",
    "test_df = add_y_val(test_df, data_ob=test_ob, prediction_type=prediction_type)"
   ]
  },
  {
   "cell_type": "code",
   "execution_count": null,
   "metadata": {},
   "outputs": [],
   "source": [
    "print(np.sum([train_df['y'].values==1]))"
   ]
  },
  {
   "cell_type": "code",
   "execution_count": null,
   "metadata": {},
   "outputs": [],
   "source": [
    "train_df = train_df.sample(frac=1).reset_index(drop=True)"
   ]
  },
  {
   "cell_type": "markdown",
   "metadata": {},
   "source": [
    "# Train classifier"
   ]
  },
  {
   "cell_type": "code",
   "execution_count": null,
   "metadata": {},
   "outputs": [],
   "source": [
    "from sklearn.ensemble import RandomForestClassifier"
   ]
  },
  {
   "cell_type": "code",
   "execution_count": null,
   "metadata": {},
   "outputs": [],
   "source": [
    "print(train_df)"
   ]
  },
  {
   "cell_type": "code",
   "execution_count": null,
   "metadata": {},
   "outputs": [],
   "source": [
    "num_pc_components = 5\n",
    "\n",
    "cols = []\n",
    "for i,band in enumerate(bands):\n",
    "    for j in range(1,num_pc_components+1):\n",
    "        col_name = str(i)+'pc'+str(j)\n",
    "        cols.append(col_name)\n",
    "        \n",
    "x_train = train_df[cols].values\n",
    "y_train = train_df['y'].values\n",
    "x_test = test_df[cols].values\n",
    "y_test = test_df['y'].values\n",
    "\n",
    "\n",
    "\n",
    "clf=RandomForestClassifier(n_estimators=100)\n",
    "clf.fit(x_train,y_train)\n",
    "\n",
    "y_pred=clf.predict(x_test)\n",
    "y_score= clf.predict_proba(x_test)\n",
    "true_index = y_test ==1\n",
    "y_test_true = y_test[true_index]\n",
    "y_pred_true = y_pred[true_index]\n",
    "print(np.sum(y_test_true))\n",
    "print(np.sum(y_pred_true))"
   ]
  },
  {
   "cell_type": "code",
   "execution_count": null,
   "metadata": {},
   "outputs": [],
   "source": [
    "x_train.shape"
   ]
  },
  {
   "cell_type": "code",
   "execution_count": null,
   "metadata": {},
   "outputs": [],
   "source": [
    "print(y_test)"
   ]
  },
  {
   "cell_type": "code",
   "execution_count": null,
   "metadata": {},
   "outputs": [],
   "source": [
    "print(y_score[:,1])"
   ]
  },
  {
   "cell_type": "code",
   "execution_count": null,
   "metadata": {},
   "outputs": [],
   "source": [
    "from sklearn import metrics\n",
    "# Model Accuracy, how often is the classifier correct?\n",
    "print(\"Accuracy:\",metrics.accuracy_score(y_test, y_pred))"
   ]
  },
  {
   "cell_type": "code",
   "execution_count": null,
   "metadata": {},
   "outputs": [],
   "source": [
    "fpr, tpr, thresholds = metrics.roc_curve(y_test, y_score[:,1])\n",
    "roc_auc = metrics.auc(fpr, tpr)"
   ]
  },
  {
   "cell_type": "code",
   "execution_count": null,
   "metadata": {},
   "outputs": [],
   "source": [
    "import matplotlib.pyplot as plt\n",
    "def plot_roc_curve(fpr,tpr,roc_auc, ax):\n",
    "    #fig = plt.figure(figsize=(5,5))\n",
    "    plt.title('Receiver Operating Characteristic')\n",
    "    plt.plot(fpr, tpr, 'b', label = 'AUC = %0.2f' % roc_auc)\n",
    "    plt.legend(loc = 'lower right')\n",
    "    #plt.plot([0, 1], [0, 1],'r--')\n",
    "\n",
    "    plt.ylim([0, 1])\n",
    "    plt.xlim([0, .1])\n",
    "    #plt.axis(\"square\")\n",
    "    plt.ylabel('True Positive Rate')\n",
    "    plt.xlabel('False Positive Rate')\n",
    "    #plt.gca().set_aspect(\"equal\")\n",
    "    return fig\n",
    "    #plt.show()\n",
    "    #plt.close('all')"
   ]
  },
  {
   "cell_type": "code",
   "execution_count": null,
   "metadata": {},
   "outputs": [],
   "source": [
    "print(metrics.confusion_matrix(y_test, y_pred))"
   ]
  },
  {
   "cell_type": "code",
   "execution_count": null,
   "metadata": {},
   "outputs": [],
   "source": [
    "prediction_stat={}\n",
    "for i,object_id in enumerate(test_df['id']):\n",
    "    if isinstance(prediction_type, int):\n",
    "        prediction_type = [prediction_type]\n",
    "    #print(i)\n",
    "    type_no = test_ob.get_object_type_number(object_id)\n",
    "    if sample_numbers_train[type_no] == 0:\n",
    "        type_no = 0\n",
    "    \n",
    "    if type_no not in prediction_stat:\n",
    "        prediction_stat[type_no] = [0,1]\n",
    "    else: \n",
    "        prediction_stat[type_no][1] = prediction_stat[type_no][1] + 1\n",
    "    \n",
    "    if (type_no in prediction_type) & (y_pred[i] ==1):\n",
    "        prediction_stat[type_no][0]=prediction_stat[type_no][0]+1\n",
    "\n",
    "    elif (y_pred[i]==0)&(type_no not in prediction_type):\n",
    "        prediction_stat[type_no][0]=prediction_stat[type_no][0]+1"
   ]
  },
  {
   "cell_type": "code",
   "execution_count": null,
   "metadata": {},
   "outputs": [],
   "source": [
    "def get_stat_df(data_ob, result_df, prediction_type, y_pred, sample_numbers_train):\n",
    "    prediction_stat={}\n",
    "    for i,object_id in enumerate(result_df['id']):\n",
    "        if isinstance(prediction_type, int):\n",
    "            prediction_type = [prediction_type]\n",
    "        #print(i)\n",
    "        type_no = data_ob.get_object_type_number(object_id)\n",
    "        num_training_events = sample_numbers_train[type_no]\n",
    "        if num_training_events == 0:\n",
    "            type_no = 0\n",
    "\n",
    "        if type_no not in prediction_stat:\n",
    "            prediction_stat[type_no] = [0,1,num_training_events]\n",
    "        else: \n",
    "            prediction_stat[type_no][1] = prediction_stat[type_no][1] + 1\n",
    "\n",
    "        if (type_no in prediction_type) & (y_pred[i] ==1):\n",
    "            prediction_stat[type_no][0]=prediction_stat[type_no][0]+1\n",
    "\n",
    "        elif (y_pred[i]==0)&(type_no not in prediction_type):\n",
    "            prediction_stat[type_no][0]=prediction_stat[type_no][0]+1\n",
    "    stat_df = pd.DataFrame(prediction_stat) \n",
    "    return stat_df.reindex(sorted(stat_df.columns), axis=1)"
   ]
  },
  {
   "cell_type": "code",
   "execution_count": null,
   "metadata": {},
   "outputs": [],
   "source": [
    "df_stat= get_stat_df(test_ob,test_df, prediction_type,y_pred, sample_numbers_train=sample_numbers_train)"
   ]
  },
  {
   "cell_type": "code",
   "execution_count": null,
   "metadata": {},
   "outputs": [],
   "source": [
    "#test_stat_df= get_stat_df(test_ob,test_df, prediction_type,y_pred)"
   ]
  },
  {
   "cell_type": "code",
   "execution_count": null,
   "metadata": {},
   "outputs": [],
   "source": [
    "df_stat"
   ]
  },
  {
   "cell_type": "code",
   "execution_count": null,
   "metadata": {},
   "outputs": [],
   "source": [
    "print(df_stat)"
   ]
  },
  {
   "cell_type": "code",
   "execution_count": null,
   "metadata": {},
   "outputs": [],
   "source": [
    "def ztf_ob_type_name(type_no):\n",
    "    if type_no == 141:\n",
    "        return '141: 91BG'\n",
    "    if type_no == 143:\n",
    "        return '143: Iax'\n",
    "    if type_no == 145:\n",
    "        return '145: point Ia'\n",
    "    if type_no == 150:\n",
    "        return '150: KN GW170817'\n",
    "    if type_no == 151:\n",
    "        return '151: KN Karsen 2017'\n",
    "    if type_no == 160:\n",
    "        return '160: Superluminous SN'\n",
    "    if type_no == 161:\n",
    "        return '161: pair instability SN'\n",
    "    if type_no == 162:\n",
    "        return '162: ILOT'\n",
    "    if type_no == 163:\n",
    "        return '163: CART'\n",
    "    if type_no == 164:\n",
    "        return '164: TDE'\n",
    "    if type_no == 170:\n",
    "        return '170: AGN'\n",
    "    if type_no == 180:\n",
    "        return '180: RRLyrae'\n",
    "    if type_no == 181:\n",
    "        return 'M 181: dwarf_flares'\n",
    "    if type_no == 183:\n",
    "        return '183: PHOEBE'\n",
    "    if type_no == 190:\n",
    "        return '190: uLens_BSR'\n",
    "    if type_no == 191:\n",
    "        return '191: uLens_Bachelet'\n",
    "    if type_no == 192:\n",
    "        return '192: uLens_STRING'     \n",
    "    if type_no == 114:\n",
    "        return '114: MOSFIT-IIn'\n",
    "    if type_no == 113:\n",
    "        return '113: Core collapse Type II using pca '\n",
    "    if type_no == 112:\n",
    "        return '112: Core collapse Type II'\n",
    "    if type_no == 102:\n",
    "        return '102: MOSFIT-Ibc'\n",
    "    if type_no == 103:\n",
    "        return '103: Core collapse Type Ibc'\n",
    "    if type_no == 101:\n",
    "        return '101: Ia SN'\n",
    "    if type_no == 0:\n",
    "        return '0: Unknown'\n"
   ]
  },
  {
   "cell_type": "code",
   "execution_count": null,
   "metadata": {},
   "outputs": [],
   "source": [
    "import matplotlib.gridspec as gridspec\n"
   ]
  },
  {
   "cell_type": "code",
   "execution_count": null,
   "metadata": {},
   "outputs": [],
   "source": [
    "def plot_confusion_matrix(ax, y_true, y_pred, classes,\n",
    "                          normalize=False,\n",
    "                          title=None,\n",
    "                          cmap=plt.cm.Blues):\n",
    "    \"\"\"\n",
    "    This function prints and plots the confusion matrix.\n",
    "    Normalization can be applied by setting `normalize=True`.\n",
    "    \"\"\"\n",
    "    title =\"\"\n",
    "\n",
    "    # Compute confusion matrix\n",
    "    cm = metrics.confusion_matrix(y_test, y_pred)\n",
    "    # Only use the labels that appear in the data\n",
    "    classes = [1,0]\n",
    "\n",
    "    #fig, ax = plt.subplots()\n",
    "    im = ax.imshow(cm, interpolation='nearest', cmap=cmap)\n",
    "    #ax.figure.colorbar(im, ax=ax)\n",
    "    # We want to show all ticks...\n",
    "    ax.set(xticks=np.arange(cm.shape[1]),\n",
    "           yticks=np.arange(cm.shape[0]),\n",
    "           # ... and label them with the respective list entries\n",
    "           xticklabels=classes, yticklabels=classes,\n",
    "           ylabel='True label',\n",
    "           xlabel='Predicted label')\n",
    "\n",
    "    # Rotate the tick labels and set their alignment.\n",
    "    plt.setp(ax.get_xticklabels(), rotation=0, ha=\"right\",\n",
    "             rotation_mode=\"anchor\")\n",
    "\n",
    "    # Loop over data dimensions and create text annotations.\n",
    "    fmt = '.2f' if normalize else 'd'\n",
    "    thresh = cm.max() / 2.\n",
    "    for i in range(cm.shape[0]):\n",
    "        for j in range(cm.shape[1]):\n",
    "            ax.text(j, i, format(cm[i, j], fmt),\n",
    "                    ha=\"center\", va=\"center\",\n",
    "                    color=\"white\" if cm[i, j] > thresh else \"black\", fontsize =15)\n",
    "    #fig.tight_layout()\n",
    "    ax.axis(\"equal\")\n",
    "    return ax"
   ]
  },
  {
   "cell_type": "code",
   "execution_count": null,
   "metadata": {},
   "outputs": [],
   "source": [
    "print(df_stat)"
   ]
  },
  {
   "cell_type": "code",
   "execution_count": null,
   "metadata": {},
   "outputs": [],
   "source": [
    "def plot_contamination_statistics(df_stat,ax):\n",
    "    #fig = plt.figure(figsize = (10,10))\n",
    "    #ax = fig.add_axes([0,0,.9,.9])\n",
    "    print(df_stat)\n",
    "\n",
    "    col_type_nos = np.array(df_stat.columns)\n",
    "    print(col_type_nos)\n",
    "    pred_col_names = [ztf_ob_type_name(item) for item in prediction_type]\n",
    "    non_pred_types = col_type_nos[~np.isin(col_type_nos,prediction_type )]\n",
    "    print(pred_col_names)\n",
    "    non_pred_type_names = [ztf_ob_type_name(item) for item in non_pred_types]\n",
    "    col_type_names = [ztf_ob_type_name(item) for item in col_type_nos]\n",
    "    print(col_type_nos)\n",
    "    print(non_pred_types)\n",
    "    \n",
    "    print(np.where(np.in1d(non_pred_types,col_type_nos)))\n",
    "    ax.barh(col_type_names,df_stat.loc[1],alpha=.6, tick_label= col_type_names,color='bisque',ec='black', linewidth=1, label=\"total number of events\")\n",
    "    ax.barh(non_pred_type_names, df_stat[non_pred_types].loc[0] , alpha=.6, color='red',ec='black', label='Correctly classified: class 0')\n",
    "    ax.barh(pred_col_names, df_stat[prediction_type].loc[0], alpha=.6, color='chartreuse', ec='black',label='Correctly classified: class 1')\n",
    "    plt.rc('ytick', labelsize=10) \n",
    "    plt.rc('xtick', labelsize=10)\n",
    "    print(col_type_nos)\n",
    "    for i, v in enumerate(col_type_nos):\n",
    "        ax.text(df_stat[v].values[1]+10, i -.1, str(df_stat[v].values[0])+\"/\"+str(df_stat[v].values[1])+\" | \"+str(df_stat[v].values[2]), color='blue', fontweight='bold', fontsize=10)\n",
    "    ax.legend(loc='upper center', bbox_to_anchor=(0.5, 1.05), ncol=3, fancybox=True, shadow=True)\n",
    "    plt.xlim(right=np.max(df_stat.loc[1].values)*120/100)\n",
    "    #plt.savefig('important_plots/correct_classifications_plot')\n",
    "    #fig.tight_layout()\n",
    "    #plt.xticks(rotation=90)\n",
    "    #return fig\n",
    "#plt.show()"
   ]
  },
  {
   "cell_type": "code",
   "execution_count": null,
   "metadata": {},
   "outputs": [],
   "source": [
    "def get_ignored_events(sample_numbers_train, sample_numbers_test):\n",
    "    unknown = \"\"\n",
    "    dropped = \"\"\n",
    "    for key in sample_numbers_train:\n",
    "        if sample_numbers_train[key] == 0:\n",
    "            if sample_numbers_test[key] == 0:\n",
    "                if dropped == \"\":\n",
    "                    dropped = ztf_ob_type_name(key)\n",
    "                else: \n",
    "                    dropped = dropped + \", \"+ztf_ob_type_name(key)\n",
    "            else:\n",
    "                if unknown == \"\":\n",
    "                    unknown = ztf_ob_type_name(key)\n",
    "                else:\n",
    "                    unknown = unknown + \", \" +ztf_ob_type_name(key)\n",
    "    if unknown == \"\":\n",
    "        unknown = 'None'\n",
    "    if dropped == \"\":\n",
    "        dropped = 'None'\n",
    "        \n",
    "    return unknown,dropped"
   ]
  },
  {
   "cell_type": "code",
   "execution_count": null,
   "metadata": {
    "scrolled": false
   },
   "outputs": [],
   "source": [
    "plt.close()\n",
    "fig = plt.figure(figsize=(24,12))\n",
    "#plt.subplot2grid((12,25), (0,0), colspan=25, rowspan=1, fig = fig)\n",
    "#plt.title(\"performance statistics\", loc = \"center\")\n",
    "plt.subplot2grid((12,24), (0,3), colspan=11, rowspan=11, fig = fig)\n",
    "plot_contamination_statistics(df_stat=df_stat,ax=plt.gca())\n",
    "plt.subplot2grid((12,24),(0,19), rowspan=3, colspan=3, fig=fig)\n",
    "plot_roc_curve(fpr=fpr,tpr=tpr, roc_auc=roc_auc, ax=plt.gca())\n",
    "plt.subplot2grid((12,24),(4,19), rowspan=3, colspan=3, fig=fig)\n",
    "plot_confusion_matrix(ax = plt.gca(), y_true=y_test,y_pred=y_pred,classes=['KN','NON-KN'])\n",
    "cm = metrics.confusion_matrix(y_test,y_pred)\n",
    "plt.annotate('KN correctly identified = '+str(100*cm[1][1]/(cm[1][0]+cm[1][1]))[:5]+\"%\",\n",
    "            xy=(.79, .355), xycoords='figure fraction',\n",
    "            horizontalalignment='center', verticalalignment='top',\n",
    "            fontsize=20)\n",
    "plt.annotate('Purity = '+str(100*cm[1][1]/(cm[0][1]+cm[1][1]))[:5]+\"%\",\n",
    "            xy=(.79, .315), xycoords='figure fraction',\n",
    "            horizontalalignment='center', verticalalignment='top',\n",
    "            fontsize=20)\n",
    "plt.annotate('Training data [class 1: '+ str(np.sum(df_stat[prediction_type].loc[1].values)) + \" | class 0:\"\n",
    "             +str(np.sum(df_stat.loc[1].values)-np.sum(df_stat[prediction_type].loc[1].values))+\"]\",\n",
    "            xy=(.79, .275), xycoords='figure fraction',\n",
    "            horizontalalignment='center', verticalalignment='top',\n",
    "            fontsize=20)\n",
    "#plt.annotate(\"Num trees =\"+, )\n",
    "plt.annotate('Performance statistics ',\n",
    "            xy=(.5, .1), xycoords='figure fraction',\n",
    "            horizontalalignment='center', verticalalignment='center',\n",
    "            fontsize=30)\n",
    "unknown_events, dropped_events = get_ignored_events(sample_numbers_train, sample_numbers_test)\n",
    "plt.annotate('Dropped events: '+dropped_events,\n",
    "            xy=(.79, .23), xycoords='figure fraction',\n",
    "            horizontalalignment='center', verticalalignment='top',\n",
    "            fontsize=10)\n",
    "plt.annotate('Unknown events: '+unknown_events,\n",
    "            xy=(.79, .20), xycoords='figure fraction',\n",
    "            horizontalalignment='center', verticalalignment='top',\n",
    "            fontsize=10)\n",
    "fig.tight_layout()\n",
    "fig.savefig('Final_Results/case7')\n",
    "plt.show()"
   ]
  },
  {
   "cell_type": "code",
   "execution_count": null,
   "metadata": {},
   "outputs": [],
   "source": []
  },
  {
   "cell_type": "code",
   "execution_count": null,
   "metadata": {},
   "outputs": [],
   "source": []
  },
  {
   "cell_type": "markdown",
   "metadata": {},
   "source": [
    "### 91BG from S. Gonzalez-Gaitan and Felipe Lagos\n",
    "141\n",
    "### Iax from Saurabh\n",
    "143\n",
    "### pointIa\n",
    "145\n",
    "### - - - - - -  GW counterpart models - - - - - - - \n",
    "### Kilonova from GW170817\n",
    "150\n",
    "### Kilonova models from Kasen 2017\n",
    "151\n",
    "### - - - - - - - - - - - - - - - - - - - - - - - -\n",
    "### Superluminous SN:  SLSN-I\n",
    "160\n",
    "### pair instability SN: PISN\n",
    "161\n",
    "### Intermediate Luminosity Optical Transients (ILOT)\n",
    "162\n",
    "### Ca Rich Transients (CART)\n",
    "163 \n",
    "### TDE\n",
    "164\n",
    "### - - - - - AGN - - - - - - \n",
    "170  \n",
    "### - -- - - - - - - - - - - - - - - - - - - - - -\n",
    "### Galactic transients\n",
    "180  \n",
    "181  \n",
    "183  \n",
    "190  \n",
    "191\n",
    "192\n",
    "# - - - - - -\n",
    "SNe\n",
    "## MOSFIT-IIn  (4->14 on May 9 2018)\n",
    "114 \n",
    "### MOSFIT-Ibc (3->13 on May 9 2018)\n",
    "113 \n",
    "### Core collapse Type II using pca (5->12 on May 9 2018)\n",
    "112\n",
    "## - - - - - - - - - - - - - - - - - - - - - - - - - \n",
    "### Core collapse Type II from K10 templates\n",
    "102\n",
    "### Core collapse Type Ibc from K10 templates\n",
    "103 \n",
    "## Type Ia SN\n",
    "101\n"
   ]
  },
  {
   "cell_type": "code",
   "execution_count": null,
   "metadata": {},
   "outputs": [],
   "source": []
  },
  {
   "cell_type": "markdown",
   "metadata": {},
   "source": [
    "BATCH_INFO:  sbatch  $SBATCH_TEMPLATES/SBATCH_sandyb.TEMPLATE 40\n",
    "BATCH_MEM: 2000  # need more memory for som SIMSED models\n",
    "PATH_SNDATA_SIM:  $SCRATCH_SIMDIR\n",
    "# 91BG from S. Gonzalez-Gaitan and Felipe Lagos\n",
    "#  (more templates than J17, and stretch-color correlation)\n",
    "GENVERSION: ZTF_MSIP_MODEL41\n",
    "GENOPT: INPUT_FILE_INCLUDE $ZTF_USERS/gnarayan/SIMGEN/SIMGEN_INCLUDE_91bg.INPUT\n",
    "GENOPT: GENTYPE 41\n",
    "GENOPT: SIMGEN_DUMP_PRESCALE 1\n",
    "GENOPT: NGENTOT_LC 4000\n",
    "\n",
    "GENVERSION: ZTF_MSIP_MODEL43\n",
    "GENOPT: INPUT_FILE_INCLUDE $ZTF_USERS/gnarayan/SIMGEN/SIMGEN_INCLUDE_Iax.INPUT\n",
    "GENOPT: GENTYPE 43\n",
    "GENOPT: SIMGEN_DUMP_PRESCALE 1\n",
    "GENOPT: NGENTOT_LC 10000\n",
    "----------------- pointIa -----------------------\n",
    "GENVERSION:  ZTF_MSIP_MODEL45\n",
    "GENOPT: INPUT_FILE_INCLUDE $ZTF_USERS/gnarayan/SIMGEN/SIMGEN_INCLUDE_pointIa.INPUT\n",
    "GENOPT: GENTYPE 45\n",
    "GENOPT: NGENTOT_LC 100000\n",
    "# - - - - - -  GW counterpart models - - - - - - - \n",
    "# Kilonova from GW170817\n",
    "GENVERSION:  ZTF_MSIP_MODEL50\n",
    "GENOPT: INPUT_FILE_INCLUDE $ZTF_USERS/gnarayan/SIMGEN/SIMGEN_INCLUDE_KNova_GW170817.INPUT\n",
    "GENOPT: GENTYPE 50\n",
    "GENOPT: NGENTOT_LC 100000\n",
    "# Kilonova models from Kasen 2017\n",
    "GENVERSION:  ZTF_MSIP_MODEL51\n",
    "GENOPT: INPUT_FILE_INCLUDE $ZTF_USERS/gnarayan/SIMGEN/SIMGEN_INCLUDE_KNova_Kasen2017.INPUT\n",
    "GENOPT: GENTYPE 51\n",
    "GENOPT: NGENTOT_LC 100000\n",
    "# - - - - - - - - - - - - - - - - - - - - - - - -\n",
    "# Superluminous SN:  SLSN-I\n",
    "GENVERSION:  ZTF_MSIP_MODEL60\n",
    "GENOPT: INPUT_FILE_INCLUDE $ZTF_USERS/gnarayan/SIMGEN/SIMGEN_INCLUDE_MOSFIT_SLSN_MAGNETAR.INPUT\n",
    "GENOPT: GENTYPE 60\n",
    "GENOPT: SIMGEN_DUMP_PRESCALE 1\n",
    "GENOPT: NGENTOT_LC 200\n",
    "# pair instability SN: PISN\n",
    "GENVERSION:  ZTF_MSIP_MODEL61\n",
    "GENOPT: INPUT_FILE_INCLUDE $ZTF_USERS/gnarayan/SIMGEN/SIMGEN_INCLUDE_MOSFIT_PISN.INPUT\n",
    "GENOPT: GENTYPE 61\n",
    "GENOPT: SIMGEN_DUMP_PRESCALE 2\n",
    "GENOPT: NGENTOT_LC 1000\n",
    "# Intermediate Luminosity Optical Transients (ILOT)\n",
    "GENVERSION:  ZTF_MSIP_MODEL62\n",
    "GENOPT: INPUT_FILE_INCLUDE $ZTF_USERS/gnarayan/SIMGEN/SIMGEN_INCLUDE_MOSFIT_ILOT.INPUT\n",
    "GENOPT: GENTYPE 62\n",
    "GENOPT: SIMGEN_DUMP_PRESCALE 1\n",
    "GENOPT: NGENTOT_LC 100000\n",
    "# Ca Rich Transients (CART)\n",
    "GENVERSION:  ZTF_MSIP_MODEL63\n",
    "GENOPT: INPUT_FILE_INCLUDE $ZTF_USERS/gnarayan/SIMGEN/SIMGEN_INCLUDE_MOSFIT_CART.INPUT\n",
    "GENOPT: GENTYPE 63 \n",
    "GENOPT: SIMGEN_DUMP_PRESCALE 1\n",
    "GENOPT: NGENTOT_LC 40000\n",
    "# TDE\n",
    "GENVERSION:  ZTF_MSIP_MODEL64\n",
    "GENOPT: INPUT_FILE_INCLUDE $ZTF_USERS/gnarayan/SIMGEN/SIMGEN_INCLUDE_MOSFIT_TDE.INPUT\n",
    "GENOPT: GENTYPE 64\n",
    "GENOPT: SIMGEN_DUMP_PRESCALE 1\n",
    "GENOPT: NGENTOT_LC 3000\n",
    "# - - - - - AGN - - - - - - \n",
    "GENVERSION:  ZTF_MSIP_MODEL70\n",
    "GENOPT: INPUT_FILE_INCLUDE  $ZTF_USERS/gnarayan/SIMGEN/SIMGEN_INCLUDE_LCLIB_LSST-AGN.INPUT\n",
    "GENOPT: GENTYPE 70   SIMLIB_NREPEAT 5\n",
    "GENOPT: SIMGEN_DUMP_PRESCALE 1\n",
    "GENOPT: NGENTOT_LC 6000\n",
    "# - -- - - - - - - - - - - - - - - - - - - - - -\n",
    "# Galactic transients\n",
    "GENVERSION:  ZTF_MSIP_MODEL80\n",
    "GENOPT: INPUT_FILE_INCLUDE  $ZTF_USERS/gnarayan/SIMGEN/SIMGEN_INCLUDE_LCLIB_RRLyrae.INPUT\n",
    "GENOPT: GENTYPE 80   SIMLIB_NREPEAT 5\n",
    "GENOPT: SIMGEN_DUMP_PRESCALE 1\n",
    "GENOPT: NGENTOT_LC 200\n",
    "GENVERSION:  ZTF_MSIP_MODEL81\n",
    "GENOPT: INPUT_FILE_INCLUDE  $ZTF_USERS/gnarayan/SIMGEN/SIMGEN_INCLUDE_LCLIB_Mdwarf_flares.INPUT\n",
    "GENOPT: GENTYPE 81   SIMLIB_NREPEAT 5\n",
    "GENOPT: SIMGEN_DUMP_PRESCALE 1\n",
    "GENOPT: NGENTOT_LC 8000\n",
    "GENVERSION:  ZTF_MSIP_MODEL83\n",
    "GENOPT: INPUT_FILE_INCLUDE  $ZTF_USERS/gnarayan/SIMGEN/SIMGEN_INCLUDE_LCLIB_PHOEBE.INPUT\n",
    "GENOPT: GENTYPE 83   SIMLIB_NREPEAT 5\n",
    "GENOPT: SIMGEN_DUMP_PRESCALE 1\n",
    "GENOPT: NGENTOT_LC 200\n",
    "GENVERSION:  ZTF_MSIP_MODEL90\n",
    "GENOPT: INPUT_FILE_INCLUDE  $ZTF_USERS/gnarayan/SIMGEN/SIMGEN_INCLUDE_LCLIB_uLens_BSR.INPUT\n",
    "GENOPT: GENTYPE 90   SIMLIB_NREPEAT 5\n",
    "GENOPT: SIMGEN_DUMP_PRESCALE 1\n",
    "GENOPT: NGENTOT_LC 1000\n",
    "GENVERSION:  ZTF_MSIP_MODEL91\n",
    "GENOPT: INPUT_FILE_INCLUDE  $ZTF_USERS/gnarayan/SIMGEN/SIMGEN_INCLUDE_LCLIB_uLens_Bachelet.INPUT\n",
    "GENOPT: GENTYPE 91\n",
    "GENOPT: NGENTOT_LC 250\n",
    "GENVERSION:  ZTF_MSIP_MODEL92\n",
    "GENOPT: INPUT_FILE_INCLUDE  $ZTF_USERS/gnarayan/SIMGEN/SIMGEN_INCLUDE_LCLIB_uLens_STRING.INPUT\n",
    "GENOPT: GENTYPE 92\n",
    "GENOPT: SIMGEN_DUMP_PRESCALE 1\n",
    "GENOPT: NGENTOT_LC 1000\n",
    "# - - - - - -\n",
    "# do the BIG Supernova jobs last so that we get the\n",
    "# smaller samples quickly\n",
    "# MOSFIT-IIn  (4->14 on May 9 2018)\n",
    "GENVERSION:  ZTF_MSIP_MODEL14\n",
    "GENOPT: INPUT_FILE_INCLUDE $ZTF_USERS/gnarayan/SIMGEN/SIMGEN_INCLUDE_MOSFIT_IIn.INPUT\n",
    "GENOPT: GENTYPE 14  SIMLIB_NREPEAT 5\n",
    "GENOPT: SIMGEN_DUMP_PRESCALE 1\n",
    "GENOPT: NGENTOT_LC 10000\n",
    "# MOSFIT-Ibc (3->13 on May 9 2018)\n",
    "GENVERSION:  ZTF_MSIP_MODEL13\n",
    "GENOPT: INPUT_FILE_INCLUDE $ZTF_USERS/gnarayan/SIMGEN/SIMGEN_INCLUDE_MOSFIT_Ibc.INPUT\n",
    "GENOPT: GENTYPE 13   SIMLIB_NREPEAT 10\n",
    "GENOPT: SIMGEN_DUMP_PRESCALE 1\n",
    "GENOPT: NGENTOT_LC 10000\n",
    "# Core collapse Type II using pca (5->12 on May 9 2018)\n",
    "GENVERSION: ZTF_MSIP_MODEL12\n",
    "GENOPT: INPUT_FILE_INCLUDE $ZTF_USERS/gnarayan/SIMGEN/SIMGEN_INCLUDE_IIpca.INPUT\n",
    "GENOPT: GENTYPE 12  SIMLIB_NREPEAT 10\n",
    "GENOPT: SIMGEN_DUMP_PRESCALE 1\n",
    "GENOPT: NGENTOT_LC 10000\n",
    "# - - - - - - - - - - - - - - - - - - - - - - - - - \n",
    "# legacy NON1ASED model based on 43 templates\n",
    "# NON1ASED-II\n",
    "# Core collapse Type II from K10 templates\n",
    "GENVERSION: ZTF_MSIP_MODEL02\n",
    "GENOPT: INPUT_FILE_INCLUDE $ZTF_USERS/gnarayan/SIMGEN/SIMGEN_INCLUDE_NON1ASED-II.INPUT\n",
    "GENOPT: GENTYPE 2   SIMLIB_NREPEAT 10\n",
    "GENOPT: SIMGEN_DUMP_PRESCALE 1\n",
    "GENOPT: NGENTOT_LC 10000\n",
    "# NON1ASED-Ibc\n",
    "# Core collapse Type Ibc from K10 templates\n",
    "GENVERSION: ZTF_MSIP_MODEL03\n",
    "GENOPT: INPUT_FILE_INCLUDE $ZTF_USERS/gnarayan/SIMGEN/SIMGEN_INCLUDE_NON1ASED-Ibc.INPUT\n",
    "GENOPT: GENTYPE 3   SIMLIB_NREPEAT 10\n",
    "GENOPT: SIMGEN_DUMP_PRESCALE 1\n",
    "GENOPT: NGENTOT_LC 10000\n",
    "# - - - - - - - - \n",
    "# Type Ia SN\n",
    "GENVERSION: ZTF_MSIP_MODEL01\n",
    "GENOPT: INPUT_FILE_INCLUDE $ZTF_USERS/gnarayan/SIMGEN/SIMGEN_INCLUDE_SALT2.INPUT\n",
    "GENOPT: GENTYPE 1\n",
    "GENOPT: SIMGEN_DUMP_PRESCALE 1\n",
    "GENOPT: NGENTOT_LC 1000\n",
    "ENDLIST_GENVERSION:\n",
    "### GN - keep \n",
    "#GENOPT_GLOBAL: SIMLIB_FILE $LSST_ROOT/simlibs/minionv3_1016_WFD.simlib.COADD  SOLID_ANGLE 5.08  SEARCHEFF_zHOST_FILE $ZTF_USERS/gnarayan/SIMGEN/SEARCHEFF_zHOST_PLASTICC_WFD.DAT\n",
    "RESET_CIDOFF: 2  # flag to generate unique CID for each model\n",
    "# specify sim-input files for snlc_sim.exe\n",
    "SIMGEN_INFILE_NONIa:    SIMGEN_TEMPLATE_ZTF.INPUT\n",
    "#NGEN_UNIT:  0.025   SURVEY  \n",
    "# define required global items to ensure uniformity among all jobs\n",
    "H0:  70\n",
    "##ZRANGE:       0.011  1.4\n",
    "GENPREFIX:    ZTF_MSIP\n",
    "FORMAT_MASK:  112     # 32=FITS, 16=RandomCID, 64=compact\n",
    "# the same RANSEED-repeated means that each job has new seed,\n",
    "# but that all jobs are re-combined as if only one job had run.\n",
    "RANSEED_REPEAT: 40  3773459"
   ]
  },
  {
   "cell_type": "code",
   "execution_count": null,
   "metadata": {},
   "outputs": [],
   "source": []
  },
  {
   "cell_type": "code",
   "execution_count": null,
   "metadata": {},
   "outputs": [],
   "source": []
  },
  {
   "cell_type": "code",
   "execution_count": null,
   "metadata": {},
   "outputs": [],
   "source": []
  },
  {
   "cell_type": "code",
   "execution_count": null,
   "metadata": {},
   "outputs": [],
   "source": []
  },
  {
   "cell_type": "code",
   "execution_count": null,
   "metadata": {},
   "outputs": [],
   "source": []
  },
  {
   "cell_type": "code",
   "execution_count": null,
   "metadata": {},
   "outputs": [],
   "source": []
  }
 ],
 "metadata": {
  "kernelspec": {
   "display_name": "Python 3",
   "language": "python",
   "name": "python3"
  },
  "language_info": {
   "codemirror_mode": {
    "name": "ipython",
    "version": 3
   },
   "file_extension": ".py",
   "mimetype": "text/x-python",
   "name": "python",
   "nbconvert_exporter": "python",
   "pygments_lexer": "ipython3",
   "version": "3.7.7"
  }
 },
 "nbformat": 4,
 "nbformat_minor": 4
}

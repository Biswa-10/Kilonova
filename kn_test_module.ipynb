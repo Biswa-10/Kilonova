{
 "cells": [
  {
   "cell_type": "code",
   "execution_count": 1,
   "metadata": {},
   "outputs": [],
   "source": [
    "import numpy as np"
   ]
  },
  {
   "cell_type": "code",
   "execution_count": 2,
   "metadata": {},
   "outputs": [],
   "source": [
    "from dataframe import Data\n",
    "from io_utils import *\n",
    "import matplotlib.pyplot as plt"
   ]
  },
  {
   "cell_type": "code",
   "execution_count": 3,
   "metadata": {},
   "outputs": [],
   "source": [
    "from pandas import DataFrame\n",
    "from Predict_lc import PredictLightCurve\n",
    "import fink_science\n",
    "import os\n",
    "from fink_science.utilities import load_scikit_model"
   ]
  },
  {
   "cell_type": "code",
   "execution_count": 4,
   "metadata": {},
   "outputs": [],
   "source": [
    "from prediction_evaluation import PredictionEvaluation"
   ]
  },
  {
   "cell_type": "code",
   "execution_count": 5,
   "metadata": {},
   "outputs": [],
   "source": [
    "data_ob = load_ztf_data(phot_path='/media/biswajit/drive/Kilonova_datasets/ZTF_20190512/ZTF_MSIP_MODEL51/ZTF_MSIP_NONIaMODEL0-0001_PHOT.FITS', drop_separators=True)"
   ]
  },
  {
   "cell_type": "code",
   "execution_count": 6,
   "metadata": {},
   "outputs": [
    {
     "data": {
      "application/vnd.jupyter.widget-view+json": {
       "model_id": "9621bca40098468482dd43b947635167",
       "version_major": 2,
       "version_minor": 0
      },
      "text/plain": [
       "HBox(children=(FloatProgress(value=0.0, max=219.0), HTML(value='')))"
      ]
     },
     "metadata": {},
     "output_type": "display_data"
    },
    {
     "name": "stderr",
     "output_type": "stream",
     "text": [
      "/home/biswajit/anaconda3/envs/kilonova/lib/python3.7/site-packages/scipy/optimize/optimize.py:1166: RuntimeWarning: divide by zero encountered in double_scalars\n",
      "  rhok = 1.0 / (np.dot(yk, sk))\n",
      "/home/biswajit/anaconda3/envs/kilonova/lib/python3.7/site-packages/scipy/optimize/optimize.py:1166: RuntimeWarning: divide by zero encountered in double_scalars\n",
      "  rhok = 1.0 / (np.dot(yk, sk))\n",
      "/home/biswajit/anaconda3/envs/kilonova/lib/python3.7/site-packages/scipy/optimize/optimize.py:1166: RuntimeWarning: divide by zero encountered in double_scalars\n",
      "  rhok = 1.0 / (np.dot(yk, sk))\n"
     ]
    },
    {
     "name": "stdout",
     "output_type": "stream",
     "text": [
      "\n"
     ]
    }
   ],
   "source": [
    "color_band_dict = {'g':'C2', 'r':'C3'}\n",
    "\n",
    "data_ob.create_features_df(prediction_type_nos= [151,150],\n",
    "                            band_choice='u', \n",
    "                            num_pc_components=3,\n",
    "                            min_flux_threshold =200,\n",
    "                           )"
   ]
  },
  {
   "cell_type": "code",
   "execution_count": 25,
   "metadata": {},
   "outputs": [
    {
     "name": "stdout",
     "output_type": "stream",
     "text": [
      "           id  type        0pc1        0pc2        0pc3  0n         1pc1  \\\n",
      "125  54301457   151  397.511109 -262.858454  417.124596  17  1842.553056   \n",
      "\n",
      "           1pc2         1pc3  1n  y_true  \n",
      "125 -661.358113  1332.510016  16       1  \n"
     ]
    }
   ],
   "source": [
    "print(data_ob.features_df[data_ob.features_df['id']==54301457])"
   ]
  },
  {
   "cell_type": "code",
   "execution_count": 14,
   "metadata": {},
   "outputs": [],
   "source": [
    "curdir = os.path.dirname(os.path.abspath(fink_science.__file__))\n",
    "model = curdir + '/data/models/kilonova_model.pkl'\n",
    "#model = '/home/biswajit/Kilonova/models/kn_model_new2.pkl' \n",
    "clf = load_scikit_model(model)"
   ]
  },
  {
   "cell_type": "code",
   "execution_count": 16,
   "metadata": {},
   "outputs": [
    {
     "name": "stdout",
     "output_type": "stream",
     "text": [
      "['0n', '0pc1', '0pc2', '0pc3', '1n', '1pc1', '1pc2', '1pc3']\n"
     ]
    }
   ],
   "source": [
    "cols = []\n",
    "bands = ['g','r']\n",
    "num_pc_components =3\n",
    "use_number_of_points = True\n",
    "for i,band in enumerate(bands):\n",
    "    for j in range(1,num_pc_components+1):\n",
    "        if use_number_of_points:\n",
    "            if j ==1:\n",
    "                col_name = str(i)+'n'\n",
    "                cols.append(col_name)\n",
    "        col_name = str(i)+'pc'+str(j)\n",
    "        cols.append(col_name)\n",
    "        \n",
    "print(cols)\n",
    "        "
   ]
  },
  {
   "cell_type": "code",
   "execution_count": 23,
   "metadata": {},
   "outputs": [],
   "source": [
    "data_ob.features_df = data_ob.features_df[data_ob.features_df['id']==54301457]"
   ]
  },
  {
   "cell_type": "code",
   "execution_count": 26,
   "metadata": {},
   "outputs": [
    {
     "data": {
      "text/html": [
       "<div>\n",
       "<style scoped>\n",
       "    .dataframe tbody tr th:only-of-type {\n",
       "        vertical-align: middle;\n",
       "    }\n",
       "\n",
       "    .dataframe tbody tr th {\n",
       "        vertical-align: top;\n",
       "    }\n",
       "\n",
       "    .dataframe thead th {\n",
       "        text-align: right;\n",
       "    }\n",
       "</style>\n",
       "<table border=\"1\" class=\"dataframe\">\n",
       "  <thead>\n",
       "    <tr style=\"text-align: right;\">\n",
       "      <th></th>\n",
       "      <th>id</th>\n",
       "      <th>type</th>\n",
       "      <th>0pc1</th>\n",
       "      <th>0pc2</th>\n",
       "      <th>0pc3</th>\n",
       "      <th>0n</th>\n",
       "      <th>1pc1</th>\n",
       "      <th>1pc2</th>\n",
       "      <th>1pc3</th>\n",
       "      <th>1n</th>\n",
       "      <th>y_true</th>\n",
       "    </tr>\n",
       "  </thead>\n",
       "  <tbody>\n",
       "    <tr>\n",
       "      <th>125</th>\n",
       "      <td>54301457</td>\n",
       "      <td>151</td>\n",
       "      <td>397.511109</td>\n",
       "      <td>-262.858454</td>\n",
       "      <td>417.124596</td>\n",
       "      <td>17</td>\n",
       "      <td>1842.553056</td>\n",
       "      <td>-661.358113</td>\n",
       "      <td>1332.510016</td>\n",
       "      <td>16</td>\n",
       "      <td>1</td>\n",
       "    </tr>\n",
       "  </tbody>\n",
       "</table>\n",
       "</div>"
      ],
      "text/plain": [
       "           id  type        0pc1        0pc2        0pc3  0n         1pc1  \\\n",
       "125  54301457   151  397.511109 -262.858454  417.124596  17  1842.553056   \n",
       "\n",
       "           1pc2         1pc3  1n  y_true  \n",
       "125 -661.358113  1332.510016  16       1  "
      ]
     },
     "execution_count": 26,
     "metadata": {},
     "output_type": "execute_result"
    }
   ],
   "source": [
    "data_ob.features_df"
   ]
  },
  {
   "cell_type": "code",
   "execution_count": 24,
   "metadata": {},
   "outputs": [
    {
     "name": "stdout",
     "output_type": "stream",
     "text": [
      "[  17.          397.5111091  -262.8584538   417.12459627   16.\n",
      " 1842.55305592 -661.35811273 1332.51001608]\n"
     ]
    }
   ],
   "source": [
    "print(data_ob.features_df[cols].values[0])"
   ]
  },
  {
   "cell_type": "code",
   "execution_count": 18,
   "metadata": {},
   "outputs": [],
   "source": [
    "x_data = data_ob.features_df[cols].values\n",
    "y_data = data_ob.features_df['y_true'].values\n",
    "\n",
    "y_pred_data=clf.predict(x_data)\n",
    "y_score= clf.predict_proba(x_data)"
   ]
  },
  {
   "cell_type": "code",
   "execution_count": 19,
   "metadata": {},
   "outputs": [
    {
     "data": {
      "text/plain": [
       "array([[0.64200752, 0.35799248],\n",
       "       [0.66970978, 0.33029022],\n",
       "       [0.74961184, 0.25038816],\n",
       "       [0.35942322, 0.64057678],\n",
       "       [0.48678888, 0.51321112],\n",
       "       [0.72279379, 0.27720621],\n",
       "       [0.88421034, 0.11578966],\n",
       "       [0.49980722, 0.50019278],\n",
       "       [0.27862824, 0.72137176],\n",
       "       [0.45234541, 0.54765459],\n",
       "       [0.50447818, 0.49552182],\n",
       "       [0.28226825, 0.71773175],\n",
       "       [0.69952463, 0.30047537],\n",
       "       [0.5781252 , 0.4218748 ],\n",
       "       [0.62224781, 0.37775219],\n",
       "       [0.36408289, 0.63591711],\n",
       "       [0.98885279, 0.01114721],\n",
       "       [0.8459784 , 0.1540216 ],\n",
       "       [0.74339095, 0.25660905],\n",
       "       [0.79613912, 0.20386088],\n",
       "       [0.73522743, 0.26477257],\n",
       "       [0.37449461, 0.62550539],\n",
       "       [0.68347271, 0.31652729],\n",
       "       [0.28218723, 0.71781277],\n",
       "       [0.33704212, 0.66295788],\n",
       "       [0.33651239, 0.66348761],\n",
       "       [0.33895284, 0.66104716],\n",
       "       [0.59747076, 0.40252924],\n",
       "       [0.32985173, 0.67014827],\n",
       "       [0.79217124, 0.20782876],\n",
       "       [0.43890519, 0.56109481],\n",
       "       [0.65229139, 0.34770861],\n",
       "       [0.50275127, 0.49724873],\n",
       "       [0.93116875, 0.06883125],\n",
       "       [0.86046243, 0.13953757],\n",
       "       [0.67628229, 0.32371771],\n",
       "       [0.50960123, 0.49039877],\n",
       "       [0.56602298, 0.43397702],\n",
       "       [0.79883547, 0.20116453],\n",
       "       [0.51649615, 0.48350385],\n",
       "       [0.42574618, 0.57425382],\n",
       "       [0.36419953, 0.63580047],\n",
       "       [0.53428314, 0.46571686],\n",
       "       [0.46624653, 0.53375347],\n",
       "       [0.57838634, 0.42161366],\n",
       "       [0.47414796, 0.52585204],\n",
       "       [0.72982019, 0.27017981],\n",
       "       [0.72740585, 0.27259415],\n",
       "       [0.78673486, 0.21326514],\n",
       "       [0.93682877, 0.06317123],\n",
       "       [0.80044943, 0.19955057],\n",
       "       [0.7506295 , 0.2493705 ],\n",
       "       [0.69287229, 0.30712771],\n",
       "       [0.77918116, 0.22081884],\n",
       "       [0.58560642, 0.41439358],\n",
       "       [0.31246551, 0.68753449],\n",
       "       [0.40315478, 0.59684522],\n",
       "       [0.40127985, 0.59872015],\n",
       "       [0.77828586, 0.22171414],\n",
       "       [0.65876259, 0.34123741],\n",
       "       [0.29703183, 0.70296817],\n",
       "       [0.81343862, 0.18656138],\n",
       "       [0.37414516, 0.62585484],\n",
       "       [0.54899424, 0.45100576],\n",
       "       [0.93819561, 0.06180439],\n",
       "       [0.40216307, 0.59783693],\n",
       "       [0.33477333, 0.66522667],\n",
       "       [0.35695962, 0.64304038],\n",
       "       [0.69278772, 0.30721228],\n",
       "       [0.60390544, 0.39609456],\n",
       "       [0.65436982, 0.34563018],\n",
       "       [0.63407517, 0.36592483],\n",
       "       [0.35882729, 0.64117271],\n",
       "       [0.63109641, 0.36890359],\n",
       "       [0.77768408, 0.22231592],\n",
       "       [0.64582759, 0.35417241],\n",
       "       [0.53498011, 0.46501989],\n",
       "       [0.53452076, 0.46547924],\n",
       "       [0.26933612, 0.73066388],\n",
       "       [0.51816041, 0.48183959],\n",
       "       [0.54435439, 0.45564561],\n",
       "       [0.54055643, 0.45944357],\n",
       "       [0.57964487, 0.42035513],\n",
       "       [0.50445861, 0.49554139],\n",
       "       [0.49377667, 0.50622333],\n",
       "       [0.75561063, 0.24438937],\n",
       "       [0.47460153, 0.52539847],\n",
       "       [0.50311942, 0.49688058],\n",
       "       [0.73654616, 0.26345384],\n",
       "       [0.82816184, 0.17183816],\n",
       "       [0.61558614, 0.38441386],\n",
       "       [0.89292961, 0.10707039],\n",
       "       [0.89477904, 0.10522096],\n",
       "       [0.97517463, 0.02482537],\n",
       "       [0.63015905, 0.36984095],\n",
       "       [0.55610895, 0.44389105],\n",
       "       [0.57727897, 0.42272103],\n",
       "       [0.78253682, 0.21746318],\n",
       "       [0.30280526, 0.69719474],\n",
       "       [0.51699261, 0.48300739],\n",
       "       [0.78671086, 0.21328914],\n",
       "       [0.76466491, 0.23533509],\n",
       "       [0.50825169, 0.49174831],\n",
       "       [0.57290385, 0.42709615],\n",
       "       [0.77719973, 0.22280027],\n",
       "       [0.39232901, 0.60767099],\n",
       "       [0.74834912, 0.25165088],\n",
       "       [0.82119129, 0.17880871],\n",
       "       [0.29619457, 0.70380543],\n",
       "       [0.6659412 , 0.3340588 ],\n",
       "       [0.29486507, 0.70513493],\n",
       "       [0.77827411, 0.22172589],\n",
       "       [0.40706855, 0.59293145],\n",
       "       [0.62363867, 0.37636133],\n",
       "       [0.37777167, 0.62222833],\n",
       "       [0.3018004 , 0.6981996 ],\n",
       "       [0.38630805, 0.61369195],\n",
       "       [0.41457243, 0.58542757],\n",
       "       [0.31039285, 0.68960715],\n",
       "       [0.61391641, 0.38608359],\n",
       "       [0.86908072, 0.13091928],\n",
       "       [0.49556382, 0.50443618],\n",
       "       [0.62226398, 0.37773602],\n",
       "       [0.54353772, 0.45646228],\n",
       "       [0.42165859, 0.57834141],\n",
       "       [0.33380138, 0.66619862],\n",
       "       [0.77018439, 0.22981561],\n",
       "       [0.32482959, 0.67517041],\n",
       "       [0.57321164, 0.42678836],\n",
       "       [0.68490327, 0.31509673],\n",
       "       [0.80873595, 0.19126405],\n",
       "       [0.78342619, 0.21657381],\n",
       "       [0.68696282, 0.31303718],\n",
       "       [0.95957905, 0.04042095],\n",
       "       [0.4830313 , 0.5169687 ],\n",
       "       [0.38508408, 0.61491592],\n",
       "       [0.56150161, 0.43849839],\n",
       "       [0.86401052, 0.13598948],\n",
       "       [0.92128245, 0.07871755],\n",
       "       [0.61601888, 0.38398112],\n",
       "       [0.58314932, 0.41685068],\n",
       "       [0.42454496, 0.57545504],\n",
       "       [0.50967444, 0.49032556],\n",
       "       [0.52978618, 0.47021382],\n",
       "       [0.64518518, 0.35481482],\n",
       "       [0.62727251, 0.37272749],\n",
       "       [0.70741046, 0.29258954],\n",
       "       [0.29303464, 0.70696536],\n",
       "       [0.33567023, 0.66432977],\n",
       "       [0.52716662, 0.47283338],\n",
       "       [0.45381768, 0.54618232],\n",
       "       [0.7278081 , 0.2721919 ],\n",
       "       [0.26440022, 0.73559978],\n",
       "       [0.32478069, 0.67521931],\n",
       "       [0.56477061, 0.43522939],\n",
       "       [0.7795271 , 0.2204729 ],\n",
       "       [0.91804108, 0.08195892],\n",
       "       [0.59300533, 0.40699467],\n",
       "       [0.30465338, 0.69534662],\n",
       "       [0.32434736, 0.67565264],\n",
       "       [0.32573853, 0.67426147],\n",
       "       [0.7550897 , 0.2449103 ],\n",
       "       [0.31451841, 0.68548159],\n",
       "       [0.35530285, 0.64469715],\n",
       "       [0.41429795, 0.58570205],\n",
       "       [0.60617007, 0.39382993],\n",
       "       [0.47379743, 0.52620257],\n",
       "       [0.74734065, 0.25265935],\n",
       "       [0.43451178, 0.56548822],\n",
       "       [0.74823819, 0.25176181],\n",
       "       [0.33193219, 0.66806781],\n",
       "       [0.29486507, 0.70513493],\n",
       "       [0.70902325, 0.29097675],\n",
       "       [0.82106762, 0.17893238],\n",
       "       [0.88921365, 0.11078635],\n",
       "       [0.36258759, 0.63741241],\n",
       "       [0.76321795, 0.23678205],\n",
       "       [0.38748962, 0.61251038],\n",
       "       [0.84320442, 0.15679558],\n",
       "       [0.64794412, 0.35205588],\n",
       "       [0.76112185, 0.23887815],\n",
       "       [0.72654015, 0.27345985],\n",
       "       [0.3182337 , 0.6817663 ],\n",
       "       [0.66899388, 0.33100612],\n",
       "       [0.87677779, 0.12322221],\n",
       "       [0.52798763, 0.47201237],\n",
       "       [0.35562837, 0.64437163],\n",
       "       [0.30260788, 0.69739212],\n",
       "       [0.42430027, 0.57569973],\n",
       "       [0.34084182, 0.65915818],\n",
       "       [0.74595183, 0.25404817],\n",
       "       [0.42818048, 0.57181952],\n",
       "       [0.9525795 , 0.0474205 ],\n",
       "       [0.45912844, 0.54087156],\n",
       "       [0.54761315, 0.45238685],\n",
       "       [0.2911556 , 0.7088444 ],\n",
       "       [0.60047161, 0.39952839],\n",
       "       [0.87210074, 0.12789926],\n",
       "       [0.32761852, 0.67238148],\n",
       "       [0.55649718, 0.44350282],\n",
       "       [0.31987562, 0.68012438],\n",
       "       [0.48057158, 0.51942842],\n",
       "       [0.440831  , 0.559169  ],\n",
       "       [0.90835639, 0.09164361],\n",
       "       [0.70451098, 0.29548902],\n",
       "       [0.72740585, 0.27259415],\n",
       "       [0.53488044, 0.46511956],\n",
       "       [0.60426607, 0.39573393],\n",
       "       [0.94406444, 0.05593556],\n",
       "       [0.64982567, 0.35017433],\n",
       "       [0.47851193, 0.52148807],\n",
       "       [0.75420314, 0.24579686],\n",
       "       [0.56094853, 0.43905147],\n",
       "       [0.33329431, 0.66670569],\n",
       "       [0.35090271, 0.64909729],\n",
       "       [0.30182103, 0.69817897],\n",
       "       [0.98008165, 0.01991835],\n",
       "       [0.58263959, 0.41736041],\n",
       "       [0.7809649 , 0.2190351 ]])"
      ]
     },
     "execution_count": 19,
     "metadata": {},
     "output_type": "execute_result"
    }
   ],
   "source": [
    "y_score"
   ]
  },
  {
   "cell_type": "code",
   "execution_count": 21,
   "metadata": {},
   "outputs": [
    {
     "name": "stdout",
     "output_type": "stream",
     "text": [
      "80\n"
     ]
    }
   ],
   "source": [
    "print(np.sum(y_pred_data))"
   ]
  },
  {
   "cell_type": "code",
   "execution_count": 29,
   "metadata": {},
   "outputs": [
    {
     "data": {
      "text/plain": [
       "array([[  0, 139],\n",
       "       [  0,  80]])"
      ]
     },
     "execution_count": 29,
     "metadata": {},
     "output_type": "execute_result"
    }
   ],
   "source": [
    "import sklearn \n",
    "sklearn.metrics.confusion_matrix(y_pred_data, y_data)"
   ]
  },
  {
   "cell_type": "code",
   "execution_count": null,
   "metadata": {},
   "outputs": [],
   "source": []
  }
 ],
 "metadata": {
  "kernelspec": {
   "display_name": "kilonova",
   "language": "python",
   "name": "kilonova"
  },
  "language_info": {
   "codemirror_mode": {
    "name": "ipython",
    "version": 3
   },
   "file_extension": ".py",
   "mimetype": "text/x-python",
   "name": "python",
   "nbconvert_exporter": "python",
   "pygments_lexer": "ipython3",
   "version": "3.7.7"
  }
 },
 "nbformat": 4,
 "nbformat_minor": 4
}

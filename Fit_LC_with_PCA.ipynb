{
 "cells": [
  {
   "cell_type": "code",
   "execution_count": 2,
   "metadata": {},
   "outputs": [],
   "source": [
    "import numpy as np\n",
    "import gc"
   ]
  },
  {
   "cell_type": "code",
   "execution_count": 3,
   "metadata": {},
   "outputs": [],
   "source": [
    "from dataframe import Data\n",
    "from SNANA_FITS_to_pd import read_fits\n",
    "%matplotlib inline\n",
    "import matplotlib.pyplot as plt\n",
    "import matplotlib \n",
    "from io_utils import *\n",
    "from random import random"
   ]
  },
  {
   "cell_type": "code",
   "execution_count": 4,
   "metadata": {},
   "outputs": [],
   "source": [
    "dataset_val = 1"
   ]
  },
  {
   "cell_type": "code",
   "execution_count": 5,
   "metadata": {},
   "outputs": [],
   "source": [
    "%load_ext memory_profiler"
   ]
  },
  {
   "cell_type": "code",
   "execution_count": 6,
   "metadata": {},
   "outputs": [],
   "source": [
    "if dataset_val == 0:\n",
    "    dataset =  \"PLAsTiCC\"\n",
    "    data_ob = load_PLAsTiCC_data()\n",
    "    object_ids = data_ob.get_all_object_ids()\n",
    "    kilonova_ids=data_ob.get_ids_of_event_type(64)\n",
    "    color_band_dict = {0:'C4',1:'C2', 2:'C3', 3:'C1', 4:'k', 5:'C5'}"
   ]
  },
  {
   "cell_type": "code",
   "execution_count": 7,
   "metadata": {},
   "outputs": [],
   "source": [
    "if dataset_val == 1:    \n",
    "    dataset = \"ZTF\"\n",
    "    data_ob = load_ztf_data()\n",
    "    object_ids = data_ob.get_all_object_ids()\n",
    "    kilonova_ids = object_ids\n",
    "    color_band_dict = {b'g ':'C2', b'r ':'C3'}"
   ]
  },
  {
   "cell_type": "code",
   "execution_count": 8,
   "metadata": {},
   "outputs": [],
   "source": [
    "from LightCurve import LightCurve"
   ]
  },
  {
   "cell_type": "code",
   "execution_count": 9,
   "metadata": {},
   "outputs": [],
   "source": [
    "def predict_lt_curve(coeff, PCs):\n",
    "    predict_comb = np.zeros_like(PCs.shape[1])\n",
    "    for a,b in zip(PCs,coeff): predict_comb=np.add(predict_comb,b*a)\n",
    "    return predict_comb"
   ]
  },
  {
   "cell_type": "code",
   "execution_count": 10,
   "metadata": {},
   "outputs": [],
   "source": [
    "def calc_loss(coeff, PCs, light_curve_seg):\n",
    "    index = light_curve_seg!=0\n",
    "    y_pred = predict_lt_curve(coeff,PCs)\n",
    "    diff = light_curve_seg - y_pred\n",
    "    neg_index = y_pred<0\n",
    "    diff = diff[(index)|(neg_index)]\n",
    "    \n",
    "    #diff = diff[index]\n",
    "    \n",
    "    error = np.sum(np.multiply(diff,diff))\n",
    "    return error"
   ]
  },
  {
   "cell_type": "code",
   "execution_count": 11,
   "metadata": {},
   "outputs": [],
   "source": [
    "from scipy.optimize import least_squares\n",
    "from scipy.optimize import curve_fit"
   ]
  },
  {
   "cell_type": "code",
   "execution_count": 12,
   "metadata": {},
   "outputs": [
    {
     "data": {
      "text/plain": [
       "(3, 51)"
      ]
     },
     "execution_count": 12,
     "metadata": {},
     "output_type": "execute_result"
    }
   ],
   "source": [
    "PCs = np.load(\"principal_components/PCs.npy\")\n",
    "PCs = PCs[0:3]\n",
    "PCs.shape"
   ]
  },
  {
   "cell_type": "code",
   "execution_count": 13,
   "metadata": {},
   "outputs": [
    {
     "name": "stdout",
     "output_type": "stream",
     "text": [
      "248\n"
     ]
    }
   ],
   "source": [
    "print(len(object_ids))"
   ]
  },
  {
   "cell_type": "code",
   "execution_count": 14,
   "metadata": {},
   "outputs": [],
   "source": [
    "def get_binned_time(df):\n",
    "    return df[data_ob.time_col_name]-df[data_ob.time_col_name]%2"
   ]
  },
  {
   "cell_type": "code",
   "execution_count": 2,
   "metadata": {
    "scrolled": true
   },
   "outputs": [
    {
     "ename": "NameError",
     "evalue": "name 'kilonova_ids' is not defined",
     "output_type": "error",
     "traceback": [
      "\u001b[0;31m---------------------------------------------------------------------------\u001b[0m",
      "\u001b[0;31mNameError\u001b[0m                                 Traceback (most recent call last)",
      "\u001b[0;32m<ipython-input-2-b61481a98dd7>\u001b[0m in \u001b[0;36m<module>\u001b[0;34m()\u001b[0m\n\u001b[1;32m      2\u001b[0m \u001b[0mno_of_predicted_days\u001b[0m \u001b[0;34m=\u001b[0m \u001b[0;36m51\u001b[0m\u001b[0;34m\u001b[0m\u001b[0m\n\u001b[1;32m      3\u001b[0m \u001b[0;34m\u001b[0m\u001b[0m\n\u001b[0;32m----> 4\u001b[0;31m \u001b[0;32mfor\u001b[0m \u001b[0mobject_id\u001b[0m \u001b[0;32min\u001b[0m \u001b[0mkilonova_ids\u001b[0m\u001b[0;34m:\u001b[0m\u001b[0;34m\u001b[0m\u001b[0m\n\u001b[0m\u001b[1;32m      5\u001b[0m     \u001b[0;31m#print(object_id)\u001b[0m\u001b[0;34m\u001b[0m\u001b[0;34m\u001b[0m\u001b[0m\n\u001b[1;32m      6\u001b[0m     \u001b[0mevent_df\u001b[0m \u001b[0;34m=\u001b[0m \u001b[0mdata_ob\u001b[0m\u001b[0;34m.\u001b[0m\u001b[0mget_data_of_event\u001b[0m\u001b[0;34m(\u001b[0m\u001b[0mtarget\u001b[0m\u001b[0;34m=\u001b[0m\u001b[0mobject_id\u001b[0m\u001b[0;34m)\u001b[0m\u001b[0;34m\u001b[0m\u001b[0m\n",
      "\u001b[0;31mNameError\u001b[0m: name 'kilonova_ids' is not defined"
     ]
    }
   ],
   "source": [
    "time_step = 2 \n",
    "no_of_predicted_days = 51\n",
    "\n",
    "for object_id in kilonova_ids:\n",
    "    #print(object_id)\n",
    "    event_df = data_ob.get_data_of_event(target=object_id)\n",
    "\n",
    "    #print(event_df)\n",
    "    lc = LightCurve(event_df, time_col_name=data_ob.time_col_name, brightness_col_name=data_ob.flux_col_name, brightness_err_col_name=data_ob.flux_err_col_name,band_col_name=data_ob.band_col_name, band_map=data_ob.band_map)\n",
    "    fig = lc.plot_max_flux_regions(color_band_dict, priority=1, plot_points=True)\n",
    "\n",
    "    axes_list = fig.axes\n",
    "\n",
    "    #print(axes_list)\n",
    "    \n",
    "    for ax in axes_list:\n",
    "\n",
    "        right,left = ax.get_xlim()\n",
    "        mid_point = (right+left)/2\n",
    "        \n",
    "        mid_point = mid_point-mid_point%2\n",
    "        start_date=mid_point-(no_of_predicted_days-1)*time_step/2 \n",
    "        end_date= mid_point+(no_of_predicted_days-1)*time_step/2 \n",
    "        start_index = event_df[data_ob.time_col_name] >= start_date\n",
    "        end_index = event_df[data_ob.time_col_name] <= end_date  \n",
    "\n",
    "        \n",
    "        for band in data_ob.band_map.keys():\n",
    "            band_index = event_df[data_ob.band_col_name] == band\n",
    "            band_df = event_df[band_index&start_index&end_index]\n",
    "            if len(band_df)>0:\n",
    "                #print(band_df)\n",
    "                binned_dates = get_binned_time(band_df)\n",
    "                b2 = (binned_dates-mid_point+no_of_predicted_days-1)/2\n",
    "                b2 = b2.astype(int)\n",
    "                light_curve_seg = np.zeros((no_of_predicted_days))\n",
    "                max_flux_val = np.amax(band_df[data_ob.flux_col_name])       \n",
    "                #light_curve_seg[b2[:]] = band_df[data_ob.flux_col_name]/max_flux_val\n",
    "                light_curve_seg[b2[:]] = band_df[data_ob.flux_col_name]\n",
    "                #print(light_curve_seg)\n",
    "                #initial_guess = np.zeros((PCs.shape[0]))\n",
    "                initial_guess = [.93,.04 ,.012]\n",
    "                \n",
    "                \n",
    "                result = least_squares(calc_loss, initial_guess, args=(PCs, light_curve_seg))\n",
    "                \n",
    "                #result = curve_fit(calc_loss, xdata= PCs, ydata= light_curve_seg, p0= initial_guess, args=(PCs, light_curve_seg))\n",
    "\n",
    "                predicted_lt_curve = predict_lt_curve(result.x,PCs)\n",
    "                #print(predicted_lt_curve)\n",
    "                x_data = np.arange(start_date,end_date+2,2)\n",
    "                ax.plot(x_data,predicted_lt_curve, label=\"predicted\", color=color_band_dict[band])\n",
    "\n",
    "    #plt.savefig(\"Linear_combinations/\"+ dataset+ \"/\"+str(object_id)+\"all_bands_with_modified_loss\")\n",
    "    plt.show()\n",
    "    plt.close('all')\n",
    "\n",
    "    #print(\"----------------------------------------------------------\")"
   ]
  },
  {
   "cell_type": "code",
   "execution_count": 3,
   "metadata": {},
   "outputs": [
    {
     "ename": "NameError",
     "evalue": "name 'result' is not defined",
     "output_type": "error",
     "traceback": [
      "\u001b[0;31m---------------------------------------------------------------------------\u001b[0m",
      "\u001b[0;31mNameError\u001b[0m                                 Traceback (most recent call last)",
      "\u001b[0;32m<ipython-input-3-8dc07da73bbc>\u001b[0m in \u001b[0;36m<module>\u001b[0;34m()\u001b[0m\n\u001b[0;32m----> 1\u001b[0;31m \u001b[0mprint\u001b[0m\u001b[0;34m(\u001b[0m\u001b[0mresult\u001b[0m\u001b[0;34m.\u001b[0m\u001b[0mx\u001b[0m\u001b[0;34m)\u001b[0m\u001b[0;34m\u001b[0m\u001b[0m\n\u001b[0m\u001b[1;32m      2\u001b[0m \u001b[0mPC\u001b[0m\u001b[0;34m\u001b[0m\u001b[0m\n",
      "\u001b[0;31mNameError\u001b[0m: name 'result' is not defined"
     ]
    }
   ],
   "source": [
    "print(result.x)\n",
    "PC"
   ]
  },
  {
   "cell_type": "code",
   "execution_count": 4,
   "metadata": {},
   "outputs": [
    {
     "ename": "NameError",
     "evalue": "name 'PCs' is not defined",
     "output_type": "error",
     "traceback": [
      "\u001b[0;31m---------------------------------------------------------------------------\u001b[0m",
      "\u001b[0;31mNameError\u001b[0m                                 Traceback (most recent call last)",
      "\u001b[0;32m<ipython-input-4-915879926664>\u001b[0m in \u001b[0;36m<module>\u001b[0;34m()\u001b[0m\n\u001b[0;32m----> 1\u001b[0;31m \u001b[0mPCs\u001b[0m\u001b[0;34m.\u001b[0m\u001b[0mshape\u001b[0m\u001b[0;34m\u001b[0m\u001b[0m\n\u001b[0m",
      "\u001b[0;31mNameError\u001b[0m: name 'PCs' is not defined"
     ]
    }
   ],
   "source": [
    "PCs.shape"
   ]
  },
  {
   "cell_type": "code",
   "execution_count": null,
   "metadata": {},
   "outputs": [],
   "source": [
    "fig = plt.figure(figsize=(10,5))\n",
    "for i in range(5):\n",
    "    PC = PCs[i]\n",
    "    x = np.arange(0,102,2)\n",
    "    plt.plot(x,PC,label = \"PC \"+str(i+1))\n",
    "\n",
    "plt.xlabel(\"days\", fontsize = 20)\n",
    "plt.ylabel(\"normalized flux\", fontsize=20)\n",
    "    \n",
    "plt.legend()\n",
    "plt.title(\"Plot of Principle Components\",fontsize=30)\n",
    "#fig.savefig(\"Plot of PCs\")\n",
    "plt.show()"
   ]
  },
  {
   "cell_type": "code",
   "execution_count": null,
   "metadata": {},
   "outputs": [],
   "source": []
  },
  {
   "cell_type": "code",
   "execution_count": null,
   "metadata": {},
   "outputs": [],
   "source": []
  },
  {
   "cell_type": "code",
   "execution_count": null,
   "metadata": {},
   "outputs": [],
   "source": []
  },
  {
   "cell_type": "code",
   "execution_count": null,
   "metadata": {},
   "outputs": [],
   "source": []
  },
  {
   "cell_type": "code",
   "execution_count": null,
   "metadata": {},
   "outputs": [],
   "source": []
  },
  {
   "cell_type": "code",
   "execution_count": null,
   "metadata": {},
   "outputs": [],
   "source": []
  },
  {
   "cell_type": "code",
   "execution_count": null,
   "metadata": {},
   "outputs": [],
   "source": []
  },
  {
   "cell_type": "code",
   "execution_count": null,
   "metadata": {},
   "outputs": [],
   "source": []
  },
  {
   "cell_type": "code",
   "execution_count": null,
   "metadata": {},
   "outputs": [],
   "source": []
  },
  {
   "cell_type": "code",
   "execution_count": null,
   "metadata": {},
   "outputs": [],
   "source": []
  },
  {
   "cell_type": "code",
   "execution_count": null,
   "metadata": {},
   "outputs": [],
   "source": []
  }
 ],
 "metadata": {
  "kernelspec": {
   "display_name": "Python 3",
   "language": "python",
   "name": "python3"
  },
  "language_info": {
   "codemirror_mode": {
    "name": "ipython",
    "version": 3
   },
   "file_extension": ".py",
   "mimetype": "text/x-python",
   "name": "python",
   "nbconvert_exporter": "python",
   "pygments_lexer": "ipython3",
   "version": "3.5.6"
  }
 },
 "nbformat": 4,
 "nbformat_minor": 4
}

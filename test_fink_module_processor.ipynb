{
 "cells": [
  {
   "cell_type": "code",
   "execution_count": 1,
   "metadata": {},
   "outputs": [],
   "source": [
    "# utility from fink-science\n",
    "from fink_science.utilities import concat_col\n",
    "\n",
    "# user-defined function from the current folder\n",
    "from processor import rfscore_pca"
   ]
  },
  {
   "cell_type": "code",
   "execution_count": 2,
   "metadata": {},
   "outputs": [],
   "source": [
    "df = spark.read.format('parquet').load('/media/biswajit/drive/Kilonova_datasets/20191101')"
   ]
  },
  {
   "cell_type": "code",
   "execution_count": 3,
   "metadata": {},
   "outputs": [],
   "source": [
    "# Required alert columns\n",
    "what = ['jd', 'fid', 'magpsf', 'sigmapsf']\n",
    "\n",
    "# Use for creating temp name\n",
    "prefix = 'c'\n",
    "what_prefix = [prefix + i for i in what]\n",
    "\n",
    "# Concatenate historical + current measurements\n",
    "for colname in what:\n",
    "    df = concat_col(df, colname, prefix=prefix)\n",
    "#args = [df.col(i) for i in what_prefix]"
   ]
  },
  {
   "cell_type": "code",
   "execution_count": 4,
   "metadata": {},
   "outputs": [],
   "source": [
    "#import pickle \n",
    "pkl_filename = \"models/pickle_model.pkl\"\n",
    "#with open(pkl_filename, 'rb') as file:\n",
    "#    pickle_model = pickle.load(file)"
   ]
  },
  {
   "cell_type": "code",
   "execution_count": 5,
   "metadata": {
    "scrolled": false
   },
   "outputs": [],
   "source": [
    "#calculating probability that the alert is a kilonova\n",
    "from pyspark.sql import functions as F\n",
    "df_change = df.withColumn('pca_score', rfscore_pca('cjd', 'cfid', 'cmagpsf','csigmapsf', F.lit(\"models/pickle_model.pkl\")) )"
   ]
  },
  {
   "cell_type": "code",
   "execution_count": 6,
   "metadata": {
    "scrolled": false
   },
   "outputs": [
    {
     "name": "stdout",
     "output_type": "stream",
     "text": [
      "+-------------------+\n",
      "|          pca_score|\n",
      "+-------------------+\n",
      "|                0.0|\n",
      "|0.17748262818840746|\n",
      "|                0.0|\n",
      "|                0.0|\n",
      "|                0.0|\n",
      "| 0.1940903778117784|\n",
      "|                0.0|\n",
      "|                0.0|\n",
      "| 0.0545446320104014|\n",
      "|                0.0|\n",
      "| 0.1909867516543953|\n",
      "|                0.0|\n",
      "| 0.1909867516543953|\n",
      "|0.25635052643671463|\n",
      "|                0.0|\n",
      "|                0.0|\n",
      "|0.19293637671454517|\n",
      "|0.27040470900787916|\n",
      "| 0.1951857883239929|\n",
      "|                0.0|\n",
      "+-------------------+\n",
      "only showing top 20 rows\n",
      "\n"
     ]
    }
   ],
   "source": [
    "#first 20 prbabilities of alert being a kilonova\n",
    "df_change.select(['pca_score']).show()"
   ]
  },
  {
   "cell_type": "code",
   "execution_count": null,
   "metadata": {},
   "outputs": [],
   "source": []
  },
  {
   "cell_type": "code",
   "execution_count": null,
   "metadata": {},
   "outputs": [],
   "source": []
  },
  {
   "cell_type": "code",
   "execution_count": null,
   "metadata": {},
   "outputs": [],
   "source": []
  }
 ],
 "metadata": {
  "kernelspec": {
   "display_name": "kilonova",
   "language": "python",
   "name": "kilonova"
  },
  "language_info": {
   "codemirror_mode": {
    "name": "ipython",
    "version": 3
   },
   "file_extension": ".py",
   "mimetype": "text/x-python",
   "name": "python",
   "nbconvert_exporter": "python",
   "pygments_lexer": "ipython3",
   "version": "3.7.7"
  }
 },
 "nbformat": 4,
 "nbformat_minor": 4
}

{
 "cells": [
  {
   "cell_type": "code",
   "execution_count": 1,
   "metadata": {},
   "outputs": [],
   "source": [
    "# utility from fink-science\n",
    "from fink_science.utilities import concat_col\n",
    "\n",
    "# user-defined function from the current folder\n",
    "from processor import rfscore_pca"
   ]
  },
  {
   "cell_type": "code",
   "execution_count": null,
   "metadata": {},
   "outputs": [],
   "source": [
    "df = spark.read.format('parquet').load('/media/biswajit/drive/Kilonova_datasets/20191101')"
   ]
  },
  {
   "cell_type": "code",
   "execution_count": null,
   "metadata": {},
   "outputs": [],
   "source": [
    "# Required alert columns\n",
    "what = ['jd', 'fid', 'magpsf', 'sigmapsf']\n",
    "\n",
    "# Use for creating temp name\n",
    "prefix = 'c'\n",
    "what_prefix = [prefix + i for i in what]\n",
    "\n",
    "# Concatenate historical + current measurements\n",
    "for colname in what:\n",
    "    df = concat_col(df, colname, prefix=prefix)\n",
    "#args = [df.col(i) for i in what_prefix]"
   ]
  },
  {
   "cell_type": "code",
   "execution_count": null,
   "metadata": {},
   "outputs": [],
   "source": [
    "#import pickle \n",
    "pkl_filename = \"models/pickle_model.pkl\"\n",
    "#with open(pkl_filename, 'rb') as file:\n",
    "#    pickle_model = pickle.load(file)"
   ]
  },
  {
   "cell_type": "code",
   "execution_count": null,
   "metadata": {
    "scrolled": false
   },
   "outputs": [],
   "source": [
    "#calculating probability that the alert is a kilonova\n",
    "from pyspark.sql import functions as F\n",
    "df_change = df.withColumn('pca_score', rfscore_pca('cjd', 'cfid', 'cmagpsf','csigmapsf', F.lit(\"models/pickle_model.pkl\")) )"
   ]
  },
  {
   "cell_type": "code",
   "execution_count": null,
   "metadata": {
    "scrolled": false
   },
   "outputs": [],
   "source": [
    "#first 20 prbabilities of alert being a kilonova\n",
    "df_change.select(['pca_score']).show()"
   ]
  },
  {
   "cell_type": "code",
   "execution_count": null,
   "metadata": {},
   "outputs": [],
   "source": []
  },
  {
   "cell_type": "code",
   "execution_count": null,
   "metadata": {},
   "outputs": [],
   "source": []
  },
  {
   "cell_type": "code",
   "execution_count": null,
   "metadata": {},
   "outputs": [],
   "source": []
  }
 ],
 "metadata": {
  "kernelspec": {
   "display_name": "kilonova",
   "language": "python",
   "name": "kilonova"
  },
  "language_info": {
   "codemirror_mode": {
    "name": "ipython",
    "version": 3
   },
   "file_extension": ".py",
   "mimetype": "text/x-python",
   "name": "python",
   "nbconvert_exporter": "python",
   "pygments_lexer": "ipython3",
   "version": "3.7.7"
  }
 },
 "nbformat": 4,
 "nbformat_minor": 4
}

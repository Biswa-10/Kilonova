{
 "cells": [
  {
   "cell_type": "code",
   "execution_count": 6,
   "metadata": {},
   "outputs": [],
   "source": [
    "import pandas as pd\n",
    "from astropy.table import Table\n",
    "import numpy as np\n",
    "import matplotlib.pyplot as plt"
   ]
  },
  {
   "cell_type": "code",
   "execution_count": 7,
   "metadata": {},
   "outputs": [],
   "source": [
    "df = Table.read('/media/biswajit/drive/RESSPECT_PERFECT_LIGHTCURVE.csv' )"
   ]
  },
  {
   "cell_type": "code",
   "execution_count": 8,
   "metadata": {
    "scrolled": true
   },
   "outputs": [
    {
     "data": {
      "text/html": [
       "<i>Table length=2050770</i>\n",
       "<table id=\"table139870600775664\" class=\"table-striped table-bordered table-condensed\">\n",
       "<thead><tr><th>SNID</th><th>MJD</th><th>FLT</th><th>FLUXCAL</th><th>FLUXCALERR</th><th>SNR</th></tr></thead>\n",
       "<thead><tr><th>float64</th><th>float64</th><th>str1</th><th>float64</th><th>float64</th><th>float64</th></tr></thead>\n",
       "<tr><td>3228.0</td><td>53000.0</td><td>u</td><td>-0.09708462</td><td>0.14184059999999998</td><td>-0.6844628</td></tr>\n",
       "<tr><td>3228.0</td><td>53000.0</td><td>g</td><td>0.06404406</td><td>0.1420662</td><td>0.45080435</td></tr>\n",
       "<tr><td>3228.0</td><td>53000.0</td><td>r</td><td>0.19354166</td><td>0.14252123</td><td>1.3579848</td></tr>\n",
       "<tr><td>3228.0</td><td>53000.0</td><td>i</td><td>0.35907343</td><td>0.14310078</td><td>2.5092347000000004</td></tr>\n",
       "<tr><td>3228.0</td><td>53000.0</td><td>z</td><td>-0.065577395</td><td>0.14184059999999998</td><td>-0.4623316</td></tr>\n",
       "<tr><td>3228.0</td><td>53000.0</td><td>Y</td><td>0.1893592</td><td>0.14250655</td><td>1.3287753999999998</td></tr>\n",
       "<tr><td>3228.0</td><td>53002.0</td><td>u</td><td>0.106876865</td><td>0.14221686</td><td>0.75150627</td></tr>\n",
       "<tr><td>3228.0</td><td>53002.0</td><td>g</td><td>0.050195143</td><td>0.14201744</td><td>0.3534435</td></tr>\n",
       "<tr><td>3228.0</td><td>53002.0</td><td>r</td><td>-0.012204765</td><td>0.14184059999999998</td><td>-0.08604564</td></tr>\n",
       "<tr><td>3228.0</td><td>53002.0</td><td>i</td><td>0.12579435</td><td>0.14228335</td><td>0.8841114999999999</td></tr>\n",
       "<tr><td>...</td><td>...</td><td>...</td><td>...</td><td>...</td><td>...</td></tr>\n",
       "<tr><td>8237.0</td><td>53148.0</td><td>r</td><td>115.608734</td><td>0.3684121</td><td>313.8027600000001</td></tr>\n",
       "<tr><td>8237.0</td><td>53148.0</td><td>i</td><td>137.60486</td><td>0.39714432</td><td>346.48578</td></tr>\n",
       "<tr><td>8237.0</td><td>53148.0</td><td>z</td><td>100.39942</td><td>0.3471573</td><td>289.2044</td></tr>\n",
       "<tr><td>8237.0</td><td>53148.0</td><td>Y</td><td>28.222563</td><td>0.2198666</td><td>128.36221</td></tr>\n",
       "<tr><td>8237.0</td><td>53150.0</td><td>u</td><td>3.2993379000000003</td><td>0.15302972</td><td>21.560112</td></tr>\n",
       "<tr><td>8237.0</td><td>53150.0</td><td>g</td><td>42.33914</td><td>0.2499158</td><td>169.41364</td></tr>\n",
       "<tr><td>8237.0</td><td>53150.0</td><td>r</td><td>111.51977</td><td>0.36282024</td><td>307.3692</td></tr>\n",
       "<tr><td>8237.0</td><td>53150.0</td><td>i</td><td>134.57535</td><td>0.3933117</td><td>342.1595200000001</td></tr>\n",
       "<tr><td>8237.0</td><td>53150.0</td><td>z</td><td>97.70698</td><td>0.34325755</td><td>284.64627</td></tr>\n",
       "<tr><td>8237.0</td><td>53150.0</td><td>Y</td><td>27.369501</td><td>0.21791801</td><td>125.595406</td></tr>\n",
       "</table>"
      ],
      "text/plain": [
       "<Table length=2050770>\n",
       "  SNID    MJD   FLT       FLUXCAL            FLUXCALERR            SNR        \n",
       "float64 float64 str1      float64             float64            float64      \n",
       "------- ------- ---- ------------------ ------------------- ------------------\n",
       " 3228.0 53000.0    u        -0.09708462 0.14184059999999998         -0.6844628\n",
       " 3228.0 53000.0    g         0.06404406           0.1420662         0.45080435\n",
       " 3228.0 53000.0    r         0.19354166          0.14252123          1.3579848\n",
       " 3228.0 53000.0    i         0.35907343          0.14310078 2.5092347000000004\n",
       " 3228.0 53000.0    z       -0.065577395 0.14184059999999998         -0.4623316\n",
       " 3228.0 53000.0    Y          0.1893592          0.14250655 1.3287753999999998\n",
       " 3228.0 53002.0    u        0.106876865          0.14221686         0.75150627\n",
       " 3228.0 53002.0    g        0.050195143          0.14201744          0.3534435\n",
       " 3228.0 53002.0    r       -0.012204765 0.14184059999999998        -0.08604564\n",
       " 3228.0 53002.0    i         0.12579435          0.14228335 0.8841114999999999\n",
       "    ...     ...  ...                ...                 ...                ...\n",
       " 8237.0 53148.0    r         115.608734           0.3684121  313.8027600000001\n",
       " 8237.0 53148.0    i          137.60486          0.39714432          346.48578\n",
       " 8237.0 53148.0    z          100.39942           0.3471573           289.2044\n",
       " 8237.0 53148.0    Y          28.222563           0.2198666          128.36221\n",
       " 8237.0 53150.0    u 3.2993379000000003          0.15302972          21.560112\n",
       " 8237.0 53150.0    g           42.33914           0.2499158          169.41364\n",
       " 8237.0 53150.0    r          111.51977          0.36282024           307.3692\n",
       " 8237.0 53150.0    i          134.57535           0.3933117  342.1595200000001\n",
       " 8237.0 53150.0    z           97.70698          0.34325755          284.64627\n",
       " 8237.0 53150.0    Y          27.369501          0.21791801         125.595406"
      ]
     },
     "execution_count": 8,
     "metadata": {},
     "output_type": "execute_result"
    }
   ],
   "source": [
    "df"
   ]
  },
  {
   "cell_type": "code",
   "execution_count": 9,
   "metadata": {},
   "outputs": [
    {
     "data": {
      "text/html": [
       "<i>Table length=4000</i>\n",
       "<table id=\"table139870600839240\" class=\"table-striped table-bordered table-condensed\">\n",
       "<thead><tr><th>SNID</th><th>redshift</th><th>type</th><th>code</th><th>sample</th></tr></thead>\n",
       "<thead><tr><th>float64</th><th>float64</th><th>str10</th><th>float64</th><th>str5</th></tr></thead>\n",
       "<tr><td>6612.0</td><td>0.41613463</td><td>II_V19</td><td>42.0</td><td>train</td></tr>\n",
       "<tr><td>7860.0</td><td>0.23487686</td><td>II-NMF</td><td>42.0</td><td>train</td></tr>\n",
       "<tr><td>3421.0</td><td>0.14118282</td><td>II-NMF</td><td>42.0</td><td>train</td></tr>\n",
       "<tr><td>3368.0</td><td>0.26212534</td><td>II-NMF</td><td>42.0</td><td>train</td></tr>\n",
       "<tr><td>3200.0</td><td>0.47726378</td><td>II_V19</td><td>42.0</td><td>train</td></tr>\n",
       "<tr><td>2478.0</td><td>0.5132554</td><td>II_V19</td><td>42.0</td><td>train</td></tr>\n",
       "<tr><td>1640.0</td><td>0.20038009</td><td>IIn</td><td>42.0</td><td>train</td></tr>\n",
       "<tr><td>6509.0</td><td>0.2553885</td><td>II_V19</td><td>42.0</td><td>train</td></tr>\n",
       "<tr><td>2002.0</td><td>0.2602583</td><td>II_V19</td><td>42.0</td><td>train</td></tr>\n",
       "<tr><td>5537.0</td><td>0.51714104</td><td>II_V19</td><td>42.0</td><td>train</td></tr>\n",
       "<tr><td>...</td><td>...</td><td>...</td><td>...</td><td>...</td></tr>\n",
       "<tr><td>8446.0</td><td>0.3286522</td><td>Ia</td><td>90.0</td><td>train</td></tr>\n",
       "<tr><td>998.0</td><td>0.48842064</td><td>Ia</td><td>90.0</td><td>train</td></tr>\n",
       "<tr><td>7629.0</td><td>0.4659113</td><td>Ia</td><td>90.0</td><td>train</td></tr>\n",
       "<tr><td>980.0</td><td>0.17845689</td><td>Ia</td><td>90.0</td><td>train</td></tr>\n",
       "<tr><td>5952.0</td><td>0.34555963</td><td>Ia</td><td>90.0</td><td>train</td></tr>\n",
       "<tr><td>2802.0</td><td>0.26619598</td><td>Ia</td><td>90.0</td><td>train</td></tr>\n",
       "<tr><td>5517.0</td><td>0.40966994</td><td>Ia</td><td>90.0</td><td>train</td></tr>\n",
       "<tr><td>8618.0</td><td>0.33196297</td><td>Ia</td><td>90.0</td><td>train</td></tr>\n",
       "<tr><td>2861.0</td><td>0.47235766</td><td>Ia</td><td>90.0</td><td>train</td></tr>\n",
       "<tr><td>8940.0</td><td>0.31509796</td><td>Ia</td><td>90.0</td><td>train</td></tr>\n",
       "</table>"
      ],
      "text/plain": [
       "<Table length=4000>\n",
       "  SNID   redshift   type    code  sample\n",
       "float64  float64   str10  float64  str5 \n",
       "------- ---------- ------ ------- ------\n",
       " 6612.0 0.41613463 II_V19    42.0  train\n",
       " 7860.0 0.23487686 II-NMF    42.0  train\n",
       " 3421.0 0.14118282 II-NMF    42.0  train\n",
       " 3368.0 0.26212534 II-NMF    42.0  train\n",
       " 3200.0 0.47726378 II_V19    42.0  train\n",
       " 2478.0  0.5132554 II_V19    42.0  train\n",
       " 1640.0 0.20038009    IIn    42.0  train\n",
       " 6509.0  0.2553885 II_V19    42.0  train\n",
       " 2002.0  0.2602583 II_V19    42.0  train\n",
       " 5537.0 0.51714104 II_V19    42.0  train\n",
       "    ...        ...    ...     ...    ...\n",
       " 8446.0  0.3286522     Ia    90.0  train\n",
       "  998.0 0.48842064     Ia    90.0  train\n",
       " 7629.0  0.4659113     Ia    90.0  train\n",
       "  980.0 0.17845689     Ia    90.0  train\n",
       " 5952.0 0.34555963     Ia    90.0  train\n",
       " 2802.0 0.26619598     Ia    90.0  train\n",
       " 5517.0 0.40966994     Ia    90.0  train\n",
       " 8618.0 0.33196297     Ia    90.0  train\n",
       " 2861.0 0.47235766     Ia    90.0  train\n",
       " 8940.0 0.31509796     Ia    90.0  train"
      ]
     },
     "execution_count": 9,
     "metadata": {},
     "output_type": "execute_result"
    }
   ],
   "source": [
    "meta_df = Table.read('/media/biswajit/drive/RESSPECT_PERFECT_HEAD.csv')\n",
    "meta_df"
   ]
  },
  {
   "cell_type": "code",
   "execution_count": 10,
   "metadata": {},
   "outputs": [],
   "source": [
    "objects_ids = meta_df['SNID']"
   ]
  },
  {
   "cell_type": "code",
   "execution_count": 11,
   "metadata": {},
   "outputs": [],
   "source": [
    "filters = {0:'u',1:'g',2:'r',3:'i',4:'z',5:'y'}"
   ]
  },
  {
   "cell_type": "code",
   "execution_count": 12,
   "metadata": {},
   "outputs": [],
   "source": [
    "#preprocessing \n"
   ]
  },
  {
   "cell_type": "code",
   "execution_count": 13,
   "metadata": {},
   "outputs": [],
   "source": [
    "from LightCurve import LightCurve"
   ]
  },
  {
   "cell_type": "code",
   "execution_count": 14,
   "metadata": {},
   "outputs": [],
   "source": [
    "num_of_elements=51\n",
    "final_array = np.zeros((len(objects_ids),num_of_elements))\n",
    "    \n",
    "for i,object_id in enumerate(objects_ids):\n",
    "    #print(i)\n",
    "    ob_list = []\n",
    "    object_mask = df['SNID']==object_id\n",
    "    object_df = df[object_mask]\n",
    "\n",
    "    \n",
    "    #for band in filters.keys():\n",
    "\n",
    "    band_mask = object_df['FLT'] == 'r'\n",
    "    band_df = object_df[band_mask]\n",
    "\n",
    "    index_of_maximum = np.argmax(band_df['FLUXCAL'])\n",
    "    date_of_maximum = band_df['MJD'][index_of_maximum]\n",
    "    #print(date_of_maximum)\n",
    "    start_date = date_of_maximum-50\n",
    "    end_date = date_of_maximum+50 \n",
    "    \n",
    "    start_index = band_df['MJD']>= start_date\n",
    "    end_index = band_df['MJD'] <= end_date\n",
    "    \n",
    "    df_within_date = band_df[start_index*end_index]\n",
    "    #print(df_within_date['MJD'])\n",
    "    max_loc = np.argmax(df_within_date['FLUXCAL'])\n",
    "    \n",
    "    #print(max_loc)\n",
    "    flux_data = np.zeros((num_of_elements))\n",
    "    \n",
    "    flux_data[25-max_loc:25-max_loc+len(df_within_date['MJD'])] = df_within_date['FLUXCAL']\n",
    "   \n",
    "            \n",
    "    final_array[i] = flux_data\n",
    "        \n",
    "        "
   ]
  },
  {
   "cell_type": "code",
   "execution_count": 15,
   "metadata": {},
   "outputs": [
    {
     "name": "stdout",
     "output_type": "stream",
     "text": [
      "[-1.2700565e-01 -4.1222163e-02 -2.6677550e-01 -2.8422663e-01\n",
      "  5.0330237e-03 -2.3546322e-01 -6.1314170e-02  3.0467357e-03\n",
      " -1.3302564e-02 -1.8168595e-01 -1.5305400e-01 -9.8151304e-02\n",
      "  3.1389800e-02 -7.2185725e-02 -1.3800535e-02 -8.0443315e-02\n",
      " -4.6392970e-02 -2.4372550e-01  7.6913637e-01  1.1614035e+01\n",
      "  2.8411224e+01  4.2256620e+01  4.9807930e+01  5.1972100e+01\n",
      "  5.2847800e+01  5.2895046e+01  5.2028580e+01  5.1539700e+01\n",
      "  5.0195530e+01  4.9024605e+01  4.7762474e+01  4.6247543e+01\n",
      "  4.3121944e+01  4.1163290e+01  3.9540844e+01  3.7347450e+01\n",
      "  3.4574734e+01  3.2987247e+01  3.1394903e+01  2.9272131e+01\n",
      "  2.8683468e+01  2.7549744e+01  2.6490590e+01  2.5732992e+01\n",
      "  2.5138737e+01  2.4656640e+01  2.4345085e+01  2.3907917e+01\n",
      "  2.3574389e+01  2.3665420e+01  2.3078352e+01]\n"
     ]
    },
    {
     "data": {
      "image/png": "[encoded data removed]",
      "text/plain": [
       "<Figure size 432x288 with 1 Axes>"
      ]
     },
     "metadata": {
      "needs_background": "light"
     },
     "output_type": "display_data"
    }
   ],
   "source": [
    "x = np.arange(51)-26\n",
    "plt.xlabel(\"time\")\n",
    "plt.ylabel(\"Normalized flux\")\n",
    "plt.plot(x,final_array[1]/np.amax(final_array[1]))\n",
    "print(final_array[1])"
   ]
  },
  {
   "cell_type": "code",
   "execution_count": 16,
   "metadata": {},
   "outputs": [
    {
     "name": "stdout",
     "output_type": "stream",
     "text": [
      "4000\n"
     ]
    }
   ],
   "source": [
    "print(len(objects_ids))"
   ]
  },
  {
   "cell_type": "code",
   "execution_count": 17,
   "metadata": {},
   "outputs": [],
   "source": [
    "from sklearn.decomposition import PCA"
   ]
  },
  {
   "cell_type": "code",
   "execution_count": 18,
   "metadata": {},
   "outputs": [],
   "source": [
    "pca = PCA(n_components=10)"
   ]
  },
  {
   "cell_type": "code",
   "execution_count": 19,
   "metadata": {},
   "outputs": [
    {
     "data": {
      "text/plain": [
       "PCA(copy=True, iterated_power='auto', n_components=10, random_state=None,\n",
       "  svd_solver='auto', tol=0.0, whiten=False)"
      ]
     },
     "execution_count": 19,
     "metadata": {},
     "output_type": "execute_result"
    }
   ],
   "source": [
    "pca.fit(final_array)"
   ]
  },
  {
   "cell_type": "code",
   "execution_count": 20,
   "metadata": {},
   "outputs": [
    {
     "data": {
      "text/plain": [
       "array([9.36097124e-01, 3.93375015e-02, 1.01786508e-02, 8.35131784e-03,\n",
       "       1.42428617e-03, 1.31570286e-03, 9.53183524e-04, 5.37098417e-04,\n",
       "       4.59333506e-04, 3.15096997e-04])"
      ]
     },
     "execution_count": 20,
     "metadata": {},
     "output_type": "execute_result"
    }
   ],
   "source": [
    "pca.explained_variance_ratio_"
   ]
  },
  {
   "cell_type": "code",
   "execution_count": 21,
   "metadata": {},
   "outputs": [
    {
     "data": {
      "text/plain": [
       "array([55966.84865582, 11472.91522296,  5836.0029851 ,  5286.2525111 ,\n",
       "        2183.07686474,  2098.21171314,  1785.9062677 ,  1340.59419451,\n",
       "        1239.75098277,  1026.81577017])"
      ]
     },
     "execution_count": 21,
     "metadata": {},
     "output_type": "execute_result"
    }
   ],
   "source": [
    "pca.singular_values_"
   ]
  },
  {
   "cell_type": "code",
   "execution_count": 24,
   "metadata": {},
   "outputs": [],
   "source": [
    "PCs = pca.components_"
   ]
  },
  {
   "cell_type": "code",
   "execution_count": 25,
   "metadata": {},
   "outputs": [
    {
     "data": {
      "image/png": "[encoded data removed]",
      "text/plain": [
       "<Figure size 720x360 with 1 Axes>"
      ]
     },
     "metadata": {
      "needs_background": "light"
     },
     "output_type": "display_data"
    }
   ],
   "source": [
    "fig = plt.figure(figsize=(10,5))\n",
    "for i in range(3):\n",
    "    PC = PCs[i]\n",
    "    x = np.arange(0,102,2)\n",
    "    plt.plot(x,PC,marker='o',label = \"PC \"+str(i+1))\n",
    "\n",
    "plt.xlabel(\"days\", fontsize = 20)\n",
    "plt.ylabel(\"normalized flux\", fontsize=20)\n",
    "    \n",
    "plt.legend()\n",
    "plt.title(\"Plot of Coefficients of PCs\",fontsize=30)\n",
    "fig.savefig(\"Plot of PCs\")\n",
    "plt.show()"
   ]
  },
  {
   "cell_type": "code",
   "execution_count": 26,
   "metadata": {},
   "outputs": [],
   "source": [
    "np.save(\"PCs\",pca.components_)"
   ]
  },
  {
   "cell_type": "code",
   "execution_count": null,
   "metadata": {},
   "outputs": [],
   "source": []
  },
  {
   "cell_type": "code",
   "execution_count": null,
   "metadata": {},
   "outputs": [],
   "source": []
  },
  {
   "cell_type": "code",
   "execution_count": null,
   "metadata": {},
   "outputs": [],
   "source": []
  },
  {
   "cell_type": "code",
   "execution_count": null,
   "metadata": {},
   "outputs": [],
   "source": []
  },
  {
   "cell_type": "code",
   "execution_count": null,
   "metadata": {},
   "outputs": [],
   "source": []
  },
  {
   "cell_type": "code",
   "execution_count": null,
   "metadata": {},
   "outputs": [],
   "source": []
  }
 ],
 "metadata": {
  "kernelspec": {
   "display_name": "Python 3",
   "language": "python",
   "name": "python3"
  },
  "language_info": {
   "codemirror_mode": {
    "name": "ipython",
    "version": 3
   },
   "file_extension": ".py",
   "mimetype": "text/x-python",
   "name": "python",
   "nbconvert_exporter": "python",
   "pygments_lexer": "ipython3",
   "version": "3.5.6"
  }
 },
 "nbformat": 4,
 "nbformat_minor": 4
}

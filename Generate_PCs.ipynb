{
 "cells": [
  {
   "cell_type": "code",
   "execution_count": null,
   "metadata": {},
   "outputs": [],
   "source": [
    "import pandas as pd\n",
    "from astropy.table import Table\n",
    "import numpy as np\n",
    "import matplotlib.pyplot as plt\n",
    "from random import random\n",
    "from io_utils import *"
   ]
  },
  {
   "cell_type": "code",
   "execution_count": null,
   "metadata": {},
   "outputs": [],
   "source": [
    "from LightCurve import LightCurve"
   ]
  },
  {
   "cell_type": "code",
   "execution_count": null,
   "metadata": {
    "scrolled": true
   },
   "outputs": [],
   "source": [
    "data_ob = load_RESSPECT_data()\n",
    "object_ids = data_ob.get_all_object_ids()"
   ]
  },
  {
   "cell_type": "code",
   "execution_count": null,
   "metadata": {},
   "outputs": [],
   "source": [
    "data_ob.df_metadata"
   ]
  },
  {
   "cell_type": "code",
   "execution_count": null,
   "metadata": {},
   "outputs": [],
   "source": [
    "color_band_dict = {'u':'C4','g':'C2', 'r':'C3', 'i':'C1', 'z':'k', 'Y':'C5'}"
   ]
  },
  {
   "cell_type": "code",
   "execution_count": null,
   "metadata": {},
   "outputs": [],
   "source": [
    "for object_id in object_ids:\n",
    "    lc = LightCurve(data_ob=data_ob, object_id=object_id)\n",
    "    fig = lc.plot_light_curve(color_band_dict=color_band_dict, band ='u', mark_label=True, mark_maximum= False,plot_points =True)\n",
    "    type_name = data_ob.df_metadata['type'][data_ob.df_metadata[data_ob.object_id_col_name] == object_id][0]\n",
    "    plt.gca().annotate(\"object_id: \"+str(int(object_id)), xy = (.15,.81), xycoords='figure fraction', fontsize=20)\n",
    "    plt.gca().annotate(\"Type: \"+type_name, xy = (.15,.75), xycoords='figure fraction', fontsize=20)\n",
    "    plt.rc('xtick', labelsize = 15)\n",
    "    fig.savefig(\"Perfect_plots/raw/id_\"+str(int(object_id))+\"_uband\")\n",
    "    plt.legend()\n",
    "    plt.show()\n",
    "    plt.close('all')"
   ]
  },
  {
   "cell_type": "code",
   "execution_count": null,
   "metadata": {},
   "outputs": [],
   "source": [
    "object_ids = np.sort(object_ids)"
   ]
  },
  {
   "cell_type": "code",
   "execution_count": null,
   "metadata": {},
   "outputs": [],
   "source": [
    "object_ids"
   ]
  },
  {
   "cell_type": "code",
   "execution_count": null,
   "metadata": {},
   "outputs": [],
   "source": [
    "from LightCurve import LightCurve"
   ]
  },
  {
   "cell_type": "code",
   "execution_count": null,
   "metadata": {},
   "outputs": [],
   "source": [
    "number_of_days_in_lc = 100\n",
    "time_step=2"
   ]
  },
  {
   "cell_type": "code",
   "execution_count": null,
   "metadata": {},
   "outputs": [],
   "source": [
    "def get_alert_mid_pt(event_df, bands, current_date=None):\n",
    "    \n",
    "    if current_date is not None:\n",
    "        date_difference = event_df[data_ob.time_col_name] - current_date\n",
    "        past_index = (date_difference>=-50) & (date_difference<=0)\n",
    "        event_df = event_df[past_index]\n",
    "    \n",
    "    band_mid_points = []\n",
    "    for i,band in enumerate(bands):\n",
    "        band_index = event_df[data_ob.band_col_name] == band\n",
    "        band_df = event_df[band_index]\n",
    "        \n",
    "        PCs = np.load(\"PCs.npy\")\n",
    "        PCs = PCs[0:3]\n",
    "        initial_guess = [.93,.03 ,.025]\n",
    "        #regularization_base = [.93,.04,.012]\n",
    "        if(len(band_df)>0):\n",
    "            max_index = np.argmax(band_df[data_ob.flux_col_name])\n",
    "            band_mid_points.append(band_df[data_ob.time_col_name][max_index])\n",
    "    if len(band_mid_points)>0:\n",
    "        return np.median(np.array(band_mid_points))\n",
    "    else:\n",
    "        return None"
   ]
  },
  {
   "cell_type": "code",
   "execution_count": null,
   "metadata": {},
   "outputs": [],
   "source": [
    "def gen_all_band_same_maxpt_PCs():\n",
    "\n",
    "    final_array = {}\n",
    "    for pb_name in data_ob.band_map.keys():\n",
    "        final_array[pb_name] = np.zeros((len(object_ids),51))\n",
    "\n",
    "    for i,object_id in enumerate(object_ids):\n",
    "        event_df = data_ob.get_data_of_event(object_id)\n",
    "        mid_point = get_alert_mid_pt(event_df, data_ob.band_map.keys())\n",
    "        print(mid_point)\n",
    "        fig , ax = plt.figure((12,6))\n",
    "        if mid_point is not None:\n",
    "\n",
    "            start_date = mid_point-number_of_days_in_lc/2\n",
    "            end_date = mid_point+number_of_days_in_lc/2\n",
    "\n",
    "            start_index = event_df['MJD']>= start_date\n",
    "            end_index = event_df['MJD'] <= end_date\n",
    "\n",
    "            df_within_date = event_df[start_index*end_index]\n",
    "\n",
    "            for band in data_ob.band_map.keys():\n",
    "\n",
    "                band_df = df_within_date[df_within_date[data_ob.band_col_name] == band]\n",
    "\n",
    "                if len(band_df)>0:\n",
    "\n",
    "                    rand_int = 0\n",
    "\n",
    "                    shifted_flux = np.zeros_like(band_df['FLUXCAL'])\n",
    "                    len_flux = len(band_df['FLUXCAL'])\n",
    "\n",
    "                    if (rand_int>0)&(len_flux>rand_int):\n",
    "                        shifted_flux[rand_int:len_flux] = band_df['FLUXCAL'][0:len_flux-rand_int]\n",
    "\n",
    "                    elif (rand_int<0)&(rand_int>-len_flux-1):\n",
    "                        shifted_flux[0:len_flux+rand_int] = band_df['FLUXCAL'][-rand_int:len_flux]\n",
    "\n",
    "                    elif (rand_int==0):\n",
    "                        shifted_flux = band_df['FLUXCAL']\n",
    "\n",
    "                    else:\n",
    "                        continue\n",
    "\n",
    "\n",
    "\n",
    "                    max_loc = int((mid_point-np.amin(band_df['MJD']))/2)\n",
    "                    flux_data = np.zeros((51))\n",
    "                    flux_data[25-max_loc:25-max_loc+len(band_df['MJD'])] = shifted_flux\n",
    "                    final_array[band][i] = flux_data\n",
    "                    ax.scatter(np.arange(0,102,2), flux_data,\n",
    "                                color=color_band_dict[band], label=str(band))\n",
    "        else: \n",
    "            continue\n",
    "\n",
    "    return fig   \n",
    "        \n",
    "        \n",
    "        "
   ]
  },
  {
   "cell_type": "code",
   "execution_count": null,
   "metadata": {},
   "outputs": [],
   "source": [
    "def gen_all_band_diff_maxpt_PCs():\n",
    "    final_array = {}\n",
    "    for pb_name in data_ob.band_map.keys():\n",
    "        final_array[pb_name] = np.zeros((len(object_ids),51))\n",
    "        \n",
    "    for i,object_id in enumerate(object_ids):\n",
    "        print(object_id)\n",
    "        event_df = data_ob.get_data_of_event(object_id)\n",
    "        \n",
    "        fig = plt.figure(figsize=(12,6))\n",
    "        ax = fig.add_subplot(1, 1, 1)\n",
    "        for band in data_ob.band_map.keys():\n",
    "            \n",
    "            band_index = event_df[data_ob.band_col_name]==band\n",
    "            band_df = event_df[band_index]\n",
    "            \n",
    "            if(len(band_df)>0):\n",
    "                loc = np.argmax(band_df[data_ob.flux_col_name])\n",
    "                mid_point = band_df[data_ob.time_col_name][loc]\n",
    "                start_date = mid_point-number_of_days_in_lc/2\n",
    "                end_date = mid_point+number_of_days_in_lc/2\n",
    "                start_index = band_df['MJD']>= start_date\n",
    "                end_index = band_df['MJD'] <= end_date\n",
    "\n",
    "\n",
    "                band_df = band_df[start_index*end_index]\n",
    "                if len(band_df)>0:\n",
    "                    loc = np.argmax(band_df[data_ob.flux_col_name])\n",
    "                    #rand_int = int(random()*5)-1\n",
    "                    rand_int = 0\n",
    "\n",
    "                    shifted_flux = np.zeros_like(band_df['FLUXCAL'])\n",
    "                    len_flux = len(band_df['FLUXCAL'])\n",
    "\n",
    "                    if (rand_int>0)&(len_flux>rand_int):\n",
    "                        shifted_flux[rand_int:len_flux] = band_df['FLUXCAL'][0:len_flux-rand_int]\n",
    "\n",
    "                    elif (rand_int<0)&(rand_int>-len_flux-1):\n",
    "                        shifted_flux[0:len_flux+rand_int] = band_df['FLUXCAL'][-rand_int:len_flux]\n",
    "\n",
    "                    elif (rand_int==0):\n",
    "                        shifted_flux = band_df['FLUXCAL']\n",
    "\n",
    "                    else:\n",
    "                        continue\n",
    "\n",
    "                    flux_data = np.zeros((51))\n",
    "                    flux_data[25-loc:25-loc+len(band_df['MJD'])] = shifted_flux\n",
    "                    final_array[band][i] = flux_data\n",
    "                    x_data = np.arange(0,102,2)\n",
    "                    print(np.argmax(flux_data))\n",
    "                    if band == 'u':\n",
    "                        ax.scatter(np.arange(0,102,2), flux_data, color=color_band_dict[band], label=band)\n",
    "                    \n",
    "                    \n",
    "                    \n",
    "                    \n",
    "                    \n",
    "        type_name = data_ob.df_metadata['type'][data_ob.df_metadata[data_ob.object_id_col_name] == object_id][0]\n",
    "        plt.gca().annotate(\"object_id: \"+str(int(object_id)), xy = (.15,.81), xycoords='figure fraction', fontsize=20)\n",
    "        plt.gca().annotate(\"Type: \"+type_name, xy = (.15,.75), xycoords='figure fraction', fontsize=20)\n",
    "        ax.axvline(x=50,ymin=0,ymax=1,label=\"Day 50\",linestyle = \"--\")\n",
    "        plt.xlabel(\"Days\", fontsize=20)\n",
    "        plt.ylabel(\"Flux\", fontsize=20)\n",
    "        plt.rc(\"xtick\", labelsize=15)\n",
    "        ax.legend()\n",
    "        fig.savefig(\"Perfect_plots/shifted/id_\"+str(int(object_id))+\"_uband\")\n",
    "        plt.show()\n",
    "        plt.close('all')\n",
    "\n",
    "                    \n",
    "    return final_array"
   ]
  },
  {
   "cell_type": "code",
   "execution_count": null,
   "metadata": {},
   "outputs": [],
   "source": [
    "object_ids = np.sort(object_ids)"
   ]
  },
  {
   "cell_type": "code",
   "execution_count": null,
   "metadata": {},
   "outputs": [],
   "source": [
    "print(object_ids)"
   ]
  },
  {
   "cell_type": "code",
   "execution_count": null,
   "metadata": {},
   "outputs": [],
   "source": [
    "final_array = gen_all_band_diff_maxpt_PCs()\n",
    "plt.show()\n",
    "plt.close('all')\n",
    "#print(final_array.keys())"
   ]
  },
  {
   "cell_type": "code",
   "execution_count": null,
   "metadata": {},
   "outputs": [],
   "source": [
    "from sklearn.decomposition import PCA"
   ]
  },
  {
   "cell_type": "code",
   "execution_count": null,
   "metadata": {},
   "outputs": [],
   "source": [
    "color_band_dict['u']"
   ]
  },
  {
   "cell_type": "code",
   "execution_count": null,
   "metadata": {},
   "outputs": [],
   "source": [
    "PC_dict = {}\n",
    "\n",
    "for pb_name in data_ob.band_map.keys():\n",
    "    pca = PCA(n_components=10)\n",
    "    pca.fit(final_array[pb_name])\n",
    "    PC_dict[pb_name] = pca.components_\n",
    "    print(PC_dict[pb_name].shape)\n",
    "    del pca"
   ]
  },
  {
   "cell_type": "code",
   "execution_count": null,
   "metadata": {},
   "outputs": [],
   "source": [
    "print(PC_dict.keys())"
   ]
  },
  {
   "cell_type": "code",
   "execution_count": null,
   "metadata": {},
   "outputs": [],
   "source": [
    "data_ob.band_map.keys()"
   ]
  },
  {
   "cell_type": "code",
   "execution_count": null,
   "metadata": {},
   "outputs": [],
   "source": [
    "for band in data_ob.band_map.keys():\n",
    "    print(band)\n",
    "    PCs= PC_dict[band]\n",
    "    fig = plt.figure(figsize=(10,5))\n",
    "    for i in range(3):\n",
    "        PC = PCs[i]\n",
    "        x = np.arange(0,102,2)\n",
    "        plt.plot(x,PC,marker='o',label = \"PC \"+str(i+1))\n",
    "\n",
    "    plt.xlabel(\"days\", fontsize = 20)\n",
    "    plt.ylabel(\"Coefficients of PCs\", fontsize=20)\n",
    "    print(band)\n",
    "    plt.legend()\n",
    "    plt.title(\"Plot of Coefficients of PCs\",fontsize=30)\n",
    "    #fig.savefig(\"Plot of PCs\")\n",
    "    plt.show()"
   ]
  },
  {
   "cell_type": "code",
   "execution_count": null,
   "metadata": {},
   "outputs": [],
   "source": [
    "#np.save(\"principal_components/PC_all_bands_diff_mid_pt_dict\", PC_dict)"
   ]
  },
  {
   "cell_type": "code",
   "execution_count": null,
   "metadata": {},
   "outputs": [],
   "source": [
    "print(PC_dict['u'][0:3])"
   ]
  },
  {
   "cell_type": "code",
   "execution_count": null,
   "metadata": {
    "scrolled": true
   },
   "outputs": [],
   "source": [
    "for object_id in object_ids:\n",
    "    event_df = data_ob.get_data_of_event(object_id)\n",
    "    lc = LightCurve(data_ob.get_data_of_event(object_id), time_col_name=data_ob.time_col_name, brightness_col_name=data_ob.flux_col_name, brightness_err_col_name=data_ob.flux_err_col_name,band_col_name=data_ob.band_col_name, band_map=data_ob.band_map)\n",
    "    fig = lc.plot_light_curve(color_band_dict, alpha = 1)\n",
    "    plt.show()\n",
    "    plt.close('all')\n",
    "    \n",
    "    "
   ]
  },
  {
   "cell_type": "code",
   "execution_count": null,
   "metadata": {},
   "outputs": [],
   "source": []
  },
  {
   "cell_type": "code",
   "execution_count": null,
   "metadata": {},
   "outputs": [],
   "source": []
  },
  {
   "cell_type": "code",
   "execution_count": null,
   "metadata": {},
   "outputs": [],
   "source": [
    "num_of_elements=51\n",
    "final_array = np.zeros((len(object_ids),num_of_elements))\n",
    "\n",
    "for j in range(10):\n",
    "    \n",
    "    for i,object_id in enumerate(objects_ids):\n",
    "        #print(i)\n",
    "        ob_list = []\n",
    "        object_mask = df['SNID']==object_id\n",
    "        object_df = df[object_mask]\n",
    "\n",
    "\n",
    "        #for band in filters.keys():\n",
    "\n",
    "        band_mask = object_df['FLT'] == 'r'\n",
    "        band_df = object_df[band_mask]\n",
    "\n",
    "        index_of_maximum = np.argmax(band_df['FLUXCAL'])\n",
    "        date_of_maximum = band_df['MJD'][index_of_maximum]\n",
    "        #print(date_of_maximum)\n",
    "\n",
    "        start_date = date_of_maximum-50\n",
    "        end_date = date_of_maximum+50 \n",
    "\n",
    "        start_index = band_df['MJD']>= start_date\n",
    "        end_index = band_df['MJD'] <= end_date\n",
    "\n",
    "        df_within_date = band_df[start_index*end_index]\n",
    "        #print(df_within_date['MJD'])\n",
    "        max_loc = np.argmax(df_within_date['FLUXCAL'])\n",
    "        max_flux = df_within_date['FLUXCAL'][max_loc]\n",
    "        rand_int = int(random()*5)+4\n",
    "        #rand_int = 7\n",
    "        #rand_int = 0\n",
    "        shifted_flux = np.zeros_like(df_within_date['FLUXCAL'])\n",
    "        len_flux = len(df_within_date['FLUXCAL'])\n",
    "        if (rand_int>0)&(len_flux>rand_int):\n",
    "            shifted_flux[rand_int:len_flux] = df_within_date['FLUXCAL'][0:len_flux-rand_int]\n",
    "            \n",
    "            \n",
    "        elif (rand_int<0)&(rand_int>-len_flux-1):\n",
    "            shifted_flux[0:len_flux+rand_int] = df_within_date['FLUXCAL'][-rand_int:len_flux]\n",
    "\n",
    "            \n",
    "        elif (rand_int==0):\n",
    "            shifted_flux = df_within_date['FLUXCAL']\n",
    "        \n",
    "        else:\n",
    "            continue\n",
    "\n",
    "        #print(max_loc)\n",
    "        flux_data = np.zeros((num_of_elements))\n",
    "        flux_data[25-max_loc:25-max_loc+len(df_within_date['MJD'])] = shifted_flux\n",
    "        final_array[i] = flux_data\n",
    "        print(np.argmax(flux_data))\n",
    "        \n",
    "        x = np.arange(51)-26\n",
    "        #plt.plot(x,flux_data)\n",
    "        #plt.show()\n",
    "        #plt.close()\n",
    "        \n",
    "\n"
   ]
  },
  {
   "cell_type": "code",
   "execution_count": null,
   "metadata": {},
   "outputs": [],
   "source": [
    "x = np.arange(51)-26\n",
    "plt.xlabel(\"time\")\n",
    "plt.ylabel(\"Normalized flux\")\n",
    "plt.plot(x,final_array[1]/np.amax(final_array[1]))\n",
    "print(final_array[1])"
   ]
  },
  {
   "cell_type": "code",
   "execution_count": null,
   "metadata": {},
   "outputs": [],
   "source": [
    "print(len(objects_ids))"
   ]
  },
  {
   "cell_type": "code",
   "execution_count": null,
   "metadata": {},
   "outputs": [],
   "source": [
    "pca = PCA(n_components=10)"
   ]
  },
  {
   "cell_type": "code",
   "execution_count": null,
   "metadata": {},
   "outputs": [],
   "source": [
    "pca.fit(final_array)"
   ]
  },
  {
   "cell_type": "code",
   "execution_count": null,
   "metadata": {},
   "outputs": [],
   "source": [
    "pca.explained_variance_ratio_"
   ]
  },
  {
   "cell_type": "code",
   "execution_count": null,
   "metadata": {},
   "outputs": [],
   "source": [
    "pca.singular_values_"
   ]
  },
  {
   "cell_type": "code",
   "execution_count": null,
   "metadata": {},
   "outputs": [],
   "source": [
    "PCs = pca.components_"
   ]
  },
  {
   "cell_type": "code",
   "execution_count": null,
   "metadata": {},
   "outputs": [],
   "source": [
    "PCs = np.load(\"principal_components/PC_all_bands_diff_mid_pt_dict.npy\")"
   ]
  },
  {
   "cell_type": "code",
   "execution_count": null,
   "metadata": {},
   "outputs": [],
   "source": [
    "PCs = PCs.item()"
   ]
  },
  {
   "cell_type": "code",
   "execution_count": null,
   "metadata": {},
   "outputs": [],
   "source": [
    "PCs['u'][0:3].shape"
   ]
  },
  {
   "cell_type": "code",
   "execution_count": null,
   "metadata": {},
   "outputs": [],
   "source": [
    "print(PCs['g'].shape)"
   ]
  },
  {
   "cell_type": "code",
   "execution_count": null,
   "metadata": {},
   "outputs": [],
   "source": [
    "fig = plt.figure(figsize=(10,5))\n",
    "for i in range(3):\n",
    "    PC = PCs[i]\n",
    "    x = np.arange(0,102,2)\n",
    "    plt.plot(x,PC,marker='o',label = \"PC \"+str(i+1))\n",
    "\n",
    "plt.xlabel(\"days\", fontsize = 20)\n",
    "plt.ylabel(\"normalized flux\", fontsize=20)\n",
    "    \n",
    "plt.legend()\n",
    "plt.title(\"Plot of Coefficients of PCs\",fontsize=30)\n",
    "fig.savefig(\"Plot of PCs\")\n",
    "plt.show()"
   ]
  },
  {
   "cell_type": "code",
   "execution_count": null,
   "metadata": {},
   "outputs": [],
   "source": [
    "np.save(\"principal_components/PCs_shifted\",pca.components_)"
   ]
  },
  {
   "cell_type": "code",
   "execution_count": null,
   "metadata": {},
   "outputs": [],
   "source": []
  },
  {
   "cell_type": "code",
   "execution_count": null,
   "metadata": {},
   "outputs": [],
   "source": []
  },
  {
   "cell_type": "code",
   "execution_count": null,
   "metadata": {},
   "outputs": [],
   "source": []
  },
  {
   "cell_type": "code",
   "execution_count": null,
   "metadata": {},
   "outputs": [],
   "source": []
  },
  {
   "cell_type": "code",
   "execution_count": null,
   "metadata": {},
   "outputs": [],
   "source": []
  },
  {
   "cell_type": "code",
   "execution_count": null,
   "metadata": {},
   "outputs": [],
   "source": []
  }
 ],
 "metadata": {
  "kernelspec": {
   "display_name": "Python 3",
   "language": "python",
   "name": "python3"
  },
  "language_info": {
   "codemirror_mode": {
    "name": "ipython",
    "version": 3
   },
   "file_extension": ".py",
   "mimetype": "text/x-python",
   "name": "python",
   "nbconvert_exporter": "python",
   "pygments_lexer": "ipython3",
   "version": "3.5.6"
  }
 },
 "nbformat": 4,
 "nbformat_minor": 4
}

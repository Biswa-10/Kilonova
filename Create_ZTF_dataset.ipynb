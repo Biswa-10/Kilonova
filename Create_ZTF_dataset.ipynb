{
 "cells": [
  {
   "cell_type": "code",
   "execution_count": 1,
   "metadata": {},
   "outputs": [],
   "source": [
    "from io_utils import *\n",
    "import pandas as pd\n",
    "from astropy.table import Table, vstack\n",
    "from random import random"
   ]
  },
  {
   "cell_type": "code",
   "execution_count": 2,
   "metadata": {},
   "outputs": [],
   "source": [
    "dataset = \"ZTF\"\n",
    "#object_ids = data_ob.get_all_object_ids()\n",
    "#kilonova_ids = object_ids\n",
    "bands = [b'g ', b'r ']\n",
    "color_band_dict = {b'g ':'C2', b'r ':'C3'}"
   ]
  },
  {
   "cell_type": "code",
   "execution_count": null,
   "metadata": {},
   "outputs": [],
   "source": []
  },
  {
   "cell_type": "code",
   "execution_count": 3,
   "metadata": {},
   "outputs": [],
   "source": [
    "m_numbers = ['01','02','03','12','13','14','41','43','45','50','51','60','61','62','63','64','70','80','81','90']"
   ]
  },
  {
   "cell_type": "code",
   "execution_count": 4,
   "metadata": {},
   "outputs": [],
   "source": [
    "base_path = '/media/biswajit/drive/Kilonova_datasets/ZTF_20190512/ZTF_MSIP_MODEL'"
   ]
  },
  {
   "cell_type": "code",
   "execution_count": 5,
   "metadata": {},
   "outputs": [
    {
     "name": "stdout",
     "output_type": "stream",
     "text": [
      "['MJD', 'FLT', 'FIELD', 'PHOTFLAG', 'PHOTPROB', 'FLUXCAL', 'FLUXCALERR', 'PSF_SIG1', 'SKY_SIG', 'ZEROPT', 'SIM_MAGOBS', 'SNID']\n",
      "['MJD', 'FLT', 'FIELD', 'PHOTFLAG', 'PHOTPROB', 'FLUXCAL', 'FLUXCALERR', 'PSF_SIG1', 'SKY_SIG', 'ZEROPT', 'SIM_MAGOBS', 'SNID']\n",
      "['MJD', 'FLT', 'FIELD', 'PHOTFLAG', 'PHOTPROB', 'FLUXCAL', 'FLUXCALERR', 'PSF_SIG1', 'SKY_SIG', 'ZEROPT', 'SIM_MAGOBS', 'SNID']\n",
      "------------------------------\n",
      "['MJD', 'FLT', 'FIELD', 'PHOTFLAG', 'PHOTPROB', 'FLUXCAL', 'FLUXCALERR', 'PSF_SIG1', 'SKY_SIG', 'ZEROPT', 'SIM_MAGOBS', 'SNID']\n",
      "03\n",
      "['MJD', 'FLT', 'FIELD', 'PHOTFLAG', 'PHOTPROB', 'FLUXCAL', 'FLUXCALERR', 'PSF_SIG1', 'SKY_SIG', 'ZEROPT', 'SIM_MAGOBS', 'SNID']\n",
      "['MJD', 'FLT', 'FIELD', 'PHOTFLAG', 'PHOTPROB', 'FLUXCAL', 'FLUXCALERR', 'PSF_SIG1', 'SKY_SIG', 'ZEROPT', 'SIM_MAGOBS', 'SNID']\n",
      "------------------------------\n",
      "['MJD', 'FLT', 'FIELD', 'PHOTFLAG', 'PHOTPROB', 'FLUXCAL', 'FLUXCALERR', 'PSF_SIG1', 'SKY_SIG', 'ZEROPT', 'SIM_MAGOBS', 'SNID']\n",
      "['MJD', 'FLT', 'FIELD', 'PHOTFLAG', 'PHOTPROB', 'FLUXCAL', 'FLUXCALERR', 'PSF_SIG1', 'SKY_SIG', 'ZEROPT', 'SIM_MAGOBS', 'SNID']\n",
      "['MJD', 'FLT', 'FIELD', 'PHOTFLAG', 'PHOTPROB', 'FLUXCAL', 'FLUXCALERR', 'PSF_SIG1', 'SKY_SIG', 'ZEROPT', 'SIM_MAGOBS', 'SNID']\n",
      "------------------------------\n",
      "['MJD', 'FLT', 'FIELD', 'PHOTFLAG', 'PHOTPROB', 'FLUXCAL', 'FLUXCALERR', 'PSF_SIG1', 'SKY_SIG', 'ZEROPT', 'SIM_MAGOBS', 'SNID']\n",
      "['MJD', 'FLT', 'FIELD', 'PHOTFLAG', 'PHOTPROB', 'FLUXCAL', 'FLUXCALERR', 'PSF_SIG1', 'SKY_SIG', 'ZEROPT', 'SIM_MAGOBS', 'SNID']\n",
      "['MJD', 'FLT', 'FIELD', 'PHOTFLAG', 'PHOTPROB', 'FLUXCAL', 'FLUXCALERR', 'PSF_SIG1', 'SKY_SIG', 'ZEROPT', 'SIM_MAGOBS', 'SNID']\n",
      "------------------------------\n",
      "['MJD', 'FLT', 'FIELD', 'PHOTFLAG', 'PHOTPROB', 'FLUXCAL', 'FLUXCALERR', 'PSF_SIG1', 'SKY_SIG', 'ZEROPT', 'SIM_MAGOBS', 'SNID']\n",
      "14\n",
      "['MJD', 'FLT', 'FIELD', 'PHOTFLAG', 'PHOTPROB', 'FLUXCAL', 'FLUXCALERR', 'PSF_SIG1', 'SKY_SIG', 'ZEROPT', 'SIM_MAGOBS', 'SNID']\n",
      "['MJD', 'FLT', 'FIELD', 'PHOTFLAG', 'PHOTPROB', 'FLUXCAL', 'FLUXCALERR', 'PSF_SIG1', 'SKY_SIG', 'ZEROPT', 'SIM_MAGOBS', 'SNID']\n",
      "------------------------------\n",
      "['MJD', 'FLT', 'FIELD', 'PHOTFLAG', 'PHOTPROB', 'FLUXCAL', 'FLUXCALERR', 'PSF_SIG1', 'SKY_SIG', 'ZEROPT', 'SIM_MAGOBS', 'SNID']\n",
      "['MJD', 'FLT', 'FIELD', 'PHOTFLAG', 'PHOTPROB', 'FLUXCAL', 'FLUXCALERR', 'PSF_SIG1', 'SKY_SIG', 'ZEROPT', 'SIM_MAGOBS', 'SNID']\n",
      "['MJD', 'FLT', 'FIELD', 'PHOTFLAG', 'PHOTPROB', 'FLUXCAL', 'FLUXCALERR', 'PSF_SIG1', 'SKY_SIG', 'ZEROPT', 'SIM_MAGOBS', 'SNID']\n",
      "------------------------------\n",
      "['MJD', 'FLT', 'FIELD', 'PHOTFLAG', 'PHOTPROB', 'FLUXCAL', 'FLUXCALERR', 'PSF_SIG1', 'SKY_SIG', 'ZEROPT', 'SIM_MAGOBS', 'SNID']\n",
      "['MJD', 'FLT', 'FIELD', 'PHOTFLAG', 'PHOTPROB', 'FLUXCAL', 'FLUXCALERR', 'PSF_SIG1', 'SKY_SIG', 'ZEROPT', 'SIM_MAGOBS', 'SNID']\n",
      "['MJD', 'FLT', 'FIELD', 'PHOTFLAG', 'PHOTPROB', 'FLUXCAL', 'FLUXCALERR', 'PSF_SIG1', 'SKY_SIG', 'ZEROPT', 'SIM_MAGOBS', 'SNID']\n",
      "------------------------------\n",
      "['MJD', 'FLT', 'FIELD', 'PHOTFLAG', 'PHOTPROB', 'FLUXCAL', 'FLUXCALERR', 'PSF_SIG1', 'SKY_SIG', 'ZEROPT', 'SIM_MAGOBS', 'SNID']\n",
      "['MJD', 'FLT', 'FIELD', 'PHOTFLAG', 'PHOTPROB', 'FLUXCAL', 'FLUXCALERR', 'PSF_SIG1', 'SKY_SIG', 'ZEROPT', 'SIM_MAGOBS', 'SNID']\n",
      "['MJD', 'FLT', 'FIELD', 'PHOTFLAG', 'PHOTPROB', 'FLUXCAL', 'FLUXCALERR', 'PSF_SIG1', 'SKY_SIG', 'ZEROPT', 'SIM_MAGOBS', 'SNID']\n",
      "------------------------------\n",
      "['MJD', 'FLT', 'FIELD', 'PHOTFLAG', 'PHOTPROB', 'FLUXCAL', 'FLUXCALERR', 'PSF_SIG1', 'SKY_SIG', 'ZEROPT', 'SIM_MAGOBS', 'SNID']\n",
      "['MJD', 'FLT', 'FIELD', 'PHOTFLAG', 'PHOTPROB', 'FLUXCAL', 'FLUXCALERR', 'PSF_SIG1', 'SKY_SIG', 'ZEROPT', 'SIM_MAGOBS', 'SNID']\n",
      "['MJD', 'FLT', 'FIELD', 'PHOTFLAG', 'PHOTPROB', 'FLUXCAL', 'FLUXCALERR', 'PSF_SIG1', 'SKY_SIG', 'ZEROPT', 'SIM_MAGOBS', 'SNID']\n",
      "------------------------------\n",
      "['MJD', 'FLT', 'FIELD', 'PHOTFLAG', 'PHOTPROB', 'FLUXCAL', 'FLUXCALERR', 'PSF_SIG1', 'SKY_SIG', 'ZEROPT', 'SIM_MAGOBS', 'SNID']\n",
      "['MJD', 'FLT', 'FIELD', 'PHOTFLAG', 'PHOTPROB', 'FLUXCAL', 'FLUXCALERR', 'PSF_SIG1', 'SKY_SIG', 'ZEROPT', 'SIM_MAGOBS', 'SNID']\n",
      "['MJD', 'FLT', 'FIELD', 'PHOTFLAG', 'PHOTPROB', 'FLUXCAL', 'FLUXCALERR', 'PSF_SIG1', 'SKY_SIG', 'ZEROPT', 'SIM_MAGOBS', 'SNID']\n",
      "------------------------------\n",
      "['MJD', 'FLT', 'FIELD', 'PHOTFLAG', 'PHOTPROB', 'FLUXCAL', 'FLUXCALERR', 'PSF_SIG1', 'SKY_SIG', 'ZEROPT', 'SIM_MAGOBS', 'SNID']\n",
      "['MJD', 'FLT', 'FIELD', 'PHOTFLAG', 'PHOTPROB', 'FLUXCAL', 'FLUXCALERR', 'PSF_SIG1', 'SKY_SIG', 'ZEROPT', 'SIM_MAGOBS', 'SNID']\n",
      "['MJD', 'FLT', 'FIELD', 'PHOTFLAG', 'PHOTPROB', 'FLUXCAL', 'FLUXCALERR', 'PSF_SIG1', 'SKY_SIG', 'ZEROPT', 'SIM_MAGOBS', 'SNID']\n",
      "------------------------------\n",
      "['MJD', 'FLT', 'FIELD', 'PHOTFLAG', 'PHOTPROB', 'FLUXCAL', 'FLUXCALERR', 'PSF_SIG1', 'SKY_SIG', 'ZEROPT', 'SIM_MAGOBS', 'SNID']\n",
      "['MJD', 'FLT', 'FIELD', 'PHOTFLAG', 'PHOTPROB', 'FLUXCAL', 'FLUXCALERR', 'PSF_SIG1', 'SKY_SIG', 'ZEROPT', 'SIM_MAGOBS', 'SNID']\n",
      "['MJD', 'FLT', 'FIELD', 'PHOTFLAG', 'PHOTPROB', 'FLUXCAL', 'FLUXCALERR', 'PSF_SIG1', 'SKY_SIG', 'ZEROPT', 'SIM_MAGOBS', 'SNID']\n",
      "------------------------------\n",
      "['MJD', 'FLT', 'FIELD', 'PHOTFLAG', 'PHOTPROB', 'FLUXCAL', 'FLUXCALERR', 'PSF_SIG1', 'SKY_SIG', 'ZEROPT', 'SIM_MAGOBS', 'SNID']\n",
      "['MJD', 'FLT', 'FIELD', 'PHOTFLAG', 'PHOTPROB', 'FLUXCAL', 'FLUXCALERR', 'PSF_SIG1', 'SKY_SIG', 'ZEROPT', 'SIM_MAGOBS', 'SNID']\n",
      "['MJD', 'FLT', 'FIELD', 'PHOTFLAG', 'PHOTPROB', 'FLUXCAL', 'FLUXCALERR', 'PSF_SIG1', 'SKY_SIG', 'ZEROPT', 'SIM_MAGOBS', 'SNID']\n",
      "------------------------------\n",
      "['MJD', 'FLT', 'FIELD', 'PHOTFLAG', 'PHOTPROB', 'FLUXCAL', 'FLUXCALERR', 'PSF_SIG1', 'SKY_SIG', 'ZEROPT', 'SIM_MAGOBS', 'SNID']\n",
      "['MJD', 'FLT', 'FIELD', 'PHOTFLAG', 'PHOTPROB', 'FLUXCAL', 'FLUXCALERR', 'PSF_SIG1', 'SKY_SIG', 'ZEROPT', 'SIM_MAGOBS', 'SNID']\n",
      "['MJD', 'FLT', 'FIELD', 'PHOTFLAG', 'PHOTPROB', 'FLUXCAL', 'FLUXCALERR', 'PSF_SIG1', 'SKY_SIG', 'ZEROPT', 'SIM_MAGOBS', 'SNID']\n",
      "------------------------------\n",
      "['MJD', 'FLT', 'FIELD', 'PHOTFLAG', 'PHOTPROB', 'FLUXCAL', 'FLUXCALERR', 'PSF_SIG1', 'SKY_SIG', 'ZEROPT', 'SIM_MAGOBS', 'SNID']\n",
      "['MJD', 'FLT', 'FIELD', 'PHOTFLAG', 'PHOTPROB', 'FLUXCAL', 'FLUXCALERR', 'PSF_SIG1', 'SKY_SIG', 'ZEROPT', 'SIM_MAGOBS', 'SNID']\n",
      "['MJD', 'FLT', 'FIELD', 'PHOTFLAG', 'PHOTPROB', 'FLUXCAL', 'FLUXCALERR', 'PSF_SIG1', 'SKY_SIG', 'ZEROPT', 'SIM_MAGOBS', 'SNID']\n",
      "------------------------------\n",
      "['MJD', 'FLT', 'FIELD', 'PHOTFLAG', 'PHOTPROB', 'FLUXCAL', 'FLUXCALERR', 'PSF_SIG1', 'SKY_SIG', 'ZEROPT', 'SIM_MAGOBS', 'SNID']\n",
      "['MJD', 'FLT', 'FIELD', 'PHOTFLAG', 'PHOTPROB', 'FLUXCAL', 'FLUXCALERR', 'PSF_SIG1', 'SKY_SIG', 'ZEROPT', 'SIM_MAGOBS', 'SNID']\n",
      "['MJD', 'FLT', 'FIELD', 'PHOTFLAG', 'PHOTPROB', 'FLUXCAL', 'FLUXCALERR', 'PSF_SIG1', 'SKY_SIG', 'ZEROPT', 'SIM_MAGOBS', 'SNID']\n",
      "------------------------------\n",
      "['MJD', 'FLT', 'FIELD', 'PHOTFLAG', 'PHOTPROB', 'FLUXCAL', 'FLUXCALERR', 'PSF_SIG1', 'SKY_SIG', 'ZEROPT', 'SIM_MAGOBS', 'SNID']\n",
      "80\n",
      "['MJD', 'FLT', 'FIELD', 'PHOTFLAG', 'PHOTPROB', 'FLUXCAL', 'FLUXCALERR', 'PSF_SIG1', 'SKY_SIG', 'ZEROPT', 'SIM_MAGOBS', 'SNID']\n",
      "['MJD', 'FLT', 'FIELD', 'PHOTFLAG', 'PHOTPROB', 'FLUXCAL', 'FLUXCALERR', 'PSF_SIG1', 'SKY_SIG', 'ZEROPT', 'SIM_MAGOBS', 'SNID']\n",
      "------------------------------\n",
      "['MJD', 'FLT', 'FIELD', 'PHOTFLAG', 'PHOTPROB', 'FLUXCAL', 'FLUXCALERR', 'PSF_SIG1', 'SKY_SIG', 'ZEROPT', 'SIM_MAGOBS', 'SNID']\n",
      "['MJD', 'FLT', 'FIELD', 'PHOTFLAG', 'PHOTPROB', 'FLUXCAL', 'FLUXCALERR', 'PSF_SIG1', 'SKY_SIG', 'ZEROPT', 'SIM_MAGOBS', 'SNID']\n",
      "['MJD', 'FLT', 'FIELD', 'PHOTFLAG', 'PHOTPROB', 'FLUXCAL', 'FLUXCALERR', 'PSF_SIG1', 'SKY_SIG', 'ZEROPT', 'SIM_MAGOBS', 'SNID']\n",
      "------------------------------\n",
      "['MJD', 'FLT', 'FIELD', 'PHOTFLAG', 'PHOTPROB', 'FLUXCAL', 'FLUXCALERR', 'PSF_SIG1', 'SKY_SIG', 'ZEROPT', 'SIM_MAGOBS', 'SNID']\n",
      "90\n",
      "['MJD', 'FLT', 'FIELD', 'PHOTFLAG', 'PHOTPROB', 'FLUXCAL', 'FLUXCALERR', 'PSF_SIG1', 'SKY_SIG', 'ZEROPT', 'SIM_MAGOBS', 'SNID']\n",
      "['MJD', 'FLT', 'FIELD', 'PHOTFLAG', 'PHOTPROB', 'FLUXCAL', 'FLUXCALERR', 'PSF_SIG1', 'SKY_SIG', 'ZEROPT', 'SIM_MAGOBS', 'SNID']\n",
      "------------------------------\n",
      "['MJD', 'FLT', 'FIELD', 'PHOTFLAG', 'PHOTPROB', 'FLUXCAL', 'FLUXCALERR', 'PSF_SIG1', 'SKY_SIG', 'ZEROPT', 'SIM_MAGOBS', 'SNID']\n"
     ]
    }
   ],
   "source": [
    "import copy \n",
    "data_ob = None\n",
    "df_data = None\n",
    "df_metadata = None\n",
    "\n",
    "for model_num in m_numbers:\n",
    "    #print(data_ob.df_data.keys())\n",
    "    rand_int = int(random()*40)+1\n",
    "    if (int(model_num)!=45)&(int(model_num) !=50):\n",
    "        if rand_int<10:\n",
    "            print(model_num)\n",
    "            file_path = base_path+model_num+'/ZTF_MSIP_NONIaMODEL0-000'+str(rand_int)+'_PHOT.FITS'\n",
    "            current_ob = load_ztf_data(filepath=file_path)\n",
    "        else: \n",
    "            file_path = base_path+model_num+'/ZTF_MSIP_NONIaMODEL0-00'+str(rand_int)+'_PHOT.FITS'\n",
    "            current_ob = load_ztf_data(filepath=file_path)\n",
    "            \n",
    "    \n",
    "    else:\n",
    "        if rand_int<10:\n",
    "            print(model_num)\n",
    "            file_path = base_path+model_num+'/ZTF_MSIP_NONIa-000'+str(rand_int)+'_PHOT.FITS'\n",
    "            current_ob = load_ztf_data(filepath=file_path)\n",
    "        else:\n",
    "            file_path = base_path+model_num+'/ZTF_MSIP_NONIa-00'+str(rand_int)+'_PHOT.FITS'\n",
    "            current_ob = load_ztf_data(filepath=file_path)\n",
    "            \n",
    " \n",
    "    if data_ob is None:\n",
    "        current_ob.df_metadata['target'] = np.ones(len(current_ob.df_metadata))*int(model_num)\n",
    "        data_ob= current_ob\n",
    "        #data_ob.df_metadata = current_ob.df_metadata['SNID']\n",
    "        #data_ob.df_data(names=data_ob.df_data.keys())\n",
    "        \n",
    "        print(data_ob.df_data.keys())\n",
    "        #break   \n",
    "    \n",
    "        #data_ob = current_ob\n",
    "    else: \n",
    "        current_ob.df_metadata['target'] = int(model_num)\n",
    "        print(data_ob.df_data.keys())\n",
    "        data_ob.df_data= vstack([data_ob.df_data,current_ob.df_data])\n",
    "        current_ob.df_metadata['target'] = np.ones(len(current_ob.df_metadata))*int(model_num)\n",
    "        data_ob.df_metadata = vstack([data_ob.df_metadata, current_ob.df_metadata], join_type='inner')\n",
    "        print(data_ob.df_data.keys())\n",
    "        print(\"------------------------------\")\n",
    "        print(current_ob.df_data.keys())\n",
    "        #data_ob.df_metadata = .df_data.keys())\n",
    "        #data_ob.df_data= vstack([data_ob.df_metadata, current_ob.df_metadata['SNID']])"
   ]
  },
  {
   "cell_type": "code",
   "execution_count": 6,
   "metadata": {},
   "outputs": [
    {
     "name": "stdout",
     "output_type": "stream",
     "text": [
      "5003\n"
     ]
    }
   ],
   "source": [
    "import numpy as np\n",
    "print(len(np.unique(data_ob.df_data['SNID'])))"
   ]
  },
  {
   "cell_type": "code",
   "execution_count": null,
   "metadata": {},
   "outputs": [],
   "source": [
    "print(len(data_ob.df_metadata))"
   ]
  },
  {
   "cell_type": "code",
   "execution_count": 8,
   "metadata": {},
   "outputs": [
    {
     "name": "stdout",
     "output_type": "stream",
     "text": [
      "SNTYPE\n",
      "------\n",
      "   101\n",
      "   102\n",
      "   103\n",
      "   112\n",
      "   113\n",
      "   114\n",
      "   141\n",
      "   143\n",
      "   145\n",
      "   150\n",
      "   151\n",
      "   160\n",
      "   161\n",
      "   162\n",
      "   163\n",
      "   164\n",
      "   170\n",
      "   180\n",
      "   181\n",
      "   190\n"
     ]
    }
   ],
   "source": [
    "print(np.unique(data_ob.df_metadata['SNTYPE']))"
   ]
  },
  {
   "cell_type": "code",
   "execution_count": null,
   "metadata": {},
   "outputs": [],
   "source": []
  }
 ],
 "metadata": {
  "kernelspec": {
   "display_name": "Python 3",
   "language": "python",
   "name": "python3"
  },
  "language_info": {
   "codemirror_mode": {
    "name": "ipython",
    "version": 3
   },
   "file_extension": ".py",
   "mimetype": "text/x-python",
   "name": "python",
   "nbconvert_exporter": "python",
   "pygments_lexer": "ipython3",
   "version": "3.5.6"
  }
 },
 "nbformat": 4,
 "nbformat_minor": 4
}

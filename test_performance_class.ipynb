{
 "cells": [
  {
   "cell_type": "code",
   "execution_count": 1,
   "metadata": {},
   "outputs": [],
   "source": [
    "from dataframe import Data\n",
    "from io_utils import *\n",
    "import matplotlib.pyplot as plt"
   ]
  },
  {
   "cell_type": "code",
   "execution_count": 2,
   "metadata": {},
   "outputs": [],
   "source": [
    "from pandas import DataFrame"
   ]
  },
  {
   "cell_type": "code",
   "execution_count": 3,
   "metadata": {},
   "outputs": [],
   "source": [
    "from prediction_evaluation import PredictionEvaluation"
   ]
  },
  {
   "cell_type": "code",
   "execution_count": 4,
   "metadata": {},
   "outputs": [],
   "source": [
    "train_ob = load_ztf_train_data(head_path='/media/biswajit/drive/Kilonova_datasets/ZTF_20190512/train_master_HEAD.FITS', phot_path='/media/biswajit/drive/Kilonova_datasets/ZTF_20190512/train_master_PHOT.FITS')\n",
    "test_ob = load_ztf_test_data(head_path='/media/biswajit/drive/Kilonova_datasets/ZTF_20190512/test_master_HEAD.FITS', phot_path='/media/biswajit/drive/Kilonova_datasets/ZTF_20190512/test_master_PHOT.FITS')\n",
    "\n",
    "#train_ob = load_ztf_train_data()\n",
    "#test_ob = load_ztf_test_data()"
   ]
  },
  {
   "cell_type": "code",
   "execution_count": 5,
   "metadata": {},
   "outputs": [],
   "source": [
    "num_pc_components = 3"
   ]
  },
  {
   "cell_type": "code",
   "execution_count": 6,
   "metadata": {},
   "outputs": [],
   "source": [
    "prediction_type_nos= [150,151]"
   ]
  },
  {
   "cell_type": "code",
   "execution_count": 7,
   "metadata": {},
   "outputs": [],
   "source": [
    "color_band_dict = {'g':'C2', 'r':'C3'}"
   ]
  },
  {
   "cell_type": "code",
   "execution_count": 8,
   "metadata": {},
   "outputs": [],
   "source": [
    "sample_numbers_train = {101:150,\n",
    "               102:150, \n",
    "               103:150, \n",
    "               112:150, \n",
    "               113:150, \n",
    "               114:150, \n",
    "               141:150, \n",
    "               143:150, \n",
    "               145:150, \n",
    "               150:500, \n",
    "               151:500, \n",
    "               160:150, \n",
    "               161:150, \n",
    "               162:150, \n",
    "               163:150, \n",
    "               164:150, \n",
    "               170:150, \n",
    "               180:150, \n",
    "               181:150, \n",
    "               183:150, \n",
    "               190:150}\n",
    "sample_numbers_train=None"
   ]
  },
  {
   "cell_type": "code",
   "execution_count": 9,
   "metadata": {},
   "outputs": [],
   "source": [
    "sample_numbers_test = {101:150,\n",
    "               102:150, \n",
    "               103:150, \n",
    "               112:150, \n",
    "               113:150, \n",
    "               114:150, \n",
    "               141:150, \n",
    "               143:150, \n",
    "               145:150, \n",
    "               150:500, \n",
    "               151:500, \n",
    "               160:150, \n",
    "               161:150, \n",
    "               162:150, \n",
    "               163:150, \n",
    "               164:150, \n",
    "               170:150, \n",
    "               180:150, \n",
    "               181:150, \n",
    "               183:150, \n",
    "               190:150}\n",
    "sample_numbers_test=None"
   ]
  },
  {
   "cell_type": "code",
   "execution_count": 10,
   "metadata": {},
   "outputs": [],
   "source": [
    "train_features_path = '/media/biswajit/drive/Kilonova_datasets/ZTF_20190512/train_features_master_3_pcs_u_band.csv'\n",
    "test_features_path='/media/biswajit/drive/Kilonova_datasets/ZTF_20190512/test_features_master_3_pcs_u_band_random_current_date_100_days_alert.csv'"
   ]
  },
  {
   "cell_type": "code",
   "execution_count": null,
   "metadata": {},
   "outputs": [],
   "source": [
    "#train_features_path = None\n",
    "test_features_path = None"
   ]
  },
  {
   "cell_type": "code",
   "execution_count": null,
   "metadata": {},
   "outputs": [],
   "source": [
    "use_random_current_date = True"
   ]
  },
  {
   "cell_type": "code",
   "execution_count": 11,
   "metadata": {
    "scrolled": true
   },
   "outputs": [],
   "source": [
    "#catch error if data_ob and path are not compatible \n",
    "train_ob.create_features_df(prediction_type_nos=prediction_type_nos, \n",
    "                            band_choice='u', \n",
    "                            num_pc_components=num_pc_components, \n",
    "                            #plot_all_predictions=True,\n",
    "                            color_band_dict=color_band_dict,\n",
    "                            sample_numbers=sample_numbers_train, \n",
    "                            features_path=train_features_path, \n",
    "                            use_random_current_date=False)"
   ]
  },
  {
   "cell_type": "code",
   "execution_count": 12,
   "metadata": {},
   "outputs": [
    {
     "data": {
      "text/plain": [
       "RandomForestClassifier(bootstrap=True, class_weight=None, criterion='gini',\n",
       "            max_depth=None, max_features='auto', max_leaf_nodes=None,\n",
       "            min_impurity_decrease=0.0, min_impurity_split=None,\n",
       "            min_samples_leaf=1, min_samples_split=2,\n",
       "            min_weight_fraction_leaf=0.0, n_estimators=100, n_jobs=None,\n",
       "            oob_score=False, random_state=None, verbose=0,\n",
       "            warm_start=False)"
      ]
     },
     "execution_count": 12,
     "metadata": {},
     "output_type": "execute_result"
    }
   ],
   "source": [
    "from sklearn.ensemble import RandomForestClassifier\n",
    "\n",
    "bands = ['g', 'r']\n",
    "\n",
    "cols = []\n",
    "for i,band in enumerate(bands):\n",
    "    for j in range(1,num_pc_components+1):\n",
    "        col_name = str(i)+'pc'+str(j)\n",
    "        cols.append(col_name)\n",
    "        \n",
    "x_train = train_ob.features_df[cols].values\n",
    "y_train = train_ob.features_df['y_true'].values\n",
    "\n",
    "\n",
    "clf=RandomForestClassifier(n_estimators=100)\n",
    "clf.fit(x_train,y_train)\n",
    "\n"
   ]
  },
  {
   "cell_type": "code",
   "execution_count": 13,
   "metadata": {
    "scrolled": true
   },
   "outputs": [],
   "source": [
    "test_ob.create_features_df(color_band_dict=color_band_dict, min_flux_threshold=200,\n",
    "                           #save_fig_path = 'ZTF_partial_lt_curve/', \n",
    "                           prediction_type_nos=prediction_type_nos, \n",
    "                           band_choice='u',num_alert_days=30,\n",
    "                           classifier = clf,\n",
    "                           #plot_predicted_curve_of_type = [150,151],\n",
    "                           features_path = test_features_path,\n",
    "                           num_pc_components=num_pc_components, \n",
    "                           sample_numbers=sample_numbers_test, \n",
    "                           use_random_current_date=True)"
   ]
  },
  {
   "cell_type": "code",
   "execution_count": 14,
   "metadata": {},
   "outputs": [
    {
     "name": "stdout",
     "output_type": "stream",
     "text": [
      "       0n         0pc1         0pc2        0pc3  1n         1pc1         1pc2  \\\n",
      "0       0     0.000000     0.000000    0.000000   0     0.000000     0.000000   \n",
      "1       0     0.000000     0.000000    0.000000   0     0.000000     0.000000   \n",
      "2       8  2025.542058  -171.041073  424.917924  10  1172.235061  -904.642394   \n",
      "3       0     0.000000     0.000000    0.000000   0     0.000000     0.000000   \n",
      "4       0     0.000000     0.000000    0.000000   0     0.000000     0.000000   \n",
      "...    ..          ...          ...         ...  ..          ...          ...   \n",
      "20783  12  1293.879442   364.327012    6.784719  11   575.875096  -275.399232   \n",
      "20784   9  1762.177621 -2491.134575  153.648109  10   892.235592 -4277.707696   \n",
      "20785   9   427.893747    58.991295  142.814898   0     0.000000     0.000000   \n",
      "20786   0     0.000000     0.000000    0.000000   0     0.000000     0.000000   \n",
      "20787   0     0.000000     0.000000    0.000000   0     0.000000     0.000000   \n",
      "\n",
      "              1pc3  curr_date         id  type  y_true  \n",
      "0         0.000000      57496   14855850   170       0  \n",
      "1         0.000000      57669  118123539   181       0  \n",
      "2       464.659226      57652   15850948   145       0  \n",
      "3         0.000000      57625  114156641   181       0  \n",
      "4         0.000000      57538   72761452   102       0  \n",
      "...            ...        ...        ...   ...     ...  \n",
      "20783   -94.480333      57612    8431849   143       0  \n",
      "20784 -1745.166507      57543   59635231   180       0  \n",
      "20785     0.000000      57513   85649338   141       0  \n",
      "20786     0.000000      57453   85096703   181       0  \n",
      "20787     0.000000      57487   56833916   190       0  \n",
      "\n",
      "[20788 rows x 12 columns]\n"
     ]
    }
   ],
   "source": [
    "print(test_ob.features_df)"
   ]
  },
  {
   "cell_type": "code",
   "execution_count": null,
   "metadata": {},
   "outputs": [],
   "source": [
    "test_ob.discard_no_featues_events()"
   ]
  },
  {
   "cell_type": "code",
   "execution_count": null,
   "metadata": {},
   "outputs": [],
   "source": [
    "print(test_ob.features_df)"
   ]
  },
  {
   "cell_type": "code",
   "execution_count": null,
   "metadata": {},
   "outputs": [],
   "source": [
    "x_test = test_ob.features_df[cols].values\n",
    "y_test = test_ob.features_df['y_true'].values\n",
    "\n",
    "y_pred_train=clf.predict(x_train)\n",
    "y_pred_test=clf.predict(x_test)\n",
    "y_score= clf.predict_proba(x_test)"
   ]
  },
  {
   "cell_type": "code",
   "execution_count": null,
   "metadata": {},
   "outputs": [],
   "source": [
    "print(len(y_pred_test))"
   ]
  },
  {
   "cell_type": "code",
   "execution_count": null,
   "metadata": {},
   "outputs": [],
   "source": [
    "print((test_ob.features_df.keys()))"
   ]
  },
  {
   "cell_type": "code",
   "execution_count": null,
   "metadata": {},
   "outputs": [],
   "source": [
    "train_save_df = train_ob.features_df.drop(['y_pred','y_true'],axis=1)\n",
    "test_save_df = test_ob.features_df.drop(['y_pred','y_true'],axis=1)\n",
    "\n",
    "train_save_df.to_csv('/media/biswajit/drive/Kilonova_datasets/ZTF_20190512/train_features_master_3_pcs_u_band.csv', index=False)\n",
    "test_save_df.to_csv('/media/biswajit/drive/Kilonova_datasets/ZTF_20190512/test_features_master_3_pcs_u_band_random_current_date_30_days_alert.csv', index=False)"
   ]
  },
  {
   "cell_type": "code",
   "execution_count": null,
   "metadata": {},
   "outputs": [],
   "source": [
    "#train_save_df.to_csv('/media/biswajit/drive/Kilonova_datasets/ZTF_20190512/train_features_master_3_pcs_u_band.csv', index=False)\n",
    "#test_save_df.to_csv('/media/biswajit/drive/Kilonova_datasets/ZTF_20190512/test_features_master_3_pcs_u_band.csv', index=False)"
   ]
  },
  {
   "cell_type": "code",
   "execution_count": null,
   "metadata": {},
   "outputs": [],
   "source": []
  },
  {
   "cell_type": "code",
   "execution_count": null,
   "metadata": {},
   "outputs": [],
   "source": [
    "print(clf.predict([[0,0,0,0,0,0]]))"
   ]
  },
  {
   "cell_type": "code",
   "execution_count": null,
   "metadata": {},
   "outputs": [],
   "source": [
    "pe = PredictionEvaluation(train_ob=train_ob, test_ob=test_ob,y_pred_train=y_pred_train, y_pred_test=y_pred_test)"
   ]
  },
  {
   "cell_type": "code",
   "execution_count": 17,
   "metadata": {},
   "outputs": [
    {
     "name": "stdout",
     "output_type": "stream",
     "text": [
      "{160: 1000, 161: 1000, 162: 1000, 163: 1000, 164: 1000, 101: 1000, 102: 1000, 103: 1000, 145: 1000, 170: 1000, 183: 1000, 141: 1000, 143: 1000, 112: 1000, 113: 1000, 114: 1000, 180: 1000, 181: 1000, 150: 788, 151: 1000, 190: 1000}\n"
     ]
    }
   ],
   "source": [
    "print(test_ob.sample_numbers)"
   ]
  },
  {
   "cell_type": "code",
   "execution_count": null,
   "metadata": {},
   "outputs": [],
   "source": [
    "wrong_predictions = test_ob.features_df['y_pred']!=test_ob.features_df['y_true']"
   ]
  },
  {
   "cell_type": "code",
   "execution_count": null,
   "metadata": {},
   "outputs": [],
   "source": [
    "print(np.sum(wrong_predictions))"
   ]
  },
  {
   "cell_type": "code",
   "execution_count": null,
   "metadata": {},
   "outputs": [],
   "source": [
    "wrong_df = test_ob.features_df[wrong_predictions]"
   ]
  },
  {
   "cell_type": "code",
   "execution_count": null,
   "metadata": {},
   "outputs": [],
   "source": [
    "for row in wrong_df.iter:\n",
    "    print(row)\n",
    "    for band, i in enumerate(bands):\n",
    "        pred_coeff = [0,0,0]\n",
    "        for j in range(num_pc_components):\n",
    "            colname = str(i)+\"pc\"+str(j)\n",
    "            pred_coeff[i,j] = row[col_name]"
   ]
  },
  {
   "cell_type": "code",
   "execution_count": null,
   "metadata": {},
   "outputs": [],
   "source": [
    "stopper"
   ]
  },
  {
   "cell_type": "code",
   "execution_count": null,
   "metadata": {},
   "outputs": [],
   "source": [
    "#save_fig_base_path = 'Final_Results/'\n",
    "#save_fig_postfix_path = 'case1_master_random_current_date_only_test_30_days_alert_neglect_non_estimated_curves'"
   ]
  },
  {
   "cell_type": "code",
   "execution_count": null,
   "metadata": {},
   "outputs": [],
   "source": [
    "fig = pe.plot_performance_statistics(y_score=y_score)\n",
    "fig.savefig(save_fig_base_path+\"performance_stat\"+save_fig_postfix_path)\n",
    "#fig.savefig(\"randomplt\")\n",
    "plt.show()\n",
    "plt.close('all')\n",
    "#pe.plot_performance_statistics(y_score=y_score, save_fig_path=save_fig_base_path+\"performance_stat\"+save_fig_postfix_path)"
   ]
  },
  {
   "cell_type": "code",
   "execution_count": null,
   "metadata": {},
   "outputs": [],
   "source": [
    "x_limits = (-5000,5000)\n",
    "y_limits = (-5000,5000)\n",
    "fig = train_ob.plot_features_correlation(color_band_dict=color_band_dict, x_limits=x_limits, y_limits=y_limits)\n",
    "fig.savefig(save_fig_base_path+\"pc_correlation\"+save_fig_postfix_path)\n",
    "plt.show()"
   ]
  },
  {
   "cell_type": "code",
   "execution_count": null,
   "metadata": {},
   "outputs": [],
   "source": [
    "#print(train_df)\n",
    "x_limits = (-5000,5000)\n",
    "y_limits = (-5000,5000)\n",
    "fig = train_ob.plot_band_correlation(color_band_dict=color_band_dict, x_limits=x_limits, y_limits=y_limits)\n",
    "fig.savefig(save_fig_base_path+\"band_correlation\"+save_fig_postfix_path)\n",
    "plt.show()"
   ]
  },
  {
   "cell_type": "code",
   "execution_count": null,
   "metadata": {},
   "outputs": [],
   "source": []
  },
  {
   "cell_type": "code",
   "execution_count": null,
   "metadata": {},
   "outputs": [],
   "source": []
  },
  {
   "cell_type": "code",
   "execution_count": null,
   "metadata": {},
   "outputs": [],
   "source": []
  },
  {
   "cell_type": "code",
   "execution_count": null,
   "metadata": {},
   "outputs": [],
   "source": []
  },
  {
   "cell_type": "code",
   "execution_count": null,
   "metadata": {},
   "outputs": [],
   "source": []
  },
  {
   "cell_type": "code",
   "execution_count": null,
   "metadata": {},
   "outputs": [],
   "source": []
  },
  {
   "cell_type": "code",
   "execution_count": null,
   "metadata": {},
   "outputs": [],
   "source": []
  },
  {
   "cell_type": "code",
   "execution_count": null,
   "metadata": {},
   "outputs": [],
   "source": []
  },
  {
   "cell_type": "code",
   "execution_count": null,
   "metadata": {},
   "outputs": [],
   "source": []
  },
  {
   "cell_type": "code",
   "execution_count": null,
   "metadata": {},
   "outputs": [],
   "source": []
  },
  {
   "cell_type": "code",
   "execution_count": null,
   "metadata": {},
   "outputs": [],
   "source": []
  }
 ],
 "metadata": {
  "kernelspec": {
   "display_name": "Python 3",
   "language": "python",
   "name": "python3"
  },
  "language_info": {
   "codemirror_mode": {
    "name": "ipython",
    "version": 3
   },
   "file_extension": ".py",
   "mimetype": "text/x-python",
   "name": "python",
   "nbconvert_exporter": "python",
   "pygments_lexer": "ipython3",
   "version": "3.5.6"
  }
 },
 "nbformat": 4,
 "nbformat_minor": 4
}

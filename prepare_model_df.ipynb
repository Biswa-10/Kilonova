{
 "cells": [
  {
   "cell_type": "code",
   "execution_count": 4,
   "metadata": {},
   "outputs": [],
   "source": [
    "from Predict_lc import PredictLightCurve"
   ]
  },
  {
   "cell_type": "code",
   "execution_count": 5,
   "metadata": {},
   "outputs": [],
   "source": [
    "import numpy as np\n",
    "from dataframe import Data\n",
    "from io_utils import *\n",
    "import matplotlib.pyplot as plt\n",
    "from astropy.table import Table, vstack\n",
    "import pandas as pd"
   ]
  },
  {
   "cell_type": "code",
   "execution_count": 6,
   "metadata": {},
   "outputs": [],
   "source": [
    "dataset = \"ZTF\"\n",
    "train_ob = load_ztf_train_data()\n",
    "test_ob = load_ztf_test_data()\n",
    "\n",
    "train_object_ids = train_ob.get_all_object_ids()\n",
    "train_kilonova_ids = train_ob.get_ids_of_event_type(150)\n",
    "train_kilonova_ids = vstack([train_kilonova_ids, train_ob.get_ids_of_event_type(151)])\n",
    "train_kilonova_ids = train_kilonova_ids['SNID']\n",
    "\n",
    "kn_ids = train_ob.get_ids_of_event_type([150,151])\n",
    "train_ob.df_data.sort(['SNID','MJD'])\n",
    "train_ob.df_metadata.sort(['SNID'])\n",
    "\n",
    "test_object_ids = test_ob.get_all_object_ids()\n",
    "test_kilonova_ids = test_ob.get_ids_of_event_type(150)\n",
    "test_kilonova_ids = vstack([test_kilonova_ids, test_ob.get_ids_of_event_type(151)])\n",
    "test_kilonova_ids = test_kilonova_ids['SNID']\n",
    "test_ob.df_data.sort(['SNID','MJD'])\n",
    "test_ob.df_metadata.sort(['SNID'])\n",
    "\n",
    "bands = ['g', 'r']\n",
    "color_band_dict = {'g':'C2', 'r':'C3'}"
   ]
  },
  {
   "cell_type": "code",
   "execution_count": 7,
   "metadata": {},
   "outputs": [
    {
     "name": "stdout",
     "output_type": "stream",
     "text": [
      "   SNID  \n",
      "---------\n",
      " 21688386\n",
      " 15113109\n",
      " 10708981\n",
      " 13585523\n",
      "  7607910\n",
      "  9881401\n",
      " 16197876\n",
      " 16545088\n",
      " 12489731\n",
      "  4022551\n",
      "      ...\n",
      " 50352467\n",
      "133395303\n",
      " 88455594\n",
      " 87140466\n",
      " 41145506\n",
      " 55269380\n",
      " 26956640\n",
      " 68715807\n",
      " 35214906\n",
      " 55742428\n",
      " 54967150\n",
      "Length = 1000 rows\n"
     ]
    }
   ],
   "source": [
    "print(train_kilonova_ids)"
   ]
  },
  {
   "cell_type": "code",
   "execution_count": 8,
   "metadata": {},
   "outputs": [
    {
     "name": "stdout",
     "output_type": "stream",
     "text": [
      "   SNID  \n",
      "---------\n",
      " 21688386\n",
      " 15113109\n",
      " 10708981\n",
      " 13585523\n",
      "  7607910\n",
      "  9881401\n",
      " 16197876\n",
      " 16545088\n",
      " 12489731\n",
      "  4022551\n",
      "      ...\n",
      " 50352467\n",
      "133395303\n",
      " 88455594\n",
      " 87140466\n",
      " 41145506\n",
      " 55269380\n",
      " 26956640\n",
      " 68715807\n",
      " 35214906\n",
      " 55742428\n",
      " 54967150\n",
      "Length = 1000 rows\n"
     ]
    }
   ],
   "source": [
    "print(kn_ids)"
   ]
  },
  {
   "cell_type": "code",
   "execution_count": 9,
   "metadata": {},
   "outputs": [],
   "source": [
    "def create_features_df(data_ob, decouple_prediction_bands=True, decouple_pc_bands=False, mark_maximum=False, min_flux_threshold=20, num_pc_components=3, use_random_current_date= False, plot_prediction = False):\n",
    "    data_dict = {'id':[],\n",
    "                 'type':[],}\n",
    "\n",
    "    object_ids = data_ob.get_all_object_ids()\n",
    "    #data_object_ids = np.random.permutation(data_object_ids)\n",
    "    data_ob.df_data.sort([data_ob.object_id_col_name,data_ob.time_col_name])\n",
    "    for object_id in object_ids:\n",
    "        event_df = data_ob.get_data_of_event(object_id)\n",
    "        #print(event_df['FLT'])\n",
    "        pc = PredictLightCurve(data_ob, object_id=object_id)\n",
    "        #print(pc.lc.df['FLT'])\n",
    "        #print(pc.lc.band_map.items())\n",
    "        #print(\"------------\")\n",
    "        current_date = None\n",
    "        if use_random_current_date:\n",
    "            median_date = np.median(pc.lc.dates_of_maximum)\n",
    "            current_date = median_date+random()*50-25\n",
    "        coeff_dict, num_pts_dict = pc.predict_lc_coeff(current_date=current_date,num_pc_components=num_pc_components, decouple_pc_bands=decouple_pc_bands, decouple_prediction_bands=decouple_prediction_bands, min_flux_threshold=min_flux_threshold, bands=bands)\n",
    "        data_dict['id'].append(object_id)\n",
    "        #print(data_dict['object_id'])\n",
    "        for i,band in enumerate(bands):\n",
    "            for j in range(1,num_pc_components+1):\n",
    "                col_name = str(i)+'pc'+str(j)\n",
    "                if col_name not in data_dict.keys():\n",
    "                    data_dict[col_name] = []\n",
    "                data_dict[col_name].append(coeff_dict[band][j-1])\n",
    "            col_name = str(i)+'n'\n",
    "            if col_name not in data_dict.keys():\n",
    "                    data_dict[col_name] = []\n",
    "            data_dict[col_name].append(num_pts_dict[band])\n",
    "        object_type = data_ob.get_object_type_number(object_id)\n",
    "        data_dict['type'].append(object_type)\n",
    "        if plot_prediction:\n",
    "            fig = pc.plot_predicted_bands(all_band_coeff_dict=coeff_dict, color_band_dict=color_band_dict, mark_maximum=mark_maximum,axes_lims = False)\n",
    "            plt.show()\n",
    "            plt.close('all')\n",
    "\n",
    "    data_df = pd.DataFrame(data_dict)\n",
    "    data_df = data_df.sample(frac=1).reset_index(drop=True)\n",
    "    return data_df\n",
    "        "
   ]
  },
  {
   "cell_type": "code",
   "execution_count": null,
   "metadata": {
    "scrolled": true
   },
   "outputs": [],
   "source": [
    "train_df = create_features_df(train_ob)\n",
    "test_df = create_features_df(test_ob)"
   ]
  },
  {
   "cell_type": "code",
   "execution_count": null,
   "metadata": {},
   "outputs": [],
   "source": [
    "print(train_df)"
   ]
  },
  {
   "cell_type": "code",
   "execution_count": null,
   "metadata": {},
   "outputs": [],
   "source": [
    "train_df.to_csv('/media/biswajit/drive/Kilonova_datasets/ZTF_20190512/train_features.csv', index=False)\n",
    "test_df.to_csv('/media/biswajit/drive/Kilonova_datasets/ZTF_20190512/test_features.csv', index=False)"
   ]
  },
  {
   "cell_type": "markdown",
   "metadata": {},
   "source": [
    "# Load saved data"
   ]
  },
  {
   "cell_type": "code",
   "execution_count": 98,
   "metadata": {},
   "outputs": [],
   "source": [
    "prediction_type = [103]"
   ]
  },
  {
   "cell_type": "code",
   "execution_count": 99,
   "metadata": {},
   "outputs": [],
   "source": [
    "def add_y_val(data_df, data_ob, prediction_type):\n",
    "    data_df['y'] = data_df['id'].map(lambda ob_id: 1 if data_ob.get_object_type_number(ob_id) in prediction_type else 0)\n",
    "    return data_df"
   ]
  },
  {
   "cell_type": "code",
   "execution_count": 100,
   "metadata": {},
   "outputs": [],
   "source": [
    "train_df = pd.read_csv('/media/biswajit/drive/Kilonova_datasets/ZTF_20190512/train_features.csv')\n",
    "test_df = pd.read_csv('/media/biswajit/drive/Kilonova_datasets/ZTF_20190512/test_features.csv')"
   ]
  },
  {
   "cell_type": "code",
   "execution_count": 101,
   "metadata": {},
   "outputs": [],
   "source": [
    "train_df = add_y_val(train_df, data_ob=train_ob, prediction_type=prediction_type )\n",
    "test_df = add_y_val(test_df, data_ob=test_ob, prediction_type=prediction_type)"
   ]
  },
  {
   "cell_type": "code",
   "execution_count": 122,
   "metadata": {
    "scrolled": true
   },
   "outputs": [
    {
     "ename": "KeyError",
     "evalue": "'MJD'",
     "output_type": "error",
     "traceback": [
      "\u001b[0;31m---------------------------------------------------------------------------\u001b[0m",
      "\u001b[0;31mKeyError\u001b[0m                                  Traceback (most recent call last)",
      "\u001b[0;32m/home/biswajit/anaconda3/envs/fink/lib/python3.5/site-packages/pandas/core/indexes/base.py\u001b[0m in \u001b[0;36mget_loc\u001b[0;34m(self, key, method, tolerance)\u001b[0m\n\u001b[1;32m   2896\u001b[0m             \u001b[0;32mtry\u001b[0m\u001b[0;34m:\u001b[0m\u001b[0;34m\u001b[0m\u001b[0m\n\u001b[0;32m-> 2897\u001b[0;31m                 \u001b[0;32mreturn\u001b[0m \u001b[0mself\u001b[0m\u001b[0;34m.\u001b[0m\u001b[0m_engine\u001b[0m\u001b[0;34m.\u001b[0m\u001b[0mget_loc\u001b[0m\u001b[0;34m(\u001b[0m\u001b[0mkey\u001b[0m\u001b[0;34m)\u001b[0m\u001b[0;34m\u001b[0m\u001b[0m\n\u001b[0m\u001b[1;32m   2898\u001b[0m             \u001b[0;32mexcept\u001b[0m \u001b[0mKeyError\u001b[0m\u001b[0;34m:\u001b[0m\u001b[0;34m\u001b[0m\u001b[0m\n",
      "\u001b[0;32mpandas/_libs/index.pyx\u001b[0m in \u001b[0;36mpandas._libs.index.IndexEngine.get_loc\u001b[0;34m()\u001b[0m\n",
      "\u001b[0;32mpandas/_libs/index.pyx\u001b[0m in \u001b[0;36mpandas._libs.index.IndexEngine.get_loc\u001b[0;34m()\u001b[0m\n",
      "\u001b[0;32mpandas/_libs/hashtable_class_helper.pxi\u001b[0m in \u001b[0;36mpandas._libs.hashtable.PyObjectHashTable.get_item\u001b[0;34m()\u001b[0m\n",
      "\u001b[0;32mpandas/_libs/hashtable_class_helper.pxi\u001b[0m in \u001b[0;36mpandas._libs.hashtable.PyObjectHashTable.get_item\u001b[0;34m()\u001b[0m\n",
      "\u001b[0;31mKeyError\u001b[0m: 'MJD'",
      "\nDuring handling of the above exception, another exception occurred:\n",
      "\u001b[0;31mKeyError\u001b[0m                                  Traceback (most recent call last)",
      "\u001b[0;32m<ipython-input-122-29763b4708e5>\u001b[0m in \u001b[0;36m<module>\u001b[0;34m()\u001b[0m\n\u001b[0;32m----> 1\u001b[0;31m \u001b[0mprint\u001b[0m\u001b[0;34m(\u001b[0m\u001b[0mnp\u001b[0m\u001b[0;34m.\u001b[0m\u001b[0mamin\u001b[0m\u001b[0;34m(\u001b[0m\u001b[0mtrain_df\u001b[0m\u001b[0;34m[\u001b[0m\u001b[0;34m'MJD'\u001b[0m\u001b[0;34m]\u001b[0m\u001b[0;34m)\u001b[0m\u001b[0;34m)\u001b[0m\u001b[0;34m\u001b[0m\u001b[0m\n\u001b[0m",
      "\u001b[0;32m/home/biswajit/anaconda3/envs/fink/lib/python3.5/site-packages/pandas/core/frame.py\u001b[0m in \u001b[0;36m__getitem__\u001b[0;34m(self, key)\u001b[0m\n\u001b[1;32m   2993\u001b[0m             \u001b[0;32mif\u001b[0m \u001b[0mself\u001b[0m\u001b[0;34m.\u001b[0m\u001b[0mcolumns\u001b[0m\u001b[0;34m.\u001b[0m\u001b[0mnlevels\u001b[0m \u001b[0;34m>\u001b[0m \u001b[0;36m1\u001b[0m\u001b[0;34m:\u001b[0m\u001b[0;34m\u001b[0m\u001b[0m\n\u001b[1;32m   2994\u001b[0m                 \u001b[0;32mreturn\u001b[0m \u001b[0mself\u001b[0m\u001b[0;34m.\u001b[0m\u001b[0m_getitem_multilevel\u001b[0m\u001b[0;34m(\u001b[0m\u001b[0mkey\u001b[0m\u001b[0;34m)\u001b[0m\u001b[0;34m\u001b[0m\u001b[0m\n\u001b[0;32m-> 2995\u001b[0;31m             \u001b[0mindexer\u001b[0m \u001b[0;34m=\u001b[0m \u001b[0mself\u001b[0m\u001b[0;34m.\u001b[0m\u001b[0mcolumns\u001b[0m\u001b[0;34m.\u001b[0m\u001b[0mget_loc\u001b[0m\u001b[0;34m(\u001b[0m\u001b[0mkey\u001b[0m\u001b[0;34m)\u001b[0m\u001b[0;34m\u001b[0m\u001b[0m\n\u001b[0m\u001b[1;32m   2996\u001b[0m             \u001b[0;32mif\u001b[0m \u001b[0mis_integer\u001b[0m\u001b[0;34m(\u001b[0m\u001b[0mindexer\u001b[0m\u001b[0;34m)\u001b[0m\u001b[0;34m:\u001b[0m\u001b[0;34m\u001b[0m\u001b[0m\n\u001b[1;32m   2997\u001b[0m                 \u001b[0mindexer\u001b[0m \u001b[0;34m=\u001b[0m \u001b[0;34m[\u001b[0m\u001b[0mindexer\u001b[0m\u001b[0;34m]\u001b[0m\u001b[0;34m\u001b[0m\u001b[0m\n",
      "\u001b[0;32m/home/biswajit/anaconda3/envs/fink/lib/python3.5/site-packages/pandas/core/indexes/base.py\u001b[0m in \u001b[0;36mget_loc\u001b[0;34m(self, key, method, tolerance)\u001b[0m\n\u001b[1;32m   2897\u001b[0m                 \u001b[0;32mreturn\u001b[0m \u001b[0mself\u001b[0m\u001b[0;34m.\u001b[0m\u001b[0m_engine\u001b[0m\u001b[0;34m.\u001b[0m\u001b[0mget_loc\u001b[0m\u001b[0;34m(\u001b[0m\u001b[0mkey\u001b[0m\u001b[0;34m)\u001b[0m\u001b[0;34m\u001b[0m\u001b[0m\n\u001b[1;32m   2898\u001b[0m             \u001b[0;32mexcept\u001b[0m \u001b[0mKeyError\u001b[0m\u001b[0;34m:\u001b[0m\u001b[0;34m\u001b[0m\u001b[0m\n\u001b[0;32m-> 2899\u001b[0;31m                 \u001b[0;32mreturn\u001b[0m \u001b[0mself\u001b[0m\u001b[0;34m.\u001b[0m\u001b[0m_engine\u001b[0m\u001b[0;34m.\u001b[0m\u001b[0mget_loc\u001b[0m\u001b[0;34m(\u001b[0m\u001b[0mself\u001b[0m\u001b[0;34m.\u001b[0m\u001b[0m_maybe_cast_indexer\u001b[0m\u001b[0;34m(\u001b[0m\u001b[0mkey\u001b[0m\u001b[0;34m)\u001b[0m\u001b[0;34m)\u001b[0m\u001b[0;34m\u001b[0m\u001b[0m\n\u001b[0m\u001b[1;32m   2900\u001b[0m         \u001b[0mindexer\u001b[0m \u001b[0;34m=\u001b[0m \u001b[0mself\u001b[0m\u001b[0;34m.\u001b[0m\u001b[0mget_indexer\u001b[0m\u001b[0;34m(\u001b[0m\u001b[0;34m[\u001b[0m\u001b[0mkey\u001b[0m\u001b[0;34m]\u001b[0m\u001b[0;34m,\u001b[0m \u001b[0mmethod\u001b[0m\u001b[0;34m=\u001b[0m\u001b[0mmethod\u001b[0m\u001b[0;34m,\u001b[0m \u001b[0mtolerance\u001b[0m\u001b[0;34m=\u001b[0m\u001b[0mtolerance\u001b[0m\u001b[0;34m)\u001b[0m\u001b[0;34m\u001b[0m\u001b[0m\n\u001b[1;32m   2901\u001b[0m         \u001b[0;32mif\u001b[0m \u001b[0mindexer\u001b[0m\u001b[0;34m.\u001b[0m\u001b[0mndim\u001b[0m \u001b[0;34m>\u001b[0m \u001b[0;36m1\u001b[0m \u001b[0;32mor\u001b[0m \u001b[0mindexer\u001b[0m\u001b[0;34m.\u001b[0m\u001b[0msize\u001b[0m \u001b[0;34m>\u001b[0m \u001b[0;36m1\u001b[0m\u001b[0;34m:\u001b[0m\u001b[0;34m\u001b[0m\u001b[0m\n",
      "\u001b[0;32mpandas/_libs/index.pyx\u001b[0m in \u001b[0;36mpandas._libs.index.IndexEngine.get_loc\u001b[0;34m()\u001b[0m\n",
      "\u001b[0;32mpandas/_libs/index.pyx\u001b[0m in \u001b[0;36mpandas._libs.index.IndexEngine.get_loc\u001b[0;34m()\u001b[0m\n",
      "\u001b[0;32mpandas/_libs/hashtable_class_helper.pxi\u001b[0m in \u001b[0;36mpandas._libs.hashtable.PyObjectHashTable.get_item\u001b[0;34m()\u001b[0m\n",
      "\u001b[0;32mpandas/_libs/hashtable_class_helper.pxi\u001b[0m in \u001b[0;36mpandas._libs.hashtable.PyObjectHashTable.get_item\u001b[0;34m()\u001b[0m\n",
      "\u001b[0;31mKeyError\u001b[0m: 'MJD'"
     ]
    }
   ],
   "source": [
    "print(train_df)"
   ]
  },
  {
   "cell_type": "code",
   "execution_count": 103,
   "metadata": {},
   "outputs": [
    {
     "name": "stdout",
     "output_type": "stream",
     "text": [
      "200\n"
     ]
    }
   ],
   "source": [
    "print(len(train_df['id'][train_df['y'].values==1].values))"
   ]
  },
  {
   "cell_type": "code",
   "execution_count": 104,
   "metadata": {},
   "outputs": [],
   "source": [
    "train_df = train_df.sample(frac=1).reset_index(drop=True)"
   ]
  },
  {
   "cell_type": "markdown",
   "metadata": {},
   "source": [
    "# Train classifier"
   ]
  },
  {
   "cell_type": "code",
   "execution_count": 105,
   "metadata": {},
   "outputs": [],
   "source": [
    "num_pc_components = 3\n",
    "\n",
    "cols = []\n",
    "for i,band in enumerate(bands):\n",
    "    for j in range(1,num_pc_components+1):\n",
    "        col_name = str(i)+'pc'+str(j)\n",
    "        cols.append(col_name)\n",
    "        \n",
    "x_train = train_df[cols].values\n",
    "y_train = train_df['y'].values\n",
    "\n",
    "x_test = test_df[cols].values\n",
    "y_test = test_df['y'].values"
   ]
  },
  {
   "cell_type": "code",
   "execution_count": 106,
   "metadata": {},
   "outputs": [
    {
     "name": "stdout",
     "output_type": "stream",
     "text": [
      "[0 0 0 ... 0 0 0]\n"
     ]
    }
   ],
   "source": [
    "print(y_test)"
   ]
  },
  {
   "cell_type": "code",
   "execution_count": 107,
   "metadata": {},
   "outputs": [],
   "source": [
    "from sklearn.ensemble import RandomForestClassifier\n",
    "\n",
    "clf=RandomForestClassifier(n_estimators=100)\n",
    "\n",
    "clf.fit(x_train,y_train)\n",
    "\n",
    "y_pred=clf.predict(x_test)\n",
    "y_score= clf.predict_proba(x_test)"
   ]
  },
  {
   "cell_type": "code",
   "execution_count": 108,
   "metadata": {},
   "outputs": [
    {
     "name": "stdout",
     "output_type": "stream",
     "text": [
      "300\n",
      "2\n"
     ]
    }
   ],
   "source": [
    "true_index = y_test ==1\n",
    "y_test_true = y_test[true_index]\n",
    "y_pred_true = y_pred[true_index]\n",
    "print(np.sum(y_test_true))\n",
    "print(np.sum(y_pred_true))"
   ]
  },
  {
   "cell_type": "code",
   "execution_count": 109,
   "metadata": {},
   "outputs": [
    {
     "name": "stdout",
     "output_type": "stream",
     "text": [
      "[0.1  0.02 0.11 ... 0.07 0.04 0.11]\n"
     ]
    }
   ],
   "source": [
    "print(y_score[:,1])"
   ]
  },
  {
   "cell_type": "code",
   "execution_count": 110,
   "metadata": {},
   "outputs": [
    {
     "name": "stdout",
     "output_type": "stream",
     "text": [
      "Accuracy: 0.9452727272727273\n"
     ]
    }
   ],
   "source": [
    "from sklearn import metrics\n",
    "# Model Accuracy, how often is the classifier correct?\n",
    "print(\"Accuracy:\",metrics.accuracy_score(y_test, y_pred))"
   ]
  },
  {
   "cell_type": "code",
   "execution_count": 111,
   "metadata": {},
   "outputs": [],
   "source": [
    "fpr, tpr, thresholds = metrics.roc_curve(y_test, y_score[:,1])\n",
    "roc_auc = metrics.auc(fpr, tpr)"
   ]
  },
  {
   "cell_type": "code",
   "execution_count": 112,
   "metadata": {},
   "outputs": [
    {
     "data": {
      "image/png": "[encoded data removed]",
      "text/plain": [
       "<Figure size 432x288 with 1 Axes>"
      ]
     },
     "metadata": {
      "needs_background": "light"
     },
     "output_type": "display_data"
    }
   ],
   "source": [
    "import matplotlib.pyplot as plt\n",
    "plt.title('Receiver Operating Characteristic')\n",
    "plt.plot(fpr, tpr, 'b', label = 'AUC = %0.2f' % roc_auc)\n",
    "plt.legend(loc = 'lower right')\n",
    "plt.plot([0, 1], [0, 1],'r--')\n",
    "plt.xlim([0, 1])\n",
    "plt.ylim([0, 1])\n",
    "plt.ylabel('True Positive Rate')\n",
    "plt.xlabel('False Positive Rate')\n",
    "plt.show()"
   ]
  },
  {
   "cell_type": "code",
   "execution_count": 113,
   "metadata": {},
   "outputs": [
    {
     "name": "stdout",
     "output_type": "stream",
     "text": [
      "[[5197    3]\n",
      " [ 298    2]]\n"
     ]
    }
   ],
   "source": [
    "print(metrics.confusion_matrix(y_test, y_pred))"
   ]
  },
  {
   "cell_type": "code",
   "execution_count": 114,
   "metadata": {},
   "outputs": [],
   "source": [
    "prediction_stat={}\n",
    "for i,object_id in enumerate(test_df['id']):\n",
    "    if isinstance(prediction_type, int):\n",
    "        prediction_type = [prediction_type]\n",
    "    #print(i)\n",
    "    type_no = test_ob.get_object_type_number(object_id)\n",
    "    \n",
    "    if type_no not in prediction_stat:\n",
    "        prediction_stat[type_no] = [0,1]\n",
    "    else: \n",
    "        prediction_stat[type_no][1] = prediction_stat[type_no][1] + 1\n",
    "    \n",
    "    if (type_no in prediction_type) & (y_pred[i] ==1):\n",
    "        prediction_stat[type_no][0]=prediction_stat[type_no][0]+1\n",
    "\n",
    "    elif (y_pred[i]==0)&(type_no not in prediction_type):\n",
    "        prediction_stat[type_no][0]=prediction_stat[type_no][0]+1"
   ]
  },
  {
   "cell_type": "code",
   "execution_count": null,
   "metadata": {},
   "outputs": [],
   "source": []
  },
  {
   "cell_type": "code",
   "execution_count": 115,
   "metadata": {},
   "outputs": [],
   "source": [
    "def ztf_ob_type_name(type_no):\n",
    "    if type_no == 141:\n",
    "        return '91BG'\n",
    "    if type_no == 143:\n",
    "        return 'Iax'\n",
    "    if type_no == 145:\n",
    "        return 'point Ia'\n",
    "    if type_no == 150:\n",
    "        return 'KN GW170817'\n",
    "    if type_no == 151:\n",
    "        return 'KN Karsen 2017'\n",
    "    if type_no == 160:\n",
    "        return 'Superluminous SN'\n",
    "    if type_no == 161:\n",
    "        return 'pair instability SN'\n",
    "    if type_no == 162:\n",
    "        return 'ILOT'\n",
    "    if type_no == 163:\n",
    "        return 'CART'\n",
    "    if type_no == 164:\n",
    "        return 'TDE'\n",
    "    if type_no == 170:\n",
    "        return 'AGN'\n",
    "    if (type_no == 180)|(type_no == 181)|(type_no == 183)|(type_no == 190)|(type_no == 191)|(type_no == 192):\n",
    "        return 'Galactic Trn'\n",
    "    if type_no == 114:\n",
    "        return 'MOSFIT-IIn'\n",
    "    if type_no == 113:\n",
    "        return 'Core collapse Type II using pca '\n",
    "    if type_no == 112:\n",
    "        return 'Core collapse Type II'\n",
    "    if type_no == 102:\n",
    "        return 'MOSFIT-Ibc'\n",
    "    if type_no == 103:\n",
    "        return 'Core collapse Type Ibc'\n",
    "    if type_no == 101:\n",
    "        return 'Ia SN'\n"
   ]
  },
  {
   "cell_type": "code",
   "execution_count": 116,
   "metadata": {},
   "outputs": [],
   "source": [
    "x_data_0=[]\n",
    "hist_0_total = []\n",
    "hist_0_correct_pred = []\n",
    "\n",
    "x_data_1=[]\n",
    "hist_1_total = []\n",
    "hist_1_correct_pred = []\n",
    "\n",
    "keys =list(prediction_stat.keys())\n",
    "keys.sort()\n",
    "#print(key_details)\n",
    "for key in keys:\n",
    "    \n",
    "    \n",
    "    if key in prediction_type:\n",
    "        x_data_1.append(ztf_ob_type_name(key))\n",
    "        hist_1_correct_pred.append(prediction_stat[key][0])\n",
    "        hist_1_total.append(prediction_stat[key][1])\n",
    "    else:\n",
    "        x_data_0.append(ztf_ob_type_name(key))\n",
    "        hist_0_correct_pred.append(prediction_stat[key][0])\n",
    "        hist_0_total.append(prediction_stat[key][1])\n"
   ]
  },
  {
   "cell_type": "code",
   "execution_count": 117,
   "metadata": {},
   "outputs": [],
   "source": [
    "from matplotlib.colors import to_rgba"
   ]
  },
  {
   "cell_type": "code",
   "execution_count": 118,
   "metadata": {},
   "outputs": [
    {
     "data": {
      "image/png": "[encoded data removed]",
      "text/plain": [
       "<Figure size 504x720 with 1 Axes>"
      ]
     },
     "metadata": {
      "needs_background": "light"
     },
     "output_type": "display_data"
    }
   ],
   "source": [
    "fig = plt.figure(figsize = (7,10))\n",
    "ax = fig.add_axes([0,0,1,1])\n",
    "ax.barh(x_data_0,hist_0_total,alpha=.1, color='red',ec='black', linewidth=3)\n",
    "ax.barh(x_data_0, hist_0_correct_pred , alpha=.6, color='skyblue',ec='black', label='Correctly classified: class 0')\n",
    "ax.barh(x_data_1,hist_1_total,alpha=.1,color='red',ec='black',linewidth=3)\n",
    "ax.barh(x_data_1, hist_1_correct_pred , alpha=.6, color='royalblue', ec='black',label='Correctly classified: class 1')\n",
    "plt.rc('ytick', labelsize=20) \n",
    "plt.rc('xtick', labelsize=20)\n",
    "#for i, v in enumerate(y):\n",
    "#    ax.text(v + 3, i + .25, str(v), color='blue', fontweight='bold')\n",
    "\n",
    "plt.legend()\n",
    "#plt.savefig('important_plots/correct_classifications_plot')\n",
    "#plt.xticks(rotation=90)\n",
    "plt.show()"
   ]
  },
  {
   "cell_type": "code",
   "execution_count": null,
   "metadata": {},
   "outputs": [],
   "source": []
  },
  {
   "cell_type": "code",
   "execution_count": null,
   "metadata": {},
   "outputs": [],
   "source": []
  }
 ],
 "metadata": {
  "kernelspec": {
   "display_name": "Python 3",
   "language": "python",
   "name": "python3"
  },
  "language_info": {
   "codemirror_mode": {
    "name": "ipython",
    "version": 3
   },
   "file_extension": ".py",
   "mimetype": "text/x-python",
   "name": "python",
   "nbconvert_exporter": "python",
   "pygments_lexer": "ipython3",
   "version": "3.5.6"
  }
 },
 "nbformat": 4,
 "nbformat_minor": 4
}
